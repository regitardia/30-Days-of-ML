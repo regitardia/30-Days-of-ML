{
 "cells": [
  {
   "cell_type": "markdown",
   "id": "6efb5697",
   "metadata": {
    "papermill": {
     "duration": 0.020613,
     "end_time": "2021-08-15T00:07:02.851564",
     "exception": false,
     "start_time": "2021-08-15T00:07:02.830951",
     "status": "completed"
    },
    "tags": []
   },
   "source": [
    "**This notebook is an exercise in the [Python](https://www.kaggle.com/learn/python) course.  You can reference the tutorial at [this link](https://www.kaggle.com/colinmorris/loops-and-list-comprehensions).**\n",
    "\n",
    "---\n"
   ]
  },
  {
   "cell_type": "markdown",
   "id": "c2c79890",
   "metadata": {
    "papermill": {
     "duration": 0.018134,
     "end_time": "2021-08-15T00:07:02.890352",
     "exception": false,
     "start_time": "2021-08-15T00:07:02.872218",
     "status": "completed"
    },
    "tags": []
   },
   "source": [
    "With all you've learned, you can start writing much more interesting programs. See if you can solve the problems below.\n",
    "\n",
    "As always, run the setup code below before working on the questions."
   ]
  },
  {
   "cell_type": "code",
   "execution_count": 1,
   "id": "161a762b",
   "metadata": {
    "execution": {
     "iopub.execute_input": "2021-08-15T00:07:02.941854Z",
     "iopub.status.busy": "2021-08-15T00:07:02.941156Z",
     "iopub.status.idle": "2021-08-15T00:07:02.991405Z",
     "shell.execute_reply": "2021-08-15T00:07:02.991976Z",
     "shell.execute_reply.started": "2021-08-14T23:52:05.785640Z"
    },
    "papermill": {
     "duration": 0.082178,
     "end_time": "2021-08-15T00:07:02.992297",
     "exception": false,
     "start_time": "2021-08-15T00:07:02.910119",
     "status": "completed"
    },
    "tags": []
   },
   "outputs": [
    {
     "name": "stdout",
     "output_type": "stream",
     "text": [
      "Setup complete.\n"
     ]
    }
   ],
   "source": [
    "from learntools.core import binder; binder.bind(globals())\n",
    "from learntools.python.ex5 import *\n",
    "print('Setup complete.')"
   ]
  },
  {
   "cell_type": "markdown",
   "id": "d2b4162a",
   "metadata": {
    "papermill": {
     "duration": 0.019559,
     "end_time": "2021-08-15T00:07:03.032817",
     "exception": false,
     "start_time": "2021-08-15T00:07:03.013258",
     "status": "completed"
    },
    "tags": []
   },
   "source": [
    "# 1.\n",
    "\n",
    "Have you ever felt debugging involved a bit of luck? The following program has a bug. Try to identify the bug and fix it."
   ]
  },
  {
   "cell_type": "code",
   "execution_count": 2,
   "id": "68f62bb6",
   "metadata": {
    "execution": {
     "iopub.execute_input": "2021-08-15T00:07:03.167633Z",
     "iopub.status.busy": "2021-08-15T00:07:03.165593Z",
     "iopub.status.idle": "2021-08-15T00:07:03.170626Z",
     "shell.execute_reply": "2021-08-15T00:07:03.171123Z",
     "shell.execute_reply.started": "2021-08-14T23:52:07.767959Z"
    },
    "papermill": {
     "duration": 0.120117,
     "end_time": "2021-08-15T00:07:03.171305",
     "exception": false,
     "start_time": "2021-08-15T00:07:03.051188",
     "status": "completed"
    },
    "scrolled": true,
    "tags": []
   },
   "outputs": [],
   "source": [
    "def has_lucky_number(nums):\n",
    "    \"\"\"Return whether the given list of numbers is lucky. A lucky list contains\n",
    "    at least one number divisible by 7.\n",
    "    \"\"\"\n",
    "    for num in nums:\n",
    "        if num % 7 == 0:\n",
    "            return True\n",
    "\n",
    "    return False"
   ]
  },
  {
   "cell_type": "code",
   "execution_count": 3,
   "id": "1116af3d",
   "metadata": {
    "execution": {
     "iopub.execute_input": "2021-08-15T00:07:03.221462Z",
     "iopub.status.busy": "2021-08-15T00:07:03.220037Z",
     "iopub.status.idle": "2021-08-15T00:07:03.225159Z",
     "shell.execute_reply": "2021-08-15T00:07:03.224651Z",
     "shell.execute_reply.started": "2021-08-14T23:52:10.535451Z"
    },
    "papermill": {
     "duration": 0.03296,
     "end_time": "2021-08-15T00:07:03.225314",
     "exception": false,
     "start_time": "2021-08-15T00:07:03.192354",
     "status": "completed"
    },
    "tags": []
   },
   "outputs": [
    {
     "data": {
      "text/plain": [
       "True"
      ]
     },
     "execution_count": 3,
     "metadata": {},
     "output_type": "execute_result"
    }
   ],
   "source": [
    "nums = [7,3,1]\n",
    "has_lucky_number(nums)"
   ]
  },
  {
   "cell_type": "markdown",
   "id": "48657dcf",
   "metadata": {
    "papermill": {
     "duration": 0.020175,
     "end_time": "2021-08-15T00:07:03.264617",
     "exception": false,
     "start_time": "2021-08-15T00:07:03.244442",
     "status": "completed"
    },
    "tags": []
   },
   "source": [
    "Try to identify the bug and fix it in the cell below:"
   ]
  },
  {
   "cell_type": "code",
   "execution_count": 4,
   "id": "1777a936",
   "metadata": {
    "execution": {
     "iopub.execute_input": "2021-08-15T00:07:03.309508Z",
     "iopub.status.busy": "2021-08-15T00:07:03.308167Z",
     "iopub.status.idle": "2021-08-15T00:07:03.317718Z",
     "shell.execute_reply": "2021-08-15T00:07:03.318199Z",
     "shell.execute_reply.started": "2021-08-14T23:52:49.822615Z"
    },
    "papermill": {
     "duration": 0.035049,
     "end_time": "2021-08-15T00:07:03.318384",
     "exception": false,
     "start_time": "2021-08-15T00:07:03.283335",
     "status": "completed"
    },
    "tags": []
   },
   "outputs": [
    {
     "data": {
      "application/javascript": [
       "parent.postMessage({\"jupyterEvent\": \"custom.exercise_interaction\", \"data\": {\"outcomeType\": 1, \"valueTowardsCompletion\": 0.25, \"interactionType\": 1, \"questionType\": 2, \"questionId\": \"1_EarlyExitDebugging\", \"learnToolsVersion\": \"0.3.4\", \"failureMessage\": \"\", \"exceptionClass\": \"\", \"trace\": \"\"}}, \"*\")"
      ],
      "text/plain": [
       "<IPython.core.display.Javascript object>"
      ]
     },
     "metadata": {},
     "output_type": "display_data"
    },
    {
     "data": {
      "text/markdown": [
       "<span style=\"color:#33cc33\">Correct:</span> \n",
       "\n",
       "Remember that `return` causes a function to exit immediately. So our original implementation always ran for just one iteration. We can only return `False` if we've looked at every element of the list (and confirmed that none of them are lucky). Though we can return early if the answer is `True`:\n",
       "\n",
       "```python\n",
       "def has_lucky_number(nums):\n",
       "    for num in nums:\n",
       "        if num % 7 == 0:\n",
       "            return True\n",
       "    # We've exhausted the list without finding a lucky number\n",
       "    return False\n",
       "```\n",
       "\n",
       "Here's a one-line version using a list comprehension with Python's `any` function (you can read about what it does by calling `help(any)`):\n",
       "\n",
       "```python\n",
       "def has_lucky_number(nums):\n",
       "    return any([num % 7 == 0 for num in nums])\n",
       "```\n"
      ],
      "text/plain": [
       "Correct: \n",
       "\n",
       "Remember that `return` causes a function to exit immediately. So our original implementation always ran for just one iteration. We can only return `False` if we've looked at every element of the list (and confirmed that none of them are lucky). Though we can return early if the answer is `True`:\n",
       "\n",
       "```python\n",
       "def has_lucky_number(nums):\n",
       "    for num in nums:\n",
       "        if num % 7 == 0:\n",
       "            return True\n",
       "    # We've exhausted the list without finding a lucky number\n",
       "    return False\n",
       "```\n",
       "\n",
       "Here's a one-line version using a list comprehension with Python's `any` function (you can read about what it does by calling `help(any)`):\n",
       "\n",
       "```python\n",
       "def has_lucky_number(nums):\n",
       "    return any([num % 7 == 0 for num in nums])\n",
       "```"
      ]
     },
     "metadata": {},
     "output_type": "display_data"
    }
   ],
   "source": [
    "def has_lucky_number(nums):\n",
    "    \"\"\"Return whether the given list of numbers is lucky. A lucky list contains\n",
    "    at least one number divisible by 7.\n",
    "    \"\"\"\n",
    "    for num in nums:\n",
    "        if num % 7 == 0:\n",
    "            return True\n",
    "        \n",
    "    return False\n",
    "\n",
    "# Check your answer\n",
    "q1.check()"
   ]
  },
  {
   "cell_type": "code",
   "execution_count": 5,
   "id": "f4a1cad9",
   "metadata": {
    "execution": {
     "iopub.execute_input": "2021-08-15T00:07:03.363999Z",
     "iopub.status.busy": "2021-08-15T00:07:03.362981Z",
     "iopub.status.idle": "2021-08-15T00:07:03.370540Z",
     "shell.execute_reply": "2021-08-15T00:07:03.369898Z",
     "shell.execute_reply.started": "2021-08-14T23:53:18.734709Z"
    },
    "papermill": {
     "duration": 0.03264,
     "end_time": "2021-08-15T00:07:03.370692",
     "exception": false,
     "start_time": "2021-08-15T00:07:03.338052",
     "status": "completed"
    },
    "tags": []
   },
   "outputs": [
    {
     "data": {
      "application/javascript": [
       "parent.postMessage({\"jupyterEvent\": \"custom.exercise_interaction\", \"data\": {\"interactionType\": 3, \"questionType\": 2, \"questionId\": \"1_EarlyExitDebugging\", \"learnToolsVersion\": \"0.3.4\", \"valueTowardsCompletion\": 0.0, \"failureMessage\": \"\", \"exceptionClass\": \"\", \"trace\": \"\", \"outcomeType\": 4}}, \"*\")"
      ],
      "text/plain": [
       "<IPython.core.display.Javascript object>"
      ]
     },
     "metadata": {},
     "output_type": "display_data"
    },
    {
     "data": {
      "text/markdown": [
       "<span style=\"color:#33cc99\">Solution:</span> Remember that `return` causes a function to exit immediately. So our original implementation always ran for just one iteration. We can only return `False` if we've looked at every element of the list (and confirmed that none of them are lucky). Though we can return early if the answer is `True`:\n",
       "\n",
       "```python\n",
       "def has_lucky_number(nums):\n",
       "    for num in nums:\n",
       "        if num % 7 == 0:\n",
       "            return True\n",
       "    # We've exhausted the list without finding a lucky number\n",
       "    return False\n",
       "```\n",
       "\n",
       "Here's a one-line version using a list comprehension with Python's `any` function (you can read about what it does by calling `help(any)`):\n",
       "\n",
       "```python\n",
       "def has_lucky_number(nums):\n",
       "    return any([num % 7 == 0 for num in nums])\n",
       "```\n"
      ],
      "text/plain": [
       "Solution: Remember that `return` causes a function to exit immediately. So our original implementation always ran for just one iteration. We can only return `False` if we've looked at every element of the list (and confirmed that none of them are lucky). Though we can return early if the answer is `True`:\n",
       "\n",
       "```python\n",
       "def has_lucky_number(nums):\n",
       "    for num in nums:\n",
       "        if num % 7 == 0:\n",
       "            return True\n",
       "    # We've exhausted the list without finding a lucky number\n",
       "    return False\n",
       "```\n",
       "\n",
       "Here's a one-line version using a list comprehension with Python's `any` function (you can read about what it does by calling `help(any)`):\n",
       "\n",
       "```python\n",
       "def has_lucky_number(nums):\n",
       "    return any([num % 7 == 0 for num in nums])\n",
       "```"
      ]
     },
     "metadata": {},
     "output_type": "display_data"
    }
   ],
   "source": [
    "#q1.hint()\n",
    "q1.solution()"
   ]
  },
  {
   "cell_type": "markdown",
   "id": "818cf518",
   "metadata": {
    "papermill": {
     "duration": 0.021267,
     "end_time": "2021-08-15T00:07:03.413269",
     "exception": false,
     "start_time": "2021-08-15T00:07:03.392002",
     "status": "completed"
    },
    "tags": []
   },
   "source": [
    "# 2.\n",
    "Look at the Python expression below. What do you think we'll get when we run it? When you've made your prediction, uncomment the code and run the cell to see if you were right."
   ]
  },
  {
   "cell_type": "code",
   "execution_count": 6,
   "id": "5dd572f3",
   "metadata": {
    "execution": {
     "iopub.execute_input": "2021-08-15T00:07:03.463142Z",
     "iopub.status.busy": "2021-08-15T00:07:03.462287Z",
     "iopub.status.idle": "2021-08-15T00:07:03.538895Z",
     "shell.execute_reply": "2021-08-15T00:07:03.537096Z",
     "shell.execute_reply.started": "2021-08-14T23:54:00.030534Z"
    },
    "papermill": {
     "duration": 0.104744,
     "end_time": "2021-08-15T00:07:03.539314",
     "exception": true,
     "start_time": "2021-08-15T00:07:03.434570",
     "status": "failed"
    },
    "tags": []
   },
   "outputs": [
    {
     "ename": "TypeError",
     "evalue": "'>' not supported between instances of 'list' and 'int'",
     "output_type": "error",
     "traceback": [
      "\u001b[0;31m---------------------------------------------------------------------------\u001b[0m",
      "\u001b[0;31mTypeError\u001b[0m                                 Traceback (most recent call last)",
      "\u001b[0;32m<ipython-input-6-6f064fcfe2b9>\u001b[0m in \u001b[0;36m<module>\u001b[0;34m\u001b[0m\n\u001b[0;32m----> 1\u001b[0;31m \u001b[0;34m[\u001b[0m\u001b[0;36m1\u001b[0m\u001b[0;34m,\u001b[0m \u001b[0;36m2\u001b[0m\u001b[0;34m,\u001b[0m \u001b[0;36m3\u001b[0m\u001b[0;34m,\u001b[0m \u001b[0;36m4\u001b[0m\u001b[0;34m]\u001b[0m \u001b[0;34m>\u001b[0m \u001b[0;36m2\u001b[0m\u001b[0;34m\u001b[0m\u001b[0;34m\u001b[0m\u001b[0m\n\u001b[0m",
      "\u001b[0;31mTypeError\u001b[0m: '>' not supported between instances of 'list' and 'int'"
     ]
    }
   ],
   "source": [
    "[1, 2, 3, 4] > 2"
   ]
  },
  {
   "cell_type": "markdown",
   "id": "3d6dc5fc",
   "metadata": {
    "papermill": {
     "duration": null,
     "end_time": null,
     "exception": null,
     "start_time": null,
     "status": "pending"
    },
    "tags": []
   },
   "source": [
    "R and Python have some libraries (like numpy and pandas) compare each element of the list to 2 (i.e. do an 'element-wise' comparison) and give us a list of booleans like `[False, False, True, True]`. \n",
    "\n",
    "Implement a function that reproduces this behaviour, returning a list of booleans corresponding to whether the corresponding element is greater than n."
   ]
  },
  {
   "cell_type": "code",
   "execution_count": null,
   "id": "fd05a10f",
   "metadata": {
    "execution": {
     "iopub.execute_input": "2021-08-14T23:55:37.265067Z",
     "iopub.status.busy": "2021-08-14T23:55:37.264629Z",
     "iopub.status.idle": "2021-08-14T23:55:37.275244Z",
     "shell.execute_reply": "2021-08-14T23:55:37.274322Z",
     "shell.execute_reply.started": "2021-08-14T23:55:37.265030Z"
    },
    "papermill": {
     "duration": null,
     "end_time": null,
     "exception": null,
     "start_time": null,
     "status": "pending"
    },
    "tags": []
   },
   "outputs": [],
   "source": [
    "def elementwise_greater_than(L, thresh):\n",
    "    \"\"\"Return a list with the same length as L, where the value at index i is \n",
    "    True if L[i] is greater than thresh, and False otherwise.\n",
    "    \n",
    "    >>> elementwise_greater_than([1, 2, 3, 4], 2)\n",
    "    [False, False, True, True]\n",
    "    \"\"\"\n",
    "    return [num > thresh for num in L]\n",
    "\n",
    "# Check your answer\n",
    "q2.check()"
   ]
  },
  {
   "cell_type": "code",
   "execution_count": null,
   "id": "68f74139",
   "metadata": {
    "execution": {
     "iopub.execute_input": "2021-08-14T23:55:45.331836Z",
     "iopub.status.busy": "2021-08-14T23:55:45.331453Z",
     "iopub.status.idle": "2021-08-14T23:55:45.340592Z",
     "shell.execute_reply": "2021-08-14T23:55:45.339311Z",
     "shell.execute_reply.started": "2021-08-14T23:55:45.331802Z"
    },
    "papermill": {
     "duration": null,
     "end_time": null,
     "exception": null,
     "start_time": null,
     "status": "pending"
    },
    "tags": []
   },
   "outputs": [],
   "source": [
    "q2.solution()"
   ]
  },
  {
   "cell_type": "markdown",
   "id": "b925708b",
   "metadata": {
    "papermill": {
     "duration": null,
     "end_time": null,
     "exception": null,
     "start_time": null,
     "status": "pending"
    },
    "tags": []
   },
   "source": [
    "# 3.\n",
    "\n",
    "Complete the body of the function below according to its docstring."
   ]
  },
  {
   "cell_type": "code",
   "execution_count": null,
   "id": "d98a024f",
   "metadata": {
    "execution": {
     "iopub.execute_input": "2021-08-14T23:59:35.674154Z",
     "iopub.status.busy": "2021-08-14T23:59:35.673750Z",
     "iopub.status.idle": "2021-08-14T23:59:35.685569Z",
     "shell.execute_reply": "2021-08-14T23:59:35.684220Z",
     "shell.execute_reply.started": "2021-08-14T23:59:35.674117Z"
    },
    "papermill": {
     "duration": null,
     "end_time": null,
     "exception": null,
     "start_time": null,
     "status": "pending"
    },
    "tags": []
   },
   "outputs": [],
   "source": [
    "def menu_is_boring(meals):\n",
    "    \"\"\"Given a list of meals served over some period of time, return True if the\n",
    "    same meal has ever been served two days in a row, and False otherwise.\n",
    "    \"\"\"\n",
    "    serve = [0]\n",
    "    for meal in meals:\n",
    "        if serve[len(serve)-1] == meal:\n",
    "            return True\n",
    "        serve.append(meal)\n",
    "    return False\n",
    "    pass\n",
    "\n",
    "# Check your answer\n",
    "q3.check()"
   ]
  },
  {
   "cell_type": "code",
   "execution_count": null,
   "id": "67e4816f",
   "metadata": {
    "execution": {
     "iopub.execute_input": "2021-08-14T23:59:54.049030Z",
     "iopub.status.busy": "2021-08-14T23:59:54.048608Z",
     "iopub.status.idle": "2021-08-14T23:59:54.058688Z",
     "shell.execute_reply": "2021-08-14T23:59:54.057287Z",
     "shell.execute_reply.started": "2021-08-14T23:59:54.048994Z"
    },
    "papermill": {
     "duration": null,
     "end_time": null,
     "exception": null,
     "start_time": null,
     "status": "pending"
    },
    "tags": []
   },
   "outputs": [],
   "source": [
    "#q3.hint()\n",
    "q3.solution()"
   ]
  },
  {
   "cell_type": "markdown",
   "id": "c8d73fff",
   "metadata": {
    "papermill": {
     "duration": null,
     "end_time": null,
     "exception": null,
     "start_time": null,
     "status": "pending"
    },
    "tags": []
   },
   "source": [
    "# 4. <span title=\"A bit spicy\" style=\"color: darkgreen \">🌶️</span>\n",
    "\n",
    "Next to the Blackjack table, the Python Challenge Casino has a slot machine. You can get a result from the slot machine by calling `play_slot_machine()`. The number it returns is your winnings in dollars. Usually it returns 0.  But sometimes you'll get lucky and get a big payday. Try running it below:"
   ]
  },
  {
   "cell_type": "code",
   "execution_count": null,
   "id": "f9588b41",
   "metadata": {
    "execution": {
     "iopub.execute_input": "2021-08-15T00:02:13.295275Z",
     "iopub.status.busy": "2021-08-15T00:02:13.294728Z",
     "iopub.status.idle": "2021-08-15T00:02:13.301059Z",
     "shell.execute_reply": "2021-08-15T00:02:13.300079Z",
     "shell.execute_reply.started": "2021-08-15T00:02:13.295235Z"
    },
    "papermill": {
     "duration": null,
     "end_time": null,
     "exception": null,
     "start_time": null,
     "status": "pending"
    },
    "tags": []
   },
   "outputs": [],
   "source": [
    "play_slot_machine()"
   ]
  },
  {
   "cell_type": "markdown",
   "id": "966411e7",
   "metadata": {
    "papermill": {
     "duration": null,
     "end_time": null,
     "exception": null,
     "start_time": null,
     "status": "pending"
    },
    "tags": []
   },
   "source": [
    "By the way, did we mention that each play costs $1? Don't worry, we'll send you the bill later.\n",
    "\n",
    "On average, how much money can you expect to gain (or lose) every time you play the machine?  The casino keeps it a secret, but you can estimate the average value of each pull using a technique called the **Monte Carlo method**. To estimate the average outcome, we simulate the scenario many times, and return the average result.\n",
    "\n",
    "Complete the following function to calculate the average value per play of the slot machine."
   ]
  },
  {
   "cell_type": "code",
   "execution_count": null,
   "id": "b029f7fa",
   "metadata": {
    "execution": {
     "iopub.execute_input": "2021-08-15T00:05:47.845494Z",
     "iopub.status.busy": "2021-08-15T00:05:47.845140Z",
     "iopub.status.idle": "2021-08-15T00:05:47.850506Z",
     "shell.execute_reply": "2021-08-15T00:05:47.849774Z",
     "shell.execute_reply.started": "2021-08-15T00:05:47.845464Z"
    },
    "papermill": {
     "duration": null,
     "end_time": null,
     "exception": null,
     "start_time": null,
     "status": "pending"
    },
    "tags": []
   },
   "outputs": [],
   "source": [
    "def estimate_average_slot_payout(n_runs):\n",
    "    \"\"\"Run the slot machine n_runs times and return the average net profit per run.\n",
    "    Example calls (note that return value is nondeterministic!):\n",
    "    >>> estimate_average_slot_payout(1)\n",
    "    -1\n",
    "    >>> estimate_average_slot_payout(1)\n",
    "    0.5\n",
    "    \"\"\"\n",
    "    runs = []\n",
    "    for run in range(n_runs):\n",
    "        money = play_slot_machine() -1\n",
    "        runs.append(money)\n",
    "        return sum(runs)/n_runs"
   ]
  },
  {
   "cell_type": "code",
   "execution_count": null,
   "id": "694f1c7f",
   "metadata": {
    "execution": {
     "iopub.execute_input": "2021-08-15T00:05:59.412329Z",
     "iopub.status.busy": "2021-08-15T00:05:59.411915Z",
     "iopub.status.idle": "2021-08-15T00:05:59.419299Z",
     "shell.execute_reply": "2021-08-15T00:05:59.418102Z",
     "shell.execute_reply.started": "2021-08-15T00:05:59.412295Z"
    },
    "papermill": {
     "duration": null,
     "end_time": null,
     "exception": null,
     "start_time": null,
     "status": "pending"
    },
    "tags": []
   },
   "outputs": [],
   "source": [
    "estimate_average_slot_payout(1000)"
   ]
  },
  {
   "cell_type": "markdown",
   "id": "1b6e3f2b",
   "metadata": {
    "papermill": {
     "duration": null,
     "end_time": null,
     "exception": null,
     "start_time": null,
     "status": "pending"
    },
    "tags": []
   },
   "source": [
    "When you think you know the expected value per spin, run the code cell below to view the solution and get credit for answering the question."
   ]
  },
  {
   "cell_type": "code",
   "execution_count": null,
   "id": "54cc3c65",
   "metadata": {
    "execution": {
     "iopub.execute_input": "2021-08-15T00:06:29.543241Z",
     "iopub.status.busy": "2021-08-15T00:06:29.542842Z",
     "iopub.status.idle": "2021-08-15T00:06:29.553007Z",
     "shell.execute_reply": "2021-08-15T00:06:29.551651Z",
     "shell.execute_reply.started": "2021-08-15T00:06:29.543206Z"
    },
    "papermill": {
     "duration": null,
     "end_time": null,
     "exception": null,
     "start_time": null,
     "status": "pending"
    },
    "tags": []
   },
   "outputs": [],
   "source": [
    "# Check your answer (Run this code cell to receive credit!)\n",
    "q4.solution()"
   ]
  },
  {
   "cell_type": "markdown",
   "id": "404e679a",
   "metadata": {
    "papermill": {
     "duration": null,
     "end_time": null,
     "exception": null,
     "start_time": null,
     "status": "pending"
    },
    "tags": []
   },
   "source": [
    "# Keep Going\n",
    "\n",
    "Many programmers report that dictionaries are their favorite data structure. You'll get to **[learn about them](https://www.kaggle.com/colinmorris/strings-and-dictionaries)** (as well as strings) in the next lesson."
   ]
  },
  {
   "cell_type": "markdown",
   "id": "40b7a6e6",
   "metadata": {
    "papermill": {
     "duration": null,
     "end_time": null,
     "exception": null,
     "start_time": null,
     "status": "pending"
    },
    "tags": []
   },
   "source": [
    "---\n",
    "\n",
    "\n",
    "\n",
    "\n",
    "*Have questions or comments? Visit the [Learn Discussion forum](https://www.kaggle.com/learn-forum/161283) to chat with other Learners.*"
   ]
  }
 ],
 "metadata": {
  "kernelspec": {
   "display_name": "Python 3",
   "language": "python",
   "name": "python3"
  },
  "language_info": {
   "codemirror_mode": {
    "name": "ipython",
    "version": 3
   },
   "file_extension": ".py",
   "mimetype": "text/x-python",
   "name": "python",
   "nbconvert_exporter": "python",
   "pygments_lexer": "ipython3",
   "version": "3.7.10"
  },
  "papermill": {
   "default_parameters": {},
   "duration": 12.113362,
   "end_time": "2021-08-15T00:07:05.005127",
   "environment_variables": {},
   "exception": true,
   "input_path": "__notebook__.ipynb",
   "output_path": "__notebook__.ipynb",
   "parameters": {},
   "start_time": "2021-08-15T00:06:52.891765",
   "version": "2.3.3"
  }
 },
 "nbformat": 4,
 "nbformat_minor": 5
}
