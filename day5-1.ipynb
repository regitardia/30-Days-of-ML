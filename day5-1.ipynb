{
 "cells": [
  {
   "cell_type": "markdown",
   "id": "23c1cffc",
   "metadata": {
    "papermill": {
     "duration": 0.015057,
     "end_time": "2021-08-10T15:43:08.362340",
     "exception": false,
     "start_time": "2021-08-10T15:43:08.347283",
     "status": "completed"
    },
    "tags": []
   },
   "source": [
    "**This notebook is an exercise in the [Python](https://www.kaggle.com/learn/python) course.  You can reference the tutorial at [this link](https://www.kaggle.com/colinmorris/lists).**\n",
    "\n",
    "---\n"
   ]
  },
  {
   "cell_type": "markdown",
   "id": "eb793bf2",
   "metadata": {
    "papermill": {
     "duration": 0.013702,
     "end_time": "2021-08-10T15:43:08.390358",
     "exception": false,
     "start_time": "2021-08-10T15:43:08.376656",
     "status": "completed"
    },
    "tags": []
   },
   "source": [
    "Things get more interesting with lists. You'll apply your new knowledge to solve the questions below. Remember to run the following cell first."
   ]
  },
  {
   "cell_type": "code",
   "execution_count": 1,
   "id": "fcd534ec",
   "metadata": {
    "execution": {
     "iopub.execute_input": "2021-08-10T15:43:08.431406Z",
     "iopub.status.busy": "2021-08-10T15:43:08.430690Z",
     "iopub.status.idle": "2021-08-10T15:43:08.571467Z",
     "shell.execute_reply": "2021-08-10T15:43:08.571995Z",
     "shell.execute_reply.started": "2021-08-10T15:30:53.241643Z"
    },
    "papermill": {
     "duration": 0.16791,
     "end_time": "2021-08-10T15:43:08.572287",
     "exception": false,
     "start_time": "2021-08-10T15:43:08.404377",
     "status": "completed"
    },
    "tags": []
   },
   "outputs": [
    {
     "name": "stdout",
     "output_type": "stream",
     "text": [
      "Setup complete.\n"
     ]
    }
   ],
   "source": [
    "from learntools.core import binder; binder.bind(globals())\n",
    "from learntools.python.ex4 import *\n",
    "print('Setup complete.')"
   ]
  },
  {
   "cell_type": "markdown",
   "id": "c1712f41",
   "metadata": {
    "papermill": {
     "duration": 0.014221,
     "end_time": "2021-08-10T15:43:08.601352",
     "exception": false,
     "start_time": "2021-08-10T15:43:08.587131",
     "status": "completed"
    },
    "tags": []
   },
   "source": [
    "# 1.\n",
    "\n",
    "Complete the function below according to its docstring."
   ]
  },
  {
   "cell_type": "code",
   "execution_count": 2,
   "id": "68b9fe54",
   "metadata": {
    "execution": {
     "iopub.execute_input": "2021-08-10T15:43:08.640764Z",
     "iopub.status.busy": "2021-08-10T15:43:08.640044Z",
     "iopub.status.idle": "2021-08-10T15:43:08.644689Z",
     "shell.execute_reply": "2021-08-10T15:43:08.645180Z",
     "shell.execute_reply.started": "2021-08-10T15:31:58.374850Z"
    },
    "papermill": {
     "duration": 0.029445,
     "end_time": "2021-08-10T15:43:08.645352",
     "exception": false,
     "start_time": "2021-08-10T15:43:08.615907",
     "status": "completed"
    },
    "tags": []
   },
   "outputs": [
    {
     "data": {
      "application/javascript": [
       "parent.postMessage({\"jupyterEvent\": \"custom.exercise_interaction\", \"data\": {\"outcomeType\": 1, \"valueTowardsCompletion\": 0.2, \"interactionType\": 1, \"questionType\": 2, \"questionId\": \"1_SelectSecondItem\", \"learnToolsVersion\": \"0.3.4\", \"failureMessage\": \"\", \"exceptionClass\": \"\", \"trace\": \"\"}}, \"*\")"
      ],
      "text/plain": [
       "<IPython.core.display.Javascript object>"
      ]
     },
     "metadata": {},
     "output_type": "display_data"
    },
    {
     "data": {
      "text/markdown": [
       "<span style=\"color:#33cc33\">Correct</span>"
      ],
      "text/plain": [
       "Correct"
      ]
     },
     "metadata": {},
     "output_type": "display_data"
    }
   ],
   "source": [
    "def select_second(L):\n",
    "    \"\"\"Return the second element of the given list. If the list has no second\n",
    "    element, return None.\n",
    "    \"\"\"\n",
    "    if len(L) < 2:\n",
    "        return None\n",
    "    return L[1]\n",
    "    pass\n",
    "\n",
    "# Check your answer\n",
    "q1.check()"
   ]
  },
  {
   "cell_type": "code",
   "execution_count": 3,
   "id": "45efd743",
   "metadata": {
    "execution": {
     "iopub.execute_input": "2021-08-10T15:43:08.680293Z",
     "iopub.status.busy": "2021-08-10T15:43:08.679688Z",
     "iopub.status.idle": "2021-08-10T15:43:08.685852Z",
     "shell.execute_reply": "2021-08-10T15:43:08.686356Z",
     "shell.execute_reply.started": "2021-08-10T15:32:03.722802Z"
    },
    "papermill": {
     "duration": 0.02523,
     "end_time": "2021-08-10T15:43:08.686540",
     "exception": false,
     "start_time": "2021-08-10T15:43:08.661310",
     "status": "completed"
    },
    "tags": []
   },
   "outputs": [
    {
     "data": {
      "application/javascript": [
       "parent.postMessage({\"jupyterEvent\": \"custom.exercise_interaction\", \"data\": {\"interactionType\": 3, \"questionType\": 2, \"questionId\": \"1_SelectSecondItem\", \"learnToolsVersion\": \"0.3.4\", \"valueTowardsCompletion\": 0.0, \"failureMessage\": \"\", \"exceptionClass\": \"\", \"trace\": \"\", \"outcomeType\": 4}}, \"*\")"
      ],
      "text/plain": [
       "<IPython.core.display.Javascript object>"
      ]
     },
     "metadata": {},
     "output_type": "display_data"
    },
    {
     "data": {
      "text/markdown": [
       "<span style=\"color:#33cc99\">Solution:</span> \n",
       "```python\n",
       "def select_second(L):\n",
       "    if len(L) < 2:\n",
       "        return None\n",
       "    return L[1]\n",
       "```"
      ],
      "text/plain": [
       "Solution: \n",
       "```python\n",
       "def select_second(L):\n",
       "    if len(L) < 2:\n",
       "        return None\n",
       "    return L[1]\n",
       "```"
      ]
     },
     "metadata": {},
     "output_type": "display_data"
    }
   ],
   "source": [
    "#q1.hint()\n",
    "q1.solution()"
   ]
  },
  {
   "cell_type": "markdown",
   "id": "23a9dd7d",
   "metadata": {
    "papermill": {
     "duration": 0.015831,
     "end_time": "2021-08-10T15:43:08.718963",
     "exception": false,
     "start_time": "2021-08-10T15:43:08.703132",
     "status": "completed"
    },
    "tags": []
   },
   "source": [
    "# 2.\n",
    "\n",
    "You are analyzing sports teams.  Members of each team are stored in a list. The Coach is the first name in the list, the captain is the second name in the list, and other players are listed after that. \n",
    "These lists are stored in another list, which starts with the best team and proceeds through the list to the worst team last.  Complete the function below to select the **captain** of the worst team."
   ]
  },
  {
   "cell_type": "code",
   "execution_count": 4,
   "id": "21bf1de1",
   "metadata": {
    "execution": {
     "iopub.execute_input": "2021-08-10T15:43:08.754733Z",
     "iopub.status.busy": "2021-08-10T15:43:08.754093Z",
     "iopub.status.idle": "2021-08-10T15:43:08.760769Z",
     "shell.execute_reply": "2021-08-10T15:43:08.761251Z",
     "shell.execute_reply.started": "2021-08-10T15:34:56.575827Z"
    },
    "papermill": {
     "duration": 0.026133,
     "end_time": "2021-08-10T15:43:08.761416",
     "exception": false,
     "start_time": "2021-08-10T15:43:08.735283",
     "status": "completed"
    },
    "tags": []
   },
   "outputs": [
    {
     "data": {
      "application/javascript": [
       "parent.postMessage({\"jupyterEvent\": \"custom.exercise_interaction\", \"data\": {\"outcomeType\": 1, \"valueTowardsCompletion\": 0.2, \"interactionType\": 1, \"questionType\": 2, \"questionId\": \"2_LosingTeamCaptain\", \"learnToolsVersion\": \"0.3.4\", \"failureMessage\": \"\", \"exceptionClass\": \"\", \"trace\": \"\"}}, \"*\")"
      ],
      "text/plain": [
       "<IPython.core.display.Javascript object>"
      ]
     },
     "metadata": {},
     "output_type": "display_data"
    },
    {
     "data": {
      "text/markdown": [
       "<span style=\"color:#33cc33\">Correct</span>"
      ],
      "text/plain": [
       "Correct"
      ]
     },
     "metadata": {},
     "output_type": "display_data"
    }
   ],
   "source": [
    "def losing_team_captain(teams):\n",
    "    \"\"\"Given a list of teams, where each team is a list of names, return the 2nd player (captain)\n",
    "    from the last listed team\n",
    "    \"\"\"\n",
    "    return teams[-1][1]\n",
    "\n",
    "# Check your answer\n",
    "q2.check()"
   ]
  },
  {
   "cell_type": "code",
   "execution_count": 5,
   "id": "9fb61e76",
   "metadata": {
    "execution": {
     "iopub.execute_input": "2021-08-10T15:43:08.799932Z",
     "iopub.status.busy": "2021-08-10T15:43:08.799270Z",
     "iopub.status.idle": "2021-08-10T15:43:08.805390Z",
     "shell.execute_reply": "2021-08-10T15:43:08.805892Z",
     "shell.execute_reply.started": "2021-08-10T15:35:02.799734Z"
    },
    "papermill": {
     "duration": 0.026909,
     "end_time": "2021-08-10T15:43:08.806055",
     "exception": false,
     "start_time": "2021-08-10T15:43:08.779146",
     "status": "completed"
    },
    "tags": []
   },
   "outputs": [
    {
     "data": {
      "application/javascript": [
       "parent.postMessage({\"jupyterEvent\": \"custom.exercise_interaction\", \"data\": {\"interactionType\": 3, \"questionType\": 2, \"questionId\": \"2_LosingTeamCaptain\", \"learnToolsVersion\": \"0.3.4\", \"valueTowardsCompletion\": 0.0, \"failureMessage\": \"\", \"exceptionClass\": \"\", \"trace\": \"\", \"outcomeType\": 4}}, \"*\")"
      ],
      "text/plain": [
       "<IPython.core.display.Javascript object>"
      ]
     },
     "metadata": {},
     "output_type": "display_data"
    },
    {
     "data": {
      "text/markdown": [
       "<span style=\"color:#33cc99\">Solution:</span> \n",
       "```python\n",
       "def losing_team_captain(teams):\n",
       "    return teams[-1][1]\n",
       "```"
      ],
      "text/plain": [
       "Solution: \n",
       "```python\n",
       "def losing_team_captain(teams):\n",
       "    return teams[-1][1]\n",
       "```"
      ]
     },
     "metadata": {},
     "output_type": "display_data"
    }
   ],
   "source": [
    "#q2.hint()\n",
    "q2.solution()"
   ]
  },
  {
   "cell_type": "markdown",
   "id": "a7b28cc1",
   "metadata": {
    "papermill": {
     "duration": 0.018127,
     "end_time": "2021-08-10T15:43:08.843726",
     "exception": false,
     "start_time": "2021-08-10T15:43:08.825599",
     "status": "completed"
    },
    "tags": []
   },
   "source": [
    "# 3.\n",
    "\n",
    "The next iteration of Mario Kart will feature an extra-infuriating new item, the *Purple Shell*. When used, it warps the last place racer into first place and the first place racer into last place. Complete the function below to implement the Purple Shell's effect."
   ]
  },
  {
   "cell_type": "code",
   "execution_count": 6,
   "id": "4b634a56",
   "metadata": {
    "execution": {
     "iopub.execute_input": "2021-08-10T15:43:08.887037Z",
     "iopub.status.busy": "2021-08-10T15:43:08.886273Z",
     "iopub.status.idle": "2021-08-10T15:43:08.891567Z",
     "shell.execute_reply": "2021-08-10T15:43:08.891022Z",
     "shell.execute_reply.started": "2021-08-10T15:37:51.177094Z"
    },
    "papermill": {
     "duration": 0.029583,
     "end_time": "2021-08-10T15:43:08.891715",
     "exception": false,
     "start_time": "2021-08-10T15:43:08.862132",
     "status": "completed"
    },
    "tags": []
   },
   "outputs": [
    {
     "data": {
      "application/javascript": [
       "parent.postMessage({\"jupyterEvent\": \"custom.exercise_interaction\", \"data\": {\"outcomeType\": 1, \"valueTowardsCompletion\": 0.2, \"interactionType\": 1, \"questionType\": 2, \"questionId\": \"3_PurpleShell\", \"learnToolsVersion\": \"0.3.4\", \"failureMessage\": \"\", \"exceptionClass\": \"\", \"trace\": \"\"}}, \"*\")"
      ],
      "text/plain": [
       "<IPython.core.display.Javascript object>"
      ]
     },
     "metadata": {},
     "output_type": "display_data"
    },
    {
     "data": {
      "text/markdown": [
       "<span style=\"color:#33cc33\">Correct</span>"
      ],
      "text/plain": [
       "Correct"
      ]
     },
     "metadata": {},
     "output_type": "display_data"
    }
   ],
   "source": [
    "def purple_shell(racers):\n",
    "    \"\"\"Given a list of racers, set the first place racer (at the front of the list) to last\n",
    "    place and vice versa.\n",
    "    \n",
    "    >>> r = [\"Mario\", \"Bowser\", \"Luigi\"]\n",
    "    >>> purple_shell(r)\n",
    "    >>> r\n",
    "    [\"Luigi\", \"Bowser\", \"Mario\"]\n",
    "    \"\"\"\n",
    "    racers[0], racers[-1]= racers[-1], racers[0]\n",
    "\n",
    "# Check your answer\n",
    "q3.check()"
   ]
  },
  {
   "cell_type": "code",
   "execution_count": 7,
   "id": "5523e7e1",
   "metadata": {
    "execution": {
     "iopub.execute_input": "2021-08-10T15:43:08.943356Z",
     "iopub.status.busy": "2021-08-10T15:43:08.942323Z",
     "iopub.status.idle": "2021-08-10T15:43:08.949310Z",
     "shell.execute_reply": "2021-08-10T15:43:08.949937Z",
     "shell.execute_reply.started": "2021-08-10T15:37:55.530118Z"
    },
    "papermill": {
     "duration": 0.036965,
     "end_time": "2021-08-10T15:43:08.950175",
     "exception": false,
     "start_time": "2021-08-10T15:43:08.913210",
     "status": "completed"
    },
    "tags": []
   },
   "outputs": [
    {
     "data": {
      "application/javascript": [
       "parent.postMessage({\"jupyterEvent\": \"custom.exercise_interaction\", \"data\": {\"interactionType\": 3, \"questionType\": 2, \"questionId\": \"3_PurpleShell\", \"learnToolsVersion\": \"0.3.4\", \"valueTowardsCompletion\": 0.0, \"failureMessage\": \"\", \"exceptionClass\": \"\", \"trace\": \"\", \"outcomeType\": 4}}, \"*\")"
      ],
      "text/plain": [
       "<IPython.core.display.Javascript object>"
      ]
     },
     "metadata": {},
     "output_type": "display_data"
    },
    {
     "data": {
      "text/markdown": [
       "<span style=\"color:#33cc99\">Solution:</span> \n",
       "```python\n",
       "def purple_shell(racers):\n",
       "    # One slick way to do the swap is x[0], x[-1] = x[-1], x[0].\n",
       "    temp = racers[0]\n",
       "    racers[0] = racers[-1]\n",
       "    racers[-1] = temp\n",
       "```"
      ],
      "text/plain": [
       "Solution: \n",
       "```python\n",
       "def purple_shell(racers):\n",
       "    # One slick way to do the swap is x[0], x[-1] = x[-1], x[0].\n",
       "    temp = racers[0]\n",
       "    racers[0] = racers[-1]\n",
       "    racers[-1] = temp\n",
       "```"
      ]
     },
     "metadata": {},
     "output_type": "display_data"
    }
   ],
   "source": [
    "#q3.hint()\n",
    "q3.solution()"
   ]
  },
  {
   "cell_type": "markdown",
   "id": "76b36c93",
   "metadata": {
    "papermill": {
     "duration": 0.023579,
     "end_time": "2021-08-10T15:43:09.004964",
     "exception": false,
     "start_time": "2021-08-10T15:43:08.981385",
     "status": "completed"
    },
    "tags": []
   },
   "source": [
    "# 4.\n",
    "\n",
    "What are the lengths of the following lists? Fill in the variable `lengths` with your predictions. (Try to make a prediction for each list *without* just calling `len()` on it.)"
   ]
  },
  {
   "cell_type": "code",
   "execution_count": 8,
   "id": "772436f0",
   "metadata": {
    "execution": {
     "iopub.execute_input": "2021-08-10T15:43:09.055893Z",
     "iopub.status.busy": "2021-08-10T15:43:09.054952Z",
     "iopub.status.idle": "2021-08-10T15:43:09.065866Z",
     "shell.execute_reply": "2021-08-10T15:43:09.065179Z",
     "shell.execute_reply.started": "2021-08-10T15:39:02.717031Z"
    },
    "papermill": {
     "duration": 0.036196,
     "end_time": "2021-08-10T15:43:09.066012",
     "exception": false,
     "start_time": "2021-08-10T15:43:09.029816",
     "status": "completed"
    },
    "tags": []
   },
   "outputs": [
    {
     "data": {
      "application/javascript": [
       "parent.postMessage({\"jupyterEvent\": \"custom.exercise_interaction\", \"data\": {\"outcomeType\": 1, \"valueTowardsCompletion\": 0.2, \"interactionType\": 1, \"questionType\": 1, \"questionId\": \"4_UnderstandLen\", \"learnToolsVersion\": \"0.3.4\", \"failureMessage\": \"\", \"exceptionClass\": \"\", \"trace\": \"\"}}, \"*\")"
      ],
      "text/plain": [
       "<IPython.core.display.Javascript object>"
      ]
     },
     "metadata": {},
     "output_type": "display_data"
    },
    {
     "data": {
      "text/markdown": [
       "<span style=\"color:#33cc33\">Correct:</span> \n",
       "\n",
       "\n",
       "- a: There are three items in this list. Nothing tricky yet.\n",
       "- b: The list `[2, 3]` counts as a single item. It has one item before it. So we have 2 items in the list\n",
       "- c: The empty list has 0 items\n",
       "- d: The expression is the same as the list `[2, 3]`, which has length 2."
      ],
      "text/plain": [
       "Correct: \n",
       "\n",
       "\n",
       "- a: There are three items in this list. Nothing tricky yet.\n",
       "- b: The list `[2, 3]` counts as a single item. It has one item before it. So we have 2 items in the list\n",
       "- c: The empty list has 0 items\n",
       "- d: The expression is the same as the list `[2, 3]`, which has length 2."
      ]
     },
     "metadata": {},
     "output_type": "display_data"
    }
   ],
   "source": [
    "a = [1, 2, 3]\n",
    "b = [1, [2, 3]]\n",
    "c = []\n",
    "d = [1, 2, 3][1:]\n",
    "\n",
    "# Put your predictions in the list below. Lengths should contain 4 numbers, the\n",
    "# first being the length of a, the second being the length of b and so on.\n",
    "lengths = [3,2,0,2]\n",
    "\n",
    "# Check your answer\n",
    "q4.check()"
   ]
  },
  {
   "cell_type": "code",
   "execution_count": 9,
   "id": "80dd7c36",
   "metadata": {
    "execution": {
     "iopub.execute_input": "2021-08-10T15:43:09.114483Z",
     "iopub.status.busy": "2021-08-10T15:43:09.113832Z",
     "iopub.status.idle": "2021-08-10T15:43:09.120561Z",
     "shell.execute_reply": "2021-08-10T15:43:09.121098Z",
     "shell.execute_reply.started": "2021-08-10T15:39:44.464455Z"
    },
    "papermill": {
     "duration": 0.032186,
     "end_time": "2021-08-10T15:43:09.121257",
     "exception": false,
     "start_time": "2021-08-10T15:43:09.089071",
     "status": "completed"
    },
    "tags": []
   },
   "outputs": [
    {
     "data": {
      "application/javascript": [
       "parent.postMessage({\"jupyterEvent\": \"custom.exercise_interaction\", \"data\": {\"interactionType\": 3, \"questionType\": 1, \"questionId\": \"4_UnderstandLen\", \"learnToolsVersion\": \"0.3.4\", \"valueTowardsCompletion\": 0.0, \"failureMessage\": \"\", \"exceptionClass\": \"\", \"trace\": \"\", \"outcomeType\": 4}}, \"*\")"
      ],
      "text/plain": [
       "<IPython.core.display.Javascript object>"
      ]
     },
     "metadata": {},
     "output_type": "display_data"
    },
    {
     "data": {
      "text/markdown": [
       "<span style=\"color:#33cc99\">Solution:</span> \n",
       "- a: There are three items in this list. Nothing tricky yet.\n",
       "- b: The list `[2, 3]` counts as a single item. It has one item before it. So we have 2 items in the list\n",
       "- c: The empty list has 0 items\n",
       "- d: The expression is the same as the list `[2, 3]`, which has length 2."
      ],
      "text/plain": [
       "Solution: \n",
       "- a: There are three items in this list. Nothing tricky yet.\n",
       "- b: The list `[2, 3]` counts as a single item. It has one item before it. So we have 2 items in the list\n",
       "- c: The empty list has 0 items\n",
       "- d: The expression is the same as the list `[2, 3]`, which has length 2."
      ]
     },
     "metadata": {},
     "output_type": "display_data"
    }
   ],
   "source": [
    "# line below provides some explanation\n",
    "q4.solution()"
   ]
  },
  {
   "cell_type": "markdown",
   "id": "7adf5bf9",
   "metadata": {
    "papermill": {
     "duration": 0.021937,
     "end_time": "2021-08-10T15:43:09.165647",
     "exception": false,
     "start_time": "2021-08-10T15:43:09.143710",
     "status": "completed"
    },
    "tags": []
   },
   "source": [
    "# 5. <span title=\"A bit spicy\" style=\"color: darkgreen \">🌶️</span>\n",
    "\n",
    "We're using lists to record people who attended our party and what order they arrived in. For example, the following list represents a party with 7 guests, in which Adela showed up first and Ford was the last to arrive:\n",
    "\n",
    "    party_attendees = ['Adela', 'Fleda', 'Owen', 'May', 'Mona', 'Gilbert', 'Ford']\n",
    "\n",
    "A guest is considered 'fashionably late' if they arrived after at least half of the party's guests. However, they must not be the very last guest (that's taking it too far). In the above example, Mona and Gilbert are the only guests who were fashionably late.\n",
    "\n",
    "Complete the function below which takes a list of party attendees as well as a person, and tells us whether that person is fashionably late."
   ]
  },
  {
   "cell_type": "code",
   "execution_count": 10,
   "id": "e65844a9",
   "metadata": {
    "execution": {
     "iopub.execute_input": "2021-08-10T15:43:09.213712Z",
     "iopub.status.busy": "2021-08-10T15:43:09.213005Z",
     "iopub.status.idle": "2021-08-10T15:43:09.220232Z",
     "shell.execute_reply": "2021-08-10T15:43:09.220753Z",
     "shell.execute_reply.started": "2021-08-10T15:42:37.816577Z"
    },
    "papermill": {
     "duration": 0.032904,
     "end_time": "2021-08-10T15:43:09.220927",
     "exception": false,
     "start_time": "2021-08-10T15:43:09.188023",
     "status": "completed"
    },
    "tags": []
   },
   "outputs": [
    {
     "data": {
      "application/javascript": [
       "parent.postMessage({\"jupyterEvent\": \"custom.exercise_interaction\", \"data\": {\"outcomeType\": 1, \"valueTowardsCompletion\": 0.2, \"interactionType\": 1, \"questionType\": 2, \"questionId\": \"5_FashionablyLate\", \"learnToolsVersion\": \"0.3.4\", \"failureMessage\": \"\", \"exceptionClass\": \"\", \"trace\": \"\"}}, \"*\")"
      ],
      "text/plain": [
       "<IPython.core.display.Javascript object>"
      ]
     },
     "metadata": {},
     "output_type": "display_data"
    },
    {
     "data": {
      "text/markdown": [
       "<span style=\"color:#33cc33\">Correct</span>"
      ],
      "text/plain": [
       "Correct"
      ]
     },
     "metadata": {},
     "output_type": "display_data"
    }
   ],
   "source": [
    "def fashionably_late(arrivals, name):\n",
    "    \"\"\"Given an ordered list of arrivals to the party and a name, return whether the guest with that\n",
    "    name was fashionably late.\n",
    "    \"\"\"\n",
    "    order = arrivals.index(name)\n",
    "    return order >= len(arrivals)/2 and order != len(arrivals)-1\n",
    "    \n",
    "\n",
    "# Check your answer\n",
    "q5.check()"
   ]
  },
  {
   "cell_type": "code",
   "execution_count": 11,
   "id": "1474048e",
   "metadata": {
    "execution": {
     "iopub.execute_input": "2021-08-10T15:43:09.271762Z",
     "iopub.status.busy": "2021-08-10T15:43:09.271117Z",
     "iopub.status.idle": "2021-08-10T15:43:09.277780Z",
     "shell.execute_reply": "2021-08-10T15:43:09.278373Z",
     "shell.execute_reply.started": "2021-08-10T15:42:42.192358Z"
    },
    "papermill": {
     "duration": 0.033495,
     "end_time": "2021-08-10T15:43:09.278588",
     "exception": false,
     "start_time": "2021-08-10T15:43:09.245093",
     "status": "completed"
    },
    "tags": []
   },
   "outputs": [
    {
     "data": {
      "application/javascript": [
       "parent.postMessage({\"jupyterEvent\": \"custom.exercise_interaction\", \"data\": {\"interactionType\": 3, \"questionType\": 2, \"questionId\": \"5_FashionablyLate\", \"learnToolsVersion\": \"0.3.4\", \"valueTowardsCompletion\": 0.0, \"failureMessage\": \"\", \"exceptionClass\": \"\", \"trace\": \"\", \"outcomeType\": 4}}, \"*\")"
      ],
      "text/plain": [
       "<IPython.core.display.Javascript object>"
      ]
     },
     "metadata": {},
     "output_type": "display_data"
    },
    {
     "data": {
      "text/markdown": [
       "<span style=\"color:#33cc99\">Solution:</span> \n",
       "```python\n",
       "def fashionably_late(arrivals, name):\n",
       "    order = arrivals.index(name)\n",
       "    return order >= len(arrivals) / 2 and order != len(arrivals) - 1\n",
       "```"
      ],
      "text/plain": [
       "Solution: \n",
       "```python\n",
       "def fashionably_late(arrivals, name):\n",
       "    order = arrivals.index(name)\n",
       "    return order >= len(arrivals) / 2 and order != len(arrivals) - 1\n",
       "```"
      ]
     },
     "metadata": {},
     "output_type": "display_data"
    }
   ],
   "source": [
    "#q5.hint()\n",
    "q5.solution()"
   ]
  },
  {
   "cell_type": "markdown",
   "id": "0e46a331",
   "metadata": {
    "papermill": {
     "duration": 0.02413,
     "end_time": "2021-08-10T15:43:09.327190",
     "exception": false,
     "start_time": "2021-08-10T15:43:09.303060",
     "status": "completed"
    },
    "tags": []
   },
   "source": [
    "# Keep Going\n",
    "\n",
    "That's it for lists and tuples! Now you have the baseline knowledge to **[learn about loops](https://www.kaggle.com/colinmorris/loops-and-list-comprehensions)**, which is where lists and tuples get really interesting. "
   ]
  },
  {
   "cell_type": "markdown",
   "id": "4c88c1eb",
   "metadata": {
    "papermill": {
     "duration": 0.024317,
     "end_time": "2021-08-10T15:43:09.376853",
     "exception": false,
     "start_time": "2021-08-10T15:43:09.352536",
     "status": "completed"
    },
    "tags": []
   },
   "source": [
    "---\n",
    "\n",
    "\n",
    "\n",
    "\n",
    "*Have questions or comments? Visit the [Learn Discussion forum](https://www.kaggle.com/learn-forum/161283) to chat with other Learners.*"
   ]
  }
 ],
 "metadata": {
  "kernelspec": {
   "display_name": "Python 3",
   "language": "python",
   "name": "python3"
  },
  "language_info": {
   "codemirror_mode": {
    "name": "ipython",
    "version": 3
   },
   "file_extension": ".py",
   "mimetype": "text/x-python",
   "name": "python",
   "nbconvert_exporter": "python",
   "pygments_lexer": "ipython3",
   "version": "3.7.10"
  },
  "papermill": {
   "default_parameters": {},
   "duration": 10.695279,
   "end_time": "2021-08-10T15:43:10.112228",
   "environment_variables": {},
   "exception": null,
   "input_path": "__notebook__.ipynb",
   "output_path": "__notebook__.ipynb",
   "parameters": {},
   "start_time": "2021-08-10T15:42:59.416949",
   "version": "2.3.3"
  }
 },
 "nbformat": 4,
 "nbformat_minor": 5
}
