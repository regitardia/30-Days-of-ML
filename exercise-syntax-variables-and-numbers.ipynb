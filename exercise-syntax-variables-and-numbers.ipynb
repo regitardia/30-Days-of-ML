{
 "cells": [
  {
   "cell_type": "markdown",
   "id": "e142b29a",
   "metadata": {
    "papermill": {
     "duration": 0.022428,
     "end_time": "2021-08-08T17:48:47.917829",
     "exception": false,
     "start_time": "2021-08-08T17:48:47.895401",
     "status": "completed"
    },
    "tags": []
   },
   "source": [
    "**This notebook is an exercise in the [Python](https://www.kaggle.com/learn/python) course.  You can reference the tutorial at [this link](https://www.kaggle.com/colinmorris/hello-python).**\n",
    "\n",
    "---\n"
   ]
  },
  {
   "cell_type": "markdown",
   "id": "1b78f209",
   "metadata": {
    "papermill": {
     "duration": 0.014627,
     "end_time": "2021-08-08T17:48:47.948225",
     "exception": false,
     "start_time": "2021-08-08T17:48:47.933598",
     "status": "completed"
    },
    "tags": []
   },
   "source": [
    "Welcome to your first set of Python coding problems.  If this is your first time using Kaggle Notebooks, welcome! \n",
    "\n",
    "Notebooks are composed of blocks (called \"cells\") of text and code. Each of these is editable, though you'll mainly be editing the code cells to answer some questions.\n",
    "\n",
    "To get started, try running the code cell below (by pressing the ► button, or clicking on the cell and pressing ctrl+enter on your keyboard)."
   ]
  },
  {
   "cell_type": "code",
   "execution_count": 1,
   "id": "5af89bb8",
   "metadata": {
    "execution": {
     "iopub.execute_input": "2021-08-08T17:48:47.992230Z",
     "iopub.status.busy": "2021-08-08T17:48:47.991360Z",
     "iopub.status.idle": "2021-08-08T17:48:47.997022Z",
     "shell.execute_reply": "2021-08-08T17:48:47.995933Z",
     "shell.execute_reply.started": "2021-08-08T17:36:18.995299Z"
    },
    "papermill": {
     "duration": 0.034177,
     "end_time": "2021-08-08T17:48:47.997318",
     "exception": false,
     "start_time": "2021-08-08T17:48:47.963141",
     "status": "completed"
    },
    "tags": []
   },
   "outputs": [
    {
     "name": "stdout",
     "output_type": "stream",
     "text": [
      "You've successfully run some Python code\n",
      "Congratulations!\n"
     ]
    }
   ],
   "source": [
    "print(\"You've successfully run some Python code\")\n",
    "print(\"Congratulations!\")"
   ]
  },
  {
   "cell_type": "markdown",
   "id": "1cf08d0f",
   "metadata": {
    "papermill": {
     "duration": 0.01571,
     "end_time": "2021-08-08T17:48:48.029814",
     "exception": false,
     "start_time": "2021-08-08T17:48:48.014104",
     "status": "completed"
    },
    "tags": []
   },
   "source": [
    "Try adding another line of code in the cell above and re-running it. \n",
    "\n",
    "Now let's get a little fancier:  Add a new code cell by clicking on an existing code cell, hitting the escape key, and then hitting the `a` or `b` key.  The `a` key will add a cell above the current cell, and `b` adds a cell below.\n",
    "\n",
    "Great! Now you know how to use Notebooks.\n",
    "\n",
    "Each hands-on exercise starts by setting up our feedback and code checking mechanism. Run the code cell below to do that. Then you'll be ready to move on to question 0."
   ]
  },
  {
   "cell_type": "code",
   "execution_count": 2,
   "id": "812272fb",
   "metadata": {
    "_kg_hide-input": true,
    "_kg_hide-output": true,
    "execution": {
     "iopub.execute_input": "2021-08-08T17:48:48.068935Z",
     "iopub.status.busy": "2021-08-08T17:48:48.067763Z",
     "iopub.status.idle": "2021-08-08T17:48:48.199588Z",
     "shell.execute_reply": "2021-08-08T17:48:48.200549Z",
     "shell.execute_reply.started": "2021-08-08T17:36:44.801423Z"
    },
    "papermill": {
     "duration": 0.154721,
     "end_time": "2021-08-08T17:48:48.200741",
     "exception": false,
     "start_time": "2021-08-08T17:48:48.046020",
     "status": "completed"
    },
    "tags": []
   },
   "outputs": [
    {
     "name": "stdout",
     "output_type": "stream",
     "text": [
      "Setup complete! You're ready to start question 0.\n"
     ]
    }
   ],
   "source": [
    "from learntools.core import binder; binder.bind(globals())\n",
    "from learntools.python.ex1 import *\n",
    "print(\"Setup complete! You're ready to start question 0.\")"
   ]
  },
  {
   "cell_type": "markdown",
   "id": "d1917ee2",
   "metadata": {
    "papermill": {
     "duration": 0.014927,
     "end_time": "2021-08-08T17:48:48.231363",
     "exception": false,
     "start_time": "2021-08-08T17:48:48.216436",
     "status": "completed"
    },
    "tags": []
   },
   "source": [
    "# 0.\n",
    "\n",
    "*This is a silly question intended as an introduction to the format we use for hands-on exercises throughout all Kaggle courses.*\n",
    "\n",
    "**What is your favorite color? **\n",
    "\n",
    "To complete this question, create a variable called `color` in the cell below with an appropriate value. The function call `q0.check()` (which we've already provided in the cell below) will check your answer."
   ]
  },
  {
   "cell_type": "code",
   "execution_count": 3,
   "id": "440d0f2e",
   "metadata": {
    "execution": {
     "iopub.execute_input": "2021-08-08T17:48:48.269125Z",
     "iopub.status.busy": "2021-08-08T17:48:48.268424Z",
     "iopub.status.idle": "2021-08-08T17:48:48.273889Z",
     "shell.execute_reply": "2021-08-08T17:48:48.273411Z",
     "shell.execute_reply.started": "2021-08-08T17:37:42.231551Z"
    },
    "papermill": {
     "duration": 0.027341,
     "end_time": "2021-08-08T17:48:48.274026",
     "exception": false,
     "start_time": "2021-08-08T17:48:48.246685",
     "status": "completed"
    },
    "tags": []
   },
   "outputs": [
    {
     "data": {
      "application/javascript": [
       "parent.postMessage({\"jupyterEvent\": \"custom.exercise_interaction\", \"data\": {\"outcomeType\": 1, \"valueTowardsCompletion\": 0.25, \"interactionType\": 1, \"questionType\": 2, \"questionId\": \"0_ExerciseFormatTutorial\", \"learnToolsVersion\": \"0.3.4\", \"failureMessage\": \"\", \"exceptionClass\": \"\", \"trace\": \"\"}}, \"*\")"
      ],
      "text/plain": [
       "<IPython.core.display.Javascript object>"
      ]
     },
     "metadata": {},
     "output_type": "display_data"
    },
    {
     "data": {
      "text/markdown": [
       "<span style=\"color:#33cc33\">Correct:</span> What?! You got it right without needing a hint or anything? Drats. Well hey, you should still continue to the next step to get some practice asking for a hint and checking solutions. (Even though you obviously don't need any help here.)"
      ],
      "text/plain": [
       "Correct: What?! You got it right without needing a hint or anything? Drats. Well hey, you should still continue to the next step to get some practice asking for a hint and checking solutions. (Even though you obviously don't need any help here.)"
      ]
     },
     "metadata": {},
     "output_type": "display_data"
    }
   ],
   "source": [
    "# create a variable called color with an appropriate value on the line below\n",
    "# (Remember, strings in Python must be enclosed in 'single' or \"double\" quotes)\n",
    "color = 'blue'\n",
    "\n",
    "# Check your answer\n",
    "q0.check()"
   ]
  },
  {
   "cell_type": "markdown",
   "id": "34712452",
   "metadata": {
    "papermill": {
     "duration": 0.015599,
     "end_time": "2021-08-08T17:48:48.306705",
     "exception": false,
     "start_time": "2021-08-08T17:48:48.291106",
     "status": "completed"
    },
    "tags": []
   },
   "source": [
    "Didn't get the right answer? How do you not even know your own favorite color?!\n",
    "\n",
    "Delete the `#` in the line below to make one of the lines run. You can choose between getting a hint or the full answer by choosing which line to remove the `#` from. \n",
    "\n",
    "Removing the `#` is called uncommenting, because it changes that line from a \"comment\" which Python doesn't run to code, which Python does run."
   ]
  },
  {
   "cell_type": "code",
   "execution_count": 4,
   "id": "22d95400",
   "metadata": {
    "execution": {
     "iopub.execute_input": "2021-08-08T17:48:48.343685Z",
     "iopub.status.busy": "2021-08-08T17:48:48.342949Z",
     "iopub.status.idle": "2021-08-08T17:48:48.351066Z",
     "shell.execute_reply": "2021-08-08T17:48:48.350563Z",
     "shell.execute_reply.started": "2021-08-08T17:38:06.039356Z"
    },
    "papermill": {
     "duration": 0.028354,
     "end_time": "2021-08-08T17:48:48.351195",
     "exception": false,
     "start_time": "2021-08-08T17:48:48.322841",
     "status": "completed"
    },
    "tags": []
   },
   "outputs": [
    {
     "data": {
      "application/javascript": [
       "parent.postMessage({\"jupyterEvent\": \"custom.exercise_interaction\", \"data\": {\"interactionType\": 2, \"questionType\": 2, \"questionId\": \"0_ExerciseFormatTutorial\", \"learnToolsVersion\": \"0.3.4\", \"valueTowardsCompletion\": 0.0, \"failureMessage\": \"\", \"exceptionClass\": \"\", \"trace\": \"\", \"outcomeType\": 4}}, \"*\")"
      ],
      "text/plain": [
       "<IPython.core.display.Javascript object>"
      ]
     },
     "metadata": {},
     "output_type": "display_data"
    },
    {
     "data": {
      "text/markdown": [
       "<span style=\"color:#3366cc\">Hint:</span> Your favorite color rhymes with *glue*."
      ],
      "text/plain": [
       "Hint: Your favorite color rhymes with *glue*."
      ]
     },
     "metadata": {},
     "output_type": "display_data"
    },
    {
     "data": {
      "application/javascript": [
       "parent.postMessage({\"jupyterEvent\": \"custom.exercise_interaction\", \"data\": {\"interactionType\": 3, \"questionType\": 2, \"questionId\": \"0_ExerciseFormatTutorial\", \"learnToolsVersion\": \"0.3.4\", \"valueTowardsCompletion\": 0.0, \"failureMessage\": \"\", \"exceptionClass\": \"\", \"trace\": \"\", \"outcomeType\": 4}}, \"*\")"
      ],
      "text/plain": [
       "<IPython.core.display.Javascript object>"
      ]
     },
     "metadata": {},
     "output_type": "display_data"
    },
    {
     "data": {
      "text/markdown": [
       "<span style=\"color:#33cc99\">Solution:</span> \n",
       "```python\n",
       "color = \"blue\"\n",
       "```"
      ],
      "text/plain": [
       "Solution: \n",
       "```python\n",
       "color = \"blue\"\n",
       "```"
      ]
     },
     "metadata": {},
     "output_type": "display_data"
    }
   ],
   "source": [
    "q0.hint()\n",
    "q0.solution()"
   ]
  },
  {
   "cell_type": "markdown",
   "id": "8a91f169",
   "metadata": {
    "papermill": {
     "duration": 0.017391,
     "end_time": "2021-08-08T17:48:48.385837",
     "exception": false,
     "start_time": "2021-08-08T17:48:48.368446",
     "status": "completed"
    },
    "tags": []
   },
   "source": [
    "The upcoming questions work the same way. The only thing that will change are the question numbers. For the next question, you'll call `q1.check()`, `q1.hint()`, `q1.solution()`, for question 2, you'll call `q2.check()`, and so on."
   ]
  },
  {
   "cell_type": "markdown",
   "id": "6aadf1ba",
   "metadata": {
    "papermill": {
     "duration": 0.016806,
     "end_time": "2021-08-08T17:48:48.420016",
     "exception": false,
     "start_time": "2021-08-08T17:48:48.403210",
     "status": "completed"
    },
    "tags": []
   },
   "source": [
    "<hr/>\n",
    "\n",
    "# 1.\n",
    "\n",
    "Complete the code below. In case it's helpful, here is the table of available arithmetic operations:\n",
    "\n",
    "\n",
    "\n",
    "| Operator     | Name           | Description                                            |\n",
    "|--------------|----------------|--------------------------------------------------------|\n",
    "| ``a + b``    | Addition       | Sum of ``a`` and ``b``                                 |\n",
    "| ``a - b``    | Subtraction    | Difference of ``a`` and ``b``                          |\n",
    "| ``a * b``    | Multiplication | Product of ``a`` and ``b``                             |\n",
    "| ``a / b``    | True division  | Quotient of ``a`` and ``b``                            |\n",
    "| ``a // b``   | Floor division | Quotient of ``a`` and ``b``, removing fractional parts |\n",
    "| ``a % b``    | Modulus        | Integer remainder after division of ``a`` by ``b``     |\n",
    "| ``a ** b``   | Exponentiation | ``a`` raised to the power of ``b``                     |\n",
    "| ``-a``       | Negation       | The negative of ``a``                                  |\n",
    "\n",
    "<span style=\"display:none\"></span>\n"
   ]
  },
  {
   "cell_type": "code",
   "execution_count": 5,
   "id": "598c09ad",
   "metadata": {
    "execution": {
     "iopub.execute_input": "2021-08-08T17:48:48.461027Z",
     "iopub.status.busy": "2021-08-08T17:48:48.460009Z",
     "iopub.status.idle": "2021-08-08T17:48:48.467747Z",
     "shell.execute_reply": "2021-08-08T17:48:48.467237Z",
     "shell.execute_reply.started": "2021-08-08T17:39:35.399426Z"
    },
    "papermill": {
     "duration": 0.030645,
     "end_time": "2021-08-08T17:48:48.467882",
     "exception": false,
     "start_time": "2021-08-08T17:48:48.437237",
     "status": "completed"
    },
    "tags": []
   },
   "outputs": [
    {
     "data": {
      "application/javascript": [
       "parent.postMessage({\"jupyterEvent\": \"custom.exercise_interaction\", \"data\": {\"outcomeType\": 1, \"valueTowardsCompletion\": 0.25, \"interactionType\": 1, \"questionType\": 1, \"questionId\": \"1_CircleArea\", \"learnToolsVersion\": \"0.3.4\", \"failureMessage\": \"\", \"exceptionClass\": \"\", \"trace\": \"\"}}, \"*\")"
      ],
      "text/plain": [
       "<IPython.core.display.Javascript object>"
      ]
     },
     "metadata": {},
     "output_type": "display_data"
    },
    {
     "data": {
      "text/markdown": [
       "<span style=\"color:#33cc33\">Correct</span>"
      ],
      "text/plain": [
       "Correct"
      ]
     },
     "metadata": {},
     "output_type": "display_data"
    }
   ],
   "source": [
    "pi = 3.14159 # approximate\n",
    "diameter = 3\n",
    "\n",
    "# Create a variable called 'radius' equal to half the diameter\n",
    "radius = 0.5*3\n",
    "\n",
    "# Create a variable called 'area', using the formula for the area of a circle: pi times the radius squared\n",
    "area = pi*radius**2\n",
    "\n",
    "# Check your answer\n",
    "q1.check()"
   ]
  },
  {
   "cell_type": "code",
   "execution_count": 6,
   "id": "5a47d66c",
   "metadata": {
    "execution": {
     "iopub.execute_input": "2021-08-08T17:48:48.511863Z",
     "iopub.status.busy": "2021-08-08T17:48:48.511208Z",
     "iopub.status.idle": "2021-08-08T17:48:48.514965Z",
     "shell.execute_reply": "2021-08-08T17:48:48.515438Z"
    },
    "papermill": {
     "duration": 0.028336,
     "end_time": "2021-08-08T17:48:48.515714",
     "exception": false,
     "start_time": "2021-08-08T17:48:48.487378",
     "status": "completed"
    },
    "tags": []
   },
   "outputs": [],
   "source": [
    "# Uncomment and run the lines below if you need help.\n",
    "#q1.hint()\n",
    "#q1.solution()"
   ]
  },
  {
   "cell_type": "markdown",
   "id": "21102276",
   "metadata": {
    "papermill": {
     "duration": 0.018394,
     "end_time": "2021-08-08T17:48:48.555058",
     "exception": false,
     "start_time": "2021-08-08T17:48:48.536664",
     "status": "completed"
    },
    "tags": []
   },
   "source": [
    "<hr/>\n",
    "\n",
    "# 2.\n",
    "\n",
    "Add code to the following cell to swap variables `a` and `b` (so that `a` refers to the object previously referred to by `b` and vice versa)."
   ]
  },
  {
   "cell_type": "code",
   "execution_count": 7,
   "id": "a6ef9876",
   "metadata": {
    "execution": {
     "iopub.execute_input": "2021-08-08T17:48:48.598981Z",
     "iopub.status.busy": "2021-08-08T17:48:48.598206Z",
     "iopub.status.idle": "2021-08-08T17:48:48.603854Z",
     "shell.execute_reply": "2021-08-08T17:48:48.604252Z",
     "shell.execute_reply.started": "2021-08-08T17:41:29.242489Z"
    },
    "papermill": {
     "duration": 0.030595,
     "end_time": "2021-08-08T17:48:48.604420",
     "exception": false,
     "start_time": "2021-08-08T17:48:48.573825",
     "status": "completed"
    },
    "tags": []
   },
   "outputs": [
    {
     "data": {
      "application/javascript": [
       "parent.postMessage({\"jupyterEvent\": \"custom.exercise_interaction\", \"data\": {\"outcomeType\": 1, \"valueTowardsCompletion\": 0.25, \"interactionType\": 1, \"questionType\": 2, \"questionId\": \"2_VariableSwap\", \"learnToolsVersion\": \"0.3.4\", \"failureMessage\": \"\", \"exceptionClass\": \"\", \"trace\": \"\"}}, \"*\")"
      ],
      "text/plain": [
       "<IPython.core.display.Javascript object>"
      ]
     },
     "metadata": {},
     "output_type": "display_data"
    },
    {
     "data": {
      "text/markdown": [
       "<span style=\"color:#33cc33\">Correct:</span> \n",
       "\n",
       "The most straightforward solution is to use a third variable to temporarily store one of the old values. e.g.:\n",
       "\n",
       "    tmp = a\n",
       "    a = b\n",
       "    b = tmp\n",
       "\n",
       "If you've read lots of Python code, you might have seen the following trick to swap two variables in one line:\n",
       "\n",
       "    a, b = b, a\n",
       "\n",
       "We'll demystify this bit of Python magic later when we talk about *tuples*."
      ],
      "text/plain": [
       "Correct: \n",
       "\n",
       "The most straightforward solution is to use a third variable to temporarily store one of the old values. e.g.:\n",
       "\n",
       "    tmp = a\n",
       "    a = b\n",
       "    b = tmp\n",
       "\n",
       "If you've read lots of Python code, you might have seen the following trick to swap two variables in one line:\n",
       "\n",
       "    a, b = b, a\n",
       "\n",
       "We'll demystify this bit of Python magic later when we talk about *tuples*."
      ]
     },
     "metadata": {},
     "output_type": "display_data"
    }
   ],
   "source": [
    "########### Setup code - don't touch this part ######################\n",
    "# If you're curious, these are examples of lists. We'll talk about \n",
    "# them in depth a few lessons from now. For now, just know that they're\n",
    "# yet another type of Python object, like int or float.\n",
    "a = [1, 2, 3]\n",
    "b = [3, 2, 1]\n",
    "q2.store_original_ids()\n",
    "######################################################################\n",
    "\n",
    "# Your code goes here. Swap the values to which a and b refer.\n",
    "# If you get stuck, you can always uncomment one or both of the lines in\n",
    "# the next cell for a hint, or to peek at the solution.\n",
    "\n",
    "#tmp = a\n",
    "#a = b\n",
    "#b = tmp\n",
    "\n",
    "a,b = b,a\n",
    "\n",
    "######################################################################\n",
    "\n",
    "# Check your answer\n",
    "q2.check()"
   ]
  },
  {
   "cell_type": "code",
   "execution_count": 8,
   "id": "2c838306",
   "metadata": {
    "execution": {
     "iopub.execute_input": "2021-08-08T17:48:48.647533Z",
     "iopub.status.busy": "2021-08-08T17:48:48.646517Z",
     "iopub.status.idle": "2021-08-08T17:48:48.649556Z",
     "shell.execute_reply": "2021-08-08T17:48:48.649018Z"
    },
    "papermill": {
     "duration": 0.025934,
     "end_time": "2021-08-08T17:48:48.649707",
     "exception": false,
     "start_time": "2021-08-08T17:48:48.623773",
     "status": "completed"
    },
    "tags": []
   },
   "outputs": [],
   "source": [
    "#q2.hint()"
   ]
  },
  {
   "cell_type": "code",
   "execution_count": 9,
   "id": "8c65792b",
   "metadata": {
    "execution": {
     "iopub.execute_input": "2021-08-08T17:48:48.693100Z",
     "iopub.status.busy": "2021-08-08T17:48:48.692251Z",
     "iopub.status.idle": "2021-08-08T17:48:48.694619Z",
     "shell.execute_reply": "2021-08-08T17:48:48.695071Z"
    },
    "papermill": {
     "duration": 0.025746,
     "end_time": "2021-08-08T17:48:48.695222",
     "exception": false,
     "start_time": "2021-08-08T17:48:48.669476",
     "status": "completed"
    },
    "tags": []
   },
   "outputs": [],
   "source": [
    "#q2.solution()"
   ]
  },
  {
   "cell_type": "markdown",
   "id": "33f73815",
   "metadata": {
    "papermill": {
     "duration": 0.018857,
     "end_time": "2021-08-08T17:48:48.733416",
     "exception": false,
     "start_time": "2021-08-08T17:48:48.714559",
     "status": "completed"
    },
    "tags": []
   },
   "source": [
    "<hr/>\n",
    "\n",
    "# 3a.\n",
    "\n",
    "Add parentheses to the following expression so that it evaluates to 1."
   ]
  },
  {
   "cell_type": "code",
   "execution_count": 10,
   "id": "6cf54f94",
   "metadata": {
    "execution": {
     "iopub.execute_input": "2021-08-08T17:48:48.777965Z",
     "iopub.status.busy": "2021-08-08T17:48:48.776920Z",
     "iopub.status.idle": "2021-08-08T17:48:48.780325Z",
     "shell.execute_reply": "2021-08-08T17:48:48.780915Z",
     "shell.execute_reply.started": "2021-08-08T17:42:31.612721Z"
    },
    "papermill": {
     "duration": 0.028232,
     "end_time": "2021-08-08T17:48:48.781078",
     "exception": false,
     "start_time": "2021-08-08T17:48:48.752846",
     "status": "completed"
    },
    "tags": []
   },
   "outputs": [
    {
     "data": {
      "text/plain": [
       "1"
      ]
     },
     "execution_count": 10,
     "metadata": {},
     "output_type": "execute_result"
    }
   ],
   "source": [
    "(5 - 3) // 2"
   ]
  },
  {
   "cell_type": "code",
   "execution_count": 11,
   "id": "44ecedea",
   "metadata": {
    "execution": {
     "iopub.execute_input": "2021-08-08T17:48:48.827077Z",
     "iopub.status.busy": "2021-08-08T17:48:48.826186Z",
     "iopub.status.idle": "2021-08-08T17:48:48.829209Z",
     "shell.execute_reply": "2021-08-08T17:48:48.828785Z"
    },
    "papermill": {
     "duration": 0.027586,
     "end_time": "2021-08-08T17:48:48.829346",
     "exception": false,
     "start_time": "2021-08-08T17:48:48.801760",
     "status": "completed"
    },
    "tags": []
   },
   "outputs": [],
   "source": [
    "#q3.a.hint()"
   ]
  },
  {
   "cell_type": "code",
   "execution_count": 12,
   "id": "e2ee5295",
   "metadata": {
    "execution": {
     "iopub.execute_input": "2021-08-08T17:48:48.873928Z",
     "iopub.status.busy": "2021-08-08T17:48:48.873234Z",
     "iopub.status.idle": "2021-08-08T17:48:48.877956Z",
     "shell.execute_reply": "2021-08-08T17:48:48.877371Z"
    },
    "papermill": {
     "duration": 0.028646,
     "end_time": "2021-08-08T17:48:48.878092",
     "exception": false,
     "start_time": "2021-08-08T17:48:48.849446",
     "status": "completed"
    },
    "tags": []
   },
   "outputs": [
    {
     "data": {
      "application/javascript": [
       "parent.postMessage({\"jupyterEvent\": \"custom.exercise_interaction\", \"data\": {\"interactionType\": 3, \"questionType\": 4, \"questionId\": \"3.1_ArithmeticParensEasy\", \"learnToolsVersion\": \"0.3.4\", \"valueTowardsCompletion\": 0.0, \"failureMessage\": \"\", \"exceptionClass\": \"\", \"trace\": \"\", \"outcomeType\": 4}}, \"*\")"
      ],
      "text/plain": [
       "<IPython.core.display.Javascript object>"
      ]
     },
     "metadata": {},
     "output_type": "display_data"
    },
    {
     "data": {
      "text/markdown": [
       "<span style=\"color:#33cc99\">Solution:</span> \n",
       "```python\n",
       "(5 - 3) // 2\n",
       "```"
      ],
      "text/plain": [
       "Solution: \n",
       "```python\n",
       "(5 - 3) // 2\n",
       "```"
      ]
     },
     "metadata": {},
     "output_type": "display_data"
    }
   ],
   "source": [
    "# Check your answer (Run this code cell to receive credit!)\n",
    "q3.a.solution()"
   ]
  },
  {
   "cell_type": "markdown",
   "id": "991f34a8",
   "metadata": {
    "papermill": {
     "duration": 0.020212,
     "end_time": "2021-08-08T17:48:48.919002",
     "exception": false,
     "start_time": "2021-08-08T17:48:48.898790",
     "status": "completed"
    },
    "tags": []
   },
   "source": [
    "# 3b.  <span title=\"A bit spicy\" style=\"color: darkgreen \">🌶️</span>\n",
    "\n",
    "<small>Questions, like this one, marked a spicy pepper are a bit harder.</small>\n",
    "\n",
    "Add parentheses to the following expression so that it evaluates to 0."
   ]
  },
  {
   "cell_type": "code",
   "execution_count": 13,
   "id": "0897dd78",
   "metadata": {
    "execution": {
     "iopub.execute_input": "2021-08-08T17:48:48.965088Z",
     "iopub.status.busy": "2021-08-08T17:48:48.964417Z",
     "iopub.status.idle": "2021-08-08T17:48:48.966827Z",
     "shell.execute_reply": "2021-08-08T17:48:48.967260Z",
     "shell.execute_reply.started": "2021-08-08T17:44:25.985771Z"
    },
    "papermill": {
     "duration": 0.027965,
     "end_time": "2021-08-08T17:48:48.967420",
     "exception": false,
     "start_time": "2021-08-08T17:48:48.939455",
     "status": "completed"
    },
    "tags": []
   },
   "outputs": [
    {
     "data": {
      "text/plain": [
       "0"
      ]
     },
     "execution_count": 13,
     "metadata": {},
     "output_type": "execute_result"
    }
   ],
   "source": [
    "(8 - 3 * 2) - (1 + 1)"
   ]
  },
  {
   "cell_type": "code",
   "execution_count": 14,
   "id": "26170964",
   "metadata": {
    "execution": {
     "iopub.execute_input": "2021-08-08T17:48:49.013238Z",
     "iopub.status.busy": "2021-08-08T17:48:49.012622Z",
     "iopub.status.idle": "2021-08-08T17:48:49.015454Z",
     "shell.execute_reply": "2021-08-08T17:48:49.015954Z"
    },
    "papermill": {
     "duration": 0.027379,
     "end_time": "2021-08-08T17:48:49.016134",
     "exception": false,
     "start_time": "2021-08-08T17:48:48.988755",
     "status": "completed"
    },
    "tags": []
   },
   "outputs": [],
   "source": [
    "#q3.b.hint()"
   ]
  },
  {
   "cell_type": "code",
   "execution_count": 15,
   "id": "fbbfca92",
   "metadata": {
    "execution": {
     "iopub.execute_input": "2021-08-08T17:48:49.061094Z",
     "iopub.status.busy": "2021-08-08T17:48:49.060390Z",
     "iopub.status.idle": "2021-08-08T17:48:49.065967Z",
     "shell.execute_reply": "2021-08-08T17:48:49.066410Z",
     "shell.execute_reply.started": "2021-08-08T17:44:38.506529Z"
    },
    "papermill": {
     "duration": 0.029245,
     "end_time": "2021-08-08T17:48:49.066575",
     "exception": false,
     "start_time": "2021-08-08T17:48:49.037330",
     "status": "completed"
    },
    "tags": []
   },
   "outputs": [
    {
     "data": {
      "application/javascript": [
       "parent.postMessage({\"jupyterEvent\": \"custom.exercise_interaction\", \"data\": {\"interactionType\": 3, \"questionType\": 4, \"questionId\": \"3.2_ArithmeticParensHard\", \"learnToolsVersion\": \"0.3.4\", \"valueTowardsCompletion\": 0.0, \"failureMessage\": \"\", \"exceptionClass\": \"\", \"trace\": \"\", \"outcomeType\": 4}}, \"*\")"
      ],
      "text/plain": [
       "<IPython.core.display.Javascript object>"
      ]
     },
     "metadata": {},
     "output_type": "display_data"
    },
    {
     "data": {
      "text/markdown": [
       "<span style=\"color:#33cc99\">Solution:</span> `(8 - 3) * (2 - (1 + 1))` is one solution. There may be others."
      ],
      "text/plain": [
       "Solution: `(8 - 3) * (2 - (1 + 1))` is one solution. There may be others."
      ]
     },
     "metadata": {},
     "output_type": "display_data"
    }
   ],
   "source": [
    "# Check your answer (Run this code cell to receive credit!)\n",
    "q3.b.solution()"
   ]
  },
  {
   "cell_type": "markdown",
   "id": "2319918a",
   "metadata": {
    "papermill": {
     "duration": 0.021064,
     "end_time": "2021-08-08T17:48:49.109288",
     "exception": false,
     "start_time": "2021-08-08T17:48:49.088224",
     "status": "completed"
    },
    "tags": []
   },
   "source": [
    "<hr/>\n",
    "\n",
    "# 4. \n",
    "Alice, Bob and Carol have agreed to pool their Halloween candy and split it evenly among themselves.\n",
    "For the sake of their friendship, any candies left over will be smashed. For example, if they collectively\n",
    "bring home 91 candies, they'll take 30 each and smash 1.\n",
    "\n",
    "Write an arithmetic expression below to calculate how many candies they must smash for a given haul."
   ]
  },
  {
   "cell_type": "code",
   "execution_count": 16,
   "id": "f37345e7",
   "metadata": {
    "execution": {
     "iopub.execute_input": "2021-08-08T17:48:49.155131Z",
     "iopub.status.busy": "2021-08-08T17:48:49.154360Z",
     "iopub.status.idle": "2021-08-08T17:48:49.162905Z",
     "shell.execute_reply": "2021-08-08T17:48:49.163423Z",
     "shell.execute_reply.started": "2021-08-08T17:47:57.975716Z"
    },
    "papermill": {
     "duration": 0.032785,
     "end_time": "2021-08-08T17:48:49.163589",
     "exception": false,
     "start_time": "2021-08-08T17:48:49.130804",
     "status": "completed"
    },
    "tags": []
   },
   "outputs": [
    {
     "name": "stdout",
     "output_type": "stream",
     "text": [
      "1\n"
     ]
    },
    {
     "data": {
      "application/javascript": [
       "parent.postMessage({\"jupyterEvent\": \"custom.exercise_interaction\", \"data\": {\"outcomeType\": 1, \"valueTowardsCompletion\": 0.25, \"interactionType\": 1, \"questionType\": 1, \"questionId\": \"4_CandySplitting\", \"learnToolsVersion\": \"0.3.4\", \"failureMessage\": \"\", \"exceptionClass\": \"\", \"trace\": \"\"}}, \"*\")"
      ],
      "text/plain": [
       "<IPython.core.display.Javascript object>"
      ]
     },
     "metadata": {},
     "output_type": "display_data"
    },
    {
     "data": {
      "text/markdown": [
       "<span style=\"color:#33cc33\">Correct</span>"
      ],
      "text/plain": [
       "Correct"
      ]
     },
     "metadata": {},
     "output_type": "display_data"
    }
   ],
   "source": [
    "# Variables representing the number of candies collected by alice, bob, and carol\n",
    "alice_candies = 121\n",
    "bob_candies = 77\n",
    "carol_candies = 109\n",
    "\n",
    "# Your code goes here! Replace the right-hand side of this assignment with an expression\n",
    "# involving alice_candies, bob_candies, and carol_candies\n",
    "to_smash = (alice_candies+bob_candies+carol_candies) % 3\n",
    "\n",
    "print(to_smash)\n",
    "\n",
    "# Check your answer\n",
    "q4.check()"
   ]
  },
  {
   "cell_type": "code",
   "execution_count": 17,
   "id": "bcfe0e3d",
   "metadata": {
    "execution": {
     "iopub.execute_input": "2021-08-08T17:48:49.212784Z",
     "iopub.status.busy": "2021-08-08T17:48:49.211799Z",
     "iopub.status.idle": "2021-08-08T17:48:49.215283Z",
     "shell.execute_reply": "2021-08-08T17:48:49.215745Z"
    },
    "papermill": {
     "duration": 0.029367,
     "end_time": "2021-08-08T17:48:49.215927",
     "exception": false,
     "start_time": "2021-08-08T17:48:49.186560",
     "status": "completed"
    },
    "tags": []
   },
   "outputs": [],
   "source": [
    "#q4.hint()\n",
    "#q4.solution()"
   ]
  },
  {
   "cell_type": "markdown",
   "id": "3316b319",
   "metadata": {
    "papermill": {
     "duration": 0.023176,
     "end_time": "2021-08-08T17:48:49.262789",
     "exception": false,
     "start_time": "2021-08-08T17:48:49.239613",
     "status": "completed"
    },
    "tags": []
   },
   "source": [
    "# Keep Going\n",
    "\n",
    "Next up, you'll **[learn to write new functions and understand functions others write](https://www.kaggle.com/colinmorris/functions-and-getting-help)**. This will make you at least 10 times more productive as a Python programmer. "
   ]
  },
  {
   "cell_type": "markdown",
   "id": "93e4ddd7",
   "metadata": {
    "papermill": {
     "duration": 0.023085,
     "end_time": "2021-08-08T17:48:49.309266",
     "exception": false,
     "start_time": "2021-08-08T17:48:49.286181",
     "status": "completed"
    },
    "tags": []
   },
   "source": [
    "---\n",
    "\n",
    "\n",
    "\n",
    "\n",
    "*Have questions or comments? Visit the [Learn Discussion forum](https://www.kaggle.com/learn-forum/161283) to chat with other Learners.*"
   ]
  }
 ],
 "metadata": {
  "kernelspec": {
   "display_name": "Python 3",
   "language": "python",
   "name": "python3"
  },
  "language_info": {
   "codemirror_mode": {
    "name": "ipython",
    "version": 3
   },
   "file_extension": ".py",
   "mimetype": "text/x-python",
   "name": "python",
   "nbconvert_exporter": "python",
   "pygments_lexer": "ipython3",
   "version": "3.7.10"
  },
  "papermill": {
   "default_parameters": {},
   "duration": 9.304586,
   "end_time": "2021-08-08T17:48:49.940948",
   "environment_variables": {},
   "exception": null,
   "input_path": "__notebook__.ipynb",
   "output_path": "__notebook__.ipynb",
   "parameters": {},
   "start_time": "2021-08-08T17:48:40.636362",
   "version": "2.3.3"
  }
 },
 "nbformat": 4,
 "nbformat_minor": 5
}
