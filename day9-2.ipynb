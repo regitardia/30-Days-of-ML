{
 "cells": [
  {
   "cell_type": "markdown",
   "id": "17a3dfd2",
   "metadata": {
    "papermill": {
     "duration": 0.010947,
     "end_time": "2021-08-23T05:35:51.780488",
     "exception": false,
     "start_time": "2021-08-23T05:35:51.769541",
     "status": "completed"
    },
    "tags": []
   },
   "source": [
    "**This notebook is an exercise in the [Introduction to Machine Learning](https://www.kaggle.com/learn/intro-to-machine-learning) course.  You can reference the tutorial at [this link](https://www.kaggle.com/dansbecker/model-validation).**\n",
    "\n",
    "---\n"
   ]
  },
  {
   "cell_type": "markdown",
   "id": "e78f5ba2",
   "metadata": {
    "papermill": {
     "duration": 0.009623,
     "end_time": "2021-08-23T05:35:51.802383",
     "exception": false,
     "start_time": "2021-08-23T05:35:51.792760",
     "status": "completed"
    },
    "tags": []
   },
   "source": [
    "## Recap\n",
    "You've built a model. In this exercise you will test how good your model is.\n",
    "\n",
    "Run the cell below to set up your coding environment where the previous exercise left off."
   ]
  },
  {
   "cell_type": "code",
   "execution_count": 1,
   "id": "2c345245",
   "metadata": {
    "execution": {
     "iopub.execute_input": "2021-08-23T05:35:51.833433Z",
     "iopub.status.busy": "2021-08-23T05:35:51.832801Z",
     "iopub.status.idle": "2021-08-23T05:35:53.041185Z",
     "shell.execute_reply": "2021-08-23T05:35:53.040125Z",
     "shell.execute_reply.started": "2021-08-23T05:27:54.453386Z"
    },
    "papermill": {
     "duration": 1.229108,
     "end_time": "2021-08-23T05:35:53.041394",
     "exception": false,
     "start_time": "2021-08-23T05:35:51.812286",
     "status": "completed"
    },
    "tags": []
   },
   "outputs": [
    {
     "name": "stdout",
     "output_type": "stream",
     "text": [
      "First in-sample predictions: [208500. 181500. 223500. 140000. 250000.]\n",
      "Actual target values for those homes: [208500, 181500, 223500, 140000, 250000]\n",
      "Setup Complete\n"
     ]
    }
   ],
   "source": [
    "# Code you have previously used to load data\n",
    "import pandas as pd\n",
    "from sklearn.tree import DecisionTreeRegressor\n",
    "\n",
    "# Path of the file to read\n",
    "iowa_file_path = '../input/home-data-for-ml-course/train.csv'\n",
    "\n",
    "home_data = pd.read_csv(iowa_file_path)\n",
    "y = home_data.SalePrice\n",
    "feature_columns = ['LotArea', 'YearBuilt', '1stFlrSF', '2ndFlrSF', 'FullBath', 'BedroomAbvGr', 'TotRmsAbvGrd']\n",
    "X = home_data[feature_columns]\n",
    "\n",
    "# Specify Model\n",
    "iowa_model = DecisionTreeRegressor()\n",
    "# Fit Model\n",
    "iowa_model.fit(X, y)\n",
    "\n",
    "print(\"First in-sample predictions:\", iowa_model.predict(X.head()))\n",
    "print(\"Actual target values for those homes:\", y.head().tolist())\n",
    "\n",
    "# Set up code checking\n",
    "from learntools.core import binder\n",
    "binder.bind(globals())\n",
    "from learntools.machine_learning.ex4 import *\n",
    "print(\"Setup Complete\")"
   ]
  },
  {
   "cell_type": "markdown",
   "id": "ec93047a",
   "metadata": {
    "papermill": {
     "duration": 0.010196,
     "end_time": "2021-08-23T05:35:53.063418",
     "exception": false,
     "start_time": "2021-08-23T05:35:53.053222",
     "status": "completed"
    },
    "tags": []
   },
   "source": [
    "# Exercises\n",
    "\n",
    "## Step 1: Split Your Data\n",
    "Use the `train_test_split` function to split up your data.\n",
    "\n",
    "Give it the argument `random_state=1` so the `check` functions know what to expect when verifying your code.\n",
    "\n",
    "Recall, your features are loaded in the DataFrame **X** and your target is loaded in **y**.\n"
   ]
  },
  {
   "cell_type": "code",
   "execution_count": 2,
   "id": "9d90d950",
   "metadata": {
    "execution": {
     "iopub.execute_input": "2021-08-23T05:35:53.087706Z",
     "iopub.status.busy": "2021-08-23T05:35:53.086819Z",
     "iopub.status.idle": "2021-08-23T05:35:53.117536Z",
     "shell.execute_reply": "2021-08-23T05:35:53.118170Z",
     "shell.execute_reply.started": "2021-08-23T05:30:24.019142Z"
    },
    "papermill": {
     "duration": 0.044524,
     "end_time": "2021-08-23T05:35:53.118396",
     "exception": false,
     "start_time": "2021-08-23T05:35:53.073872",
     "status": "completed"
    },
    "tags": []
   },
   "outputs": [
    {
     "data": {
      "application/javascript": [
       "parent.postMessage({\"jupyterEvent\": \"custom.exercise_interaction\", \"data\": {\"outcomeType\": 1, \"valueTowardsCompletion\": 0.25, \"interactionType\": 1, \"questionType\": 2, \"questionId\": \"1_SplitData\", \"learnToolsVersion\": \"0.3.4\", \"failureMessage\": \"\", \"exceptionClass\": \"\", \"trace\": \"\"}}, \"*\")"
      ],
      "text/plain": [
       "<IPython.core.display.Javascript object>"
      ]
     },
     "metadata": {},
     "output_type": "display_data"
    },
    {
     "data": {
      "text/markdown": [
       "<span style=\"color:#33cc33\">Correct</span>"
      ],
      "text/plain": [
       "Correct"
      ]
     },
     "metadata": {},
     "output_type": "display_data"
    }
   ],
   "source": [
    "# Import the train_test_split function and uncomment\n",
    "from sklearn.model_selection import train_test_split\n",
    "\n",
    "# fill in and uncomment\n",
    "train_X, val_X, train_y, val_y = train_test_split(X,y,random_state=1)\n",
    "\n",
    "# Check your answer\n",
    "step_1.check()"
   ]
  },
  {
   "cell_type": "code",
   "execution_count": 3,
   "id": "46f1cd3b",
   "metadata": {
    "execution": {
     "iopub.execute_input": "2021-08-23T05:35:53.152519Z",
     "iopub.status.busy": "2021-08-23T05:35:53.151466Z",
     "iopub.status.idle": "2021-08-23T05:35:53.162863Z",
     "shell.execute_reply": "2021-08-23T05:35:53.163442Z",
     "shell.execute_reply.started": "2021-08-23T05:30:30.340048Z"
    },
    "papermill": {
     "duration": 0.028808,
     "end_time": "2021-08-23T05:35:53.163606",
     "exception": false,
     "start_time": "2021-08-23T05:35:53.134798",
     "status": "completed"
    },
    "tags": []
   },
   "outputs": [
    {
     "data": {
      "application/javascript": [
       "parent.postMessage({\"jupyterEvent\": \"custom.exercise_interaction\", \"data\": {\"interactionType\": 3, \"questionType\": 2, \"questionId\": \"1_SplitData\", \"learnToolsVersion\": \"0.3.4\", \"valueTowardsCompletion\": 0.0, \"failureMessage\": \"\", \"exceptionClass\": \"\", \"trace\": \"\", \"outcomeType\": 4}}, \"*\")"
      ],
      "text/plain": [
       "<IPython.core.display.Javascript object>"
      ]
     },
     "metadata": {},
     "output_type": "display_data"
    },
    {
     "data": {
      "text/markdown": [
       "<span style=\"color:#33cc99\">Solution:</span> \n",
       "```python\n",
       "from sklearn.model_selection import train_test_split\n",
       "train_X, val_X, train_y, val_y = train_test_split(X, y, random_state=1)\n",
       "```"
      ],
      "text/plain": [
       "Solution: \n",
       "```python\n",
       "from sklearn.model_selection import train_test_split\n",
       "train_X, val_X, train_y, val_y = train_test_split(X, y, random_state=1)\n",
       "```"
      ]
     },
     "metadata": {},
     "output_type": "display_data"
    }
   ],
   "source": [
    "# The lines below will show you a hint or the solution.\n",
    "# step_1.hint() \n",
    "step_1.solution()\n"
   ]
  },
  {
   "cell_type": "markdown",
   "id": "d1b21a23",
   "metadata": {
    "papermill": {
     "duration": 0.011817,
     "end_time": "2021-08-23T05:35:53.187700",
     "exception": false,
     "start_time": "2021-08-23T05:35:53.175883",
     "status": "completed"
    },
    "tags": []
   },
   "source": [
    "## Step 2: Specify and Fit the Model\n",
    "\n",
    "Create a `DecisionTreeRegressor` model and fit it to the relevant data.\n",
    "Set `random_state` to 1 again when creating the model."
   ]
  },
  {
   "cell_type": "code",
   "execution_count": 4,
   "id": "c83aabc2",
   "metadata": {
    "execution": {
     "iopub.execute_input": "2021-08-23T05:35:53.214470Z",
     "iopub.status.busy": "2021-08-23T05:35:53.213853Z",
     "iopub.status.idle": "2021-08-23T05:35:53.244169Z",
     "shell.execute_reply": "2021-08-23T05:35:53.243523Z",
     "shell.execute_reply.started": "2021-08-23T05:32:26.608812Z"
    },
    "papermill": {
     "duration": 0.04464,
     "end_time": "2021-08-23T05:35:53.244317",
     "exception": false,
     "start_time": "2021-08-23T05:35:53.199677",
     "status": "completed"
    },
    "tags": []
   },
   "outputs": [
    {
     "name": "stdout",
     "output_type": "stream",
     "text": [
      "[186500. 184000. 130000.  92000. 164500. 220000. 335000. 144152. 215000.\n",
      " 262000.]\n",
      "[186500. 184000. 130000.  92000. 164500. 220000. 335000. 144152. 215000.\n",
      " 262000.]\n"
     ]
    },
    {
     "data": {
      "application/javascript": [
       "parent.postMessage({\"jupyterEvent\": \"custom.exercise_interaction\", \"data\": {\"outcomeType\": 1, \"valueTowardsCompletion\": 0.25, \"interactionType\": 1, \"questionType\": 2, \"questionId\": \"2_FitModelWithTrain\", \"learnToolsVersion\": \"0.3.4\", \"failureMessage\": \"\", \"exceptionClass\": \"\", \"trace\": \"\"}}, \"*\")"
      ],
      "text/plain": [
       "<IPython.core.display.Javascript object>"
      ]
     },
     "metadata": {},
     "output_type": "display_data"
    },
    {
     "data": {
      "text/markdown": [
       "<span style=\"color:#33cc33\">Correct</span>"
      ],
      "text/plain": [
       "Correct"
      ]
     },
     "metadata": {},
     "output_type": "display_data"
    }
   ],
   "source": [
    "# You imported DecisionTreeRegressor in your last exercise\n",
    "# and that code has been copied to the setup code above. So, no need to\n",
    "# import it again\n",
    "\n",
    "# Specify the model\n",
    "iowa_model = DecisionTreeRegressor(random_state=1)\n",
    "\n",
    "# Fit iowa_model with the training data.\n",
    "iowa_model.fit(train_X,train_y)\n",
    "\n",
    "# Check your answer\n",
    "step_2.check()"
   ]
  },
  {
   "cell_type": "code",
   "execution_count": 5,
   "id": "7c76278f",
   "metadata": {
    "execution": {
     "iopub.execute_input": "2021-08-23T05:35:53.275815Z",
     "iopub.status.busy": "2021-08-23T05:35:53.274907Z",
     "iopub.status.idle": "2021-08-23T05:35:53.280894Z",
     "shell.execute_reply": "2021-08-23T05:35:53.280427Z",
     "shell.execute_reply.started": "2021-08-23T05:32:32.917169Z"
    },
    "papermill": {
     "duration": 0.023373,
     "end_time": "2021-08-23T05:35:53.281037",
     "exception": false,
     "start_time": "2021-08-23T05:35:53.257664",
     "status": "completed"
    },
    "tags": []
   },
   "outputs": [
    {
     "data": {
      "application/javascript": [
       "parent.postMessage({\"jupyterEvent\": \"custom.exercise_interaction\", \"data\": {\"interactionType\": 3, \"questionType\": 2, \"questionId\": \"2_FitModelWithTrain\", \"learnToolsVersion\": \"0.3.4\", \"valueTowardsCompletion\": 0.0, \"failureMessage\": \"\", \"exceptionClass\": \"\", \"trace\": \"\", \"outcomeType\": 4}}, \"*\")"
      ],
      "text/plain": [
       "<IPython.core.display.Javascript object>"
      ]
     },
     "metadata": {},
     "output_type": "display_data"
    },
    {
     "data": {
      "text/markdown": [
       "<span style=\"color:#33cc99\">Solution:</span> \n",
       "```python\n",
       "iowa_model = DecisionTreeRegressor(random_state=1)\n",
       "iowa_model.fit(train_X, train_y)\n",
       "```"
      ],
      "text/plain": [
       "Solution: \n",
       "```python\n",
       "iowa_model = DecisionTreeRegressor(random_state=1)\n",
       "iowa_model.fit(train_X, train_y)\n",
       "```"
      ]
     },
     "metadata": {},
     "output_type": "display_data"
    }
   ],
   "source": [
    "# step_2.hint()\n",
    "step_2.solution()"
   ]
  },
  {
   "cell_type": "markdown",
   "id": "eaf6ac3e",
   "metadata": {
    "papermill": {
     "duration": 0.013501,
     "end_time": "2021-08-23T05:35:53.308260",
     "exception": false,
     "start_time": "2021-08-23T05:35:53.294759",
     "status": "completed"
    },
    "tags": []
   },
   "source": [
    "## Step 3: Make Predictions with Validation data\n"
   ]
  },
  {
   "cell_type": "code",
   "execution_count": 6,
   "id": "eac8fee6",
   "metadata": {
    "execution": {
     "iopub.execute_input": "2021-08-23T05:35:53.339383Z",
     "iopub.status.busy": "2021-08-23T05:35:53.338496Z",
     "iopub.status.idle": "2021-08-23T05:35:53.349693Z",
     "shell.execute_reply": "2021-08-23T05:35:53.350237Z",
     "shell.execute_reply.started": "2021-08-23T05:33:22.609347Z"
    },
    "papermill": {
     "duration": 0.028235,
     "end_time": "2021-08-23T05:35:53.350394",
     "exception": false,
     "start_time": "2021-08-23T05:35:53.322159",
     "status": "completed"
    },
    "tags": []
   },
   "outputs": [
    {
     "data": {
      "application/javascript": [
       "parent.postMessage({\"jupyterEvent\": \"custom.exercise_interaction\", \"data\": {\"outcomeType\": 1, \"valueTowardsCompletion\": 0.25, \"interactionType\": 1, \"questionType\": 2, \"questionId\": \"3_ValPreds\", \"learnToolsVersion\": \"0.3.4\", \"failureMessage\": \"\", \"exceptionClass\": \"\", \"trace\": \"\"}}, \"*\")"
      ],
      "text/plain": [
       "<IPython.core.display.Javascript object>"
      ]
     },
     "metadata": {},
     "output_type": "display_data"
    },
    {
     "data": {
      "text/markdown": [
       "<span style=\"color:#33cc33\">Correct</span>"
      ],
      "text/plain": [
       "Correct"
      ]
     },
     "metadata": {},
     "output_type": "display_data"
    }
   ],
   "source": [
    "# Predict with all validation observations\n",
    "val_predictions = iowa_model.predict(val_X)\n",
    "\n",
    "# Check your answer\n",
    "step_3.check()"
   ]
  },
  {
   "cell_type": "code",
   "execution_count": 7,
   "id": "7e3eadf2",
   "metadata": {
    "execution": {
     "iopub.execute_input": "2021-08-23T05:35:53.382382Z",
     "iopub.status.busy": "2021-08-23T05:35:53.381523Z",
     "iopub.status.idle": "2021-08-23T05:35:53.388546Z",
     "shell.execute_reply": "2021-08-23T05:35:53.389069Z",
     "shell.execute_reply.started": "2021-08-23T05:33:29.673303Z"
    },
    "papermill": {
     "duration": 0.024744,
     "end_time": "2021-08-23T05:35:53.389229",
     "exception": false,
     "start_time": "2021-08-23T05:35:53.364485",
     "status": "completed"
    },
    "tags": []
   },
   "outputs": [
    {
     "data": {
      "application/javascript": [
       "parent.postMessage({\"jupyterEvent\": \"custom.exercise_interaction\", \"data\": {\"interactionType\": 3, \"questionType\": 2, \"questionId\": \"3_ValPreds\", \"learnToolsVersion\": \"0.3.4\", \"valueTowardsCompletion\": 0.0, \"failureMessage\": \"\", \"exceptionClass\": \"\", \"trace\": \"\", \"outcomeType\": 4}}, \"*\")"
      ],
      "text/plain": [
       "<IPython.core.display.Javascript object>"
      ]
     },
     "metadata": {},
     "output_type": "display_data"
    },
    {
     "data": {
      "text/markdown": [
       "<span style=\"color:#33cc99\">Solution:</span> \n",
       "```python\n",
       "val_predictions = iowa_model.predict(val_X)\n",
       "```"
      ],
      "text/plain": [
       "Solution: \n",
       "```python\n",
       "val_predictions = iowa_model.predict(val_X)\n",
       "```"
      ]
     },
     "metadata": {},
     "output_type": "display_data"
    }
   ],
   "source": [
    "# step_3.hint()\n",
    "step_3.solution()"
   ]
  },
  {
   "cell_type": "markdown",
   "id": "2e491afb",
   "metadata": {
    "papermill": {
     "duration": 0.014673,
     "end_time": "2021-08-23T05:35:53.418791",
     "exception": false,
     "start_time": "2021-08-23T05:35:53.404118",
     "status": "completed"
    },
    "tags": []
   },
   "source": [
    "Inspect your predictions and actual values from validation data."
   ]
  },
  {
   "cell_type": "code",
   "execution_count": 8,
   "id": "2e26518f",
   "metadata": {
    "execution": {
     "iopub.execute_input": "2021-08-23T05:35:53.455086Z",
     "iopub.status.busy": "2021-08-23T05:35:53.454494Z",
     "iopub.status.idle": "2021-08-23T05:35:53.458557Z",
     "shell.execute_reply": "2021-08-23T05:35:53.457643Z",
     "shell.execute_reply.started": "2021-08-23T05:34:13.074277Z"
    },
    "papermill": {
     "duration": 0.024951,
     "end_time": "2021-08-23T05:35:53.458783",
     "exception": false,
     "start_time": "2021-08-23T05:35:53.433832",
     "status": "completed"
    },
    "tags": []
   },
   "outputs": [
    {
     "name": "stdout",
     "output_type": "stream",
     "text": [
      "144152.0\n",
      "258     231500\n",
      "267     179500\n",
      "288     122000\n",
      "649      84500\n",
      "1233    142000\n",
      "         ...  \n",
      "1017    187500\n",
      "534     178000\n",
      "1334    125000\n",
      "1369    232000\n",
      "628     135000\n",
      "Name: SalePrice, Length: 365, dtype: int64\n"
     ]
    }
   ],
   "source": [
    "# print the top few validation predictions\n",
    "print(val_predictions[7])\n",
    "# print the top few actual prices from validation data\n",
    "print(val_y)"
   ]
  },
  {
   "cell_type": "markdown",
   "id": "775d3168",
   "metadata": {
    "papermill": {
     "duration": 0.021378,
     "end_time": "2021-08-23T05:35:53.497352",
     "exception": false,
     "start_time": "2021-08-23T05:35:53.475974",
     "status": "completed"
    },
    "tags": []
   },
   "source": [
    "What do you notice that is different from what you saw with in-sample predictions (which are printed after the top code cell in this page).\n",
    "\n",
    "Do you remember why validation predictions differ from in-sample (or training) predictions? This is an important idea from the last lesson.\n",
    "\n",
    "## Step 4: Calculate the Mean Absolute Error in Validation Data\n"
   ]
  },
  {
   "cell_type": "code",
   "execution_count": 9,
   "id": "3d6f6846",
   "metadata": {
    "execution": {
     "iopub.execute_input": "2021-08-23T05:35:53.541018Z",
     "iopub.status.busy": "2021-08-23T05:35:53.536775Z",
     "iopub.status.idle": "2021-08-23T05:35:53.548329Z",
     "shell.execute_reply": "2021-08-23T05:35:53.547800Z",
     "shell.execute_reply.started": "2021-08-23T05:35:22.352670Z"
    },
    "papermill": {
     "duration": 0.033583,
     "end_time": "2021-08-23T05:35:53.548461",
     "exception": false,
     "start_time": "2021-08-23T05:35:53.514878",
     "status": "completed"
    },
    "tags": []
   },
   "outputs": [
    {
     "name": "stdout",
     "output_type": "stream",
     "text": [
      "29652.931506849316\n"
     ]
    },
    {
     "data": {
      "application/javascript": [
       "parent.postMessage({\"jupyterEvent\": \"custom.exercise_interaction\", \"data\": {\"outcomeType\": 1, \"valueTowardsCompletion\": 0.25, \"interactionType\": 1, \"questionType\": 1, \"questionId\": \"4_MAE\", \"learnToolsVersion\": \"0.3.4\", \"failureMessage\": \"\", \"exceptionClass\": \"\", \"trace\": \"\"}}, \"*\")"
      ],
      "text/plain": [
       "<IPython.core.display.Javascript object>"
      ]
     },
     "metadata": {},
     "output_type": "display_data"
    },
    {
     "data": {
      "text/markdown": [
       "<span style=\"color:#33cc33\">Correct</span>"
      ],
      "text/plain": [
       "Correct"
      ]
     },
     "metadata": {},
     "output_type": "display_data"
    }
   ],
   "source": [
    "from sklearn.metrics import mean_absolute_error\n",
    "val_mae = mean_absolute_error(val_y, val_predictions)\n",
    "\n",
    "# uncomment following line to see the validation_mae\n",
    "print(val_mae)\n",
    "\n",
    "# Check your answer\n",
    "step_4.check()"
   ]
  },
  {
   "cell_type": "code",
   "execution_count": 10,
   "id": "2e6fff22",
   "metadata": {
    "execution": {
     "iopub.execute_input": "2021-08-23T05:35:53.588274Z",
     "iopub.status.busy": "2021-08-23T05:35:53.587638Z",
     "iopub.status.idle": "2021-08-23T05:35:53.593174Z",
     "shell.execute_reply": "2021-08-23T05:35:53.592706Z",
     "shell.execute_reply.started": "2021-08-23T05:35:29.586618Z"
    },
    "papermill": {
     "duration": 0.028234,
     "end_time": "2021-08-23T05:35:53.593306",
     "exception": false,
     "start_time": "2021-08-23T05:35:53.565072",
     "status": "completed"
    },
    "tags": []
   },
   "outputs": [
    {
     "data": {
      "application/javascript": [
       "parent.postMessage({\"jupyterEvent\": \"custom.exercise_interaction\", \"data\": {\"interactionType\": 3, \"questionType\": 1, \"questionId\": \"4_MAE\", \"learnToolsVersion\": \"0.3.4\", \"valueTowardsCompletion\": 0.0, \"failureMessage\": \"\", \"exceptionClass\": \"\", \"trace\": \"\", \"outcomeType\": 4}}, \"*\")"
      ],
      "text/plain": [
       "<IPython.core.display.Javascript object>"
      ]
     },
     "metadata": {},
     "output_type": "display_data"
    },
    {
     "data": {
      "text/markdown": [
       "<span style=\"color:#33cc99\">Solution:</span> \n",
       "```python\n",
       "val_mae = mean_absolute_error(val_predictions, val_y)\n",
       "```"
      ],
      "text/plain": [
       "Solution: \n",
       "```python\n",
       "val_mae = mean_absolute_error(val_predictions, val_y)\n",
       "```"
      ]
     },
     "metadata": {},
     "output_type": "display_data"
    }
   ],
   "source": [
    "# step_4.hint()\n",
    "step_4.solution()"
   ]
  },
  {
   "cell_type": "markdown",
   "id": "13353db1",
   "metadata": {
    "papermill": {
     "duration": 0.016859,
     "end_time": "2021-08-23T05:35:53.627112",
     "exception": false,
     "start_time": "2021-08-23T05:35:53.610253",
     "status": "completed"
    },
    "tags": []
   },
   "source": [
    "Is that MAE good?  There isn't a general rule for what values are good that applies across applications. But you'll see how to use (and improve) this number in the next step.\n",
    "\n",
    "# Keep Going\n",
    "\n",
    "You are ready for **[Underfitting and Overfitting](https://www.kaggle.com/dansbecker/underfitting-and-overfitting).**\n"
   ]
  },
  {
   "cell_type": "markdown",
   "id": "cf42c268",
   "metadata": {
    "papermill": {
     "duration": 0.01847,
     "end_time": "2021-08-23T05:35:53.662658",
     "exception": false,
     "start_time": "2021-08-23T05:35:53.644188",
     "status": "completed"
    },
    "tags": []
   },
   "source": [
    "---\n",
    "\n",
    "\n",
    "\n",
    "\n",
    "*Have questions or comments? Visit the [Learn Discussion forum](https://www.kaggle.com/learn-forum/161285) to chat with other Learners.*"
   ]
  }
 ],
 "metadata": {
  "kernelspec": {
   "display_name": "Python 3",
   "language": "python",
   "name": "python3"
  },
  "language_info": {
   "codemirror_mode": {
    "name": "ipython",
    "version": 3
   },
   "file_extension": ".py",
   "mimetype": "text/x-python",
   "name": "python",
   "nbconvert_exporter": "python",
   "pygments_lexer": "ipython3",
   "version": "3.7.10"
  },
  "papermill": {
   "default_parameters": {},
   "duration": 9.49549,
   "end_time": "2021-08-23T05:35:54.389933",
   "environment_variables": {},
   "exception": null,
   "input_path": "__notebook__.ipynb",
   "output_path": "__notebook__.ipynb",
   "parameters": {},
   "start_time": "2021-08-23T05:35:44.894443",
   "version": "2.3.3"
  }
 },
 "nbformat": 4,
 "nbformat_minor": 5
}
