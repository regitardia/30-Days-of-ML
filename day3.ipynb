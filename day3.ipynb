{
 "cells": [
  {
   "cell_type": "markdown",
   "id": "6cbc9dfc",
   "metadata": {
    "papermill": {
     "duration": 0.011893,
     "end_time": "2021-08-09T15:39:10.053589",
     "exception": false,
     "start_time": "2021-08-09T15:39:10.041696",
     "status": "completed"
    },
    "tags": []
   },
   "source": [
    "**This notebook is an exercise in the [Python](https://www.kaggle.com/learn/python) course.  You can reference the tutorial at [this link](https://www.kaggle.com/colinmorris/functions-and-getting-help).**\n",
    "\n",
    "---\n"
   ]
  },
  {
   "cell_type": "markdown",
   "id": "d0b69e86",
   "metadata": {
    "papermill": {
     "duration": 0.010407,
     "end_time": "2021-08-09T15:39:10.077176",
     "exception": false,
     "start_time": "2021-08-09T15:39:10.066769",
     "status": "completed"
    },
    "tags": []
   },
   "source": [
    "Functions are powerful. Try writing some yourself.\n",
    "\n",
    "As before, don't forget to run the setup code below before jumping into question 1."
   ]
  },
  {
   "cell_type": "code",
   "execution_count": 1,
   "id": "71a608b9",
   "metadata": {
    "_kg_hide-input": true,
    "_kg_hide-output": true,
    "execution": {
     "iopub.execute_input": "2021-08-09T15:39:10.102501Z",
     "iopub.status.busy": "2021-08-09T15:39:10.101409Z",
     "iopub.status.idle": "2021-08-09T15:39:10.229213Z",
     "shell.execute_reply": "2021-08-09T15:39:10.228625Z",
     "shell.execute_reply.started": "2021-08-09T15:08:44.924997Z"
    },
    "papermill": {
     "duration": 0.141486,
     "end_time": "2021-08-09T15:39:10.229381",
     "exception": false,
     "start_time": "2021-08-09T15:39:10.087895",
     "status": "completed"
    },
    "tags": []
   },
   "outputs": [
    {
     "name": "stdout",
     "output_type": "stream",
     "text": [
      "Setup complete.\n"
     ]
    }
   ],
   "source": [
    "# SETUP. You don't need to worry for now about what this code does or how it works.\n",
    "from learntools.core import binder; binder.bind(globals())\n",
    "from learntools.python.ex2 import *\n",
    "print('Setup complete.')"
   ]
  },
  {
   "cell_type": "markdown",
   "id": "8010bced",
   "metadata": {
    "papermill": {
     "duration": 0.010528,
     "end_time": "2021-08-09T15:39:10.251271",
     "exception": false,
     "start_time": "2021-08-09T15:39:10.240743",
     "status": "completed"
    },
    "tags": []
   },
   "source": [
    "# 1.\n",
    "\n",
    "Complete the body of the following function according to its docstring.\n",
    "\n",
    "HINT: Python has a built-in function `round`."
   ]
  },
  {
   "cell_type": "code",
   "execution_count": 2,
   "id": "a46dfbe3",
   "metadata": {
    "execution": {
     "iopub.execute_input": "2021-08-09T15:39:10.280708Z",
     "iopub.status.busy": "2021-08-09T15:39:10.279756Z",
     "iopub.status.idle": "2021-08-09T15:39:10.284987Z",
     "shell.execute_reply": "2021-08-09T15:39:10.285395Z",
     "shell.execute_reply.started": "2021-08-09T15:25:29.171386Z"
    },
    "papermill": {
     "duration": 0.023399,
     "end_time": "2021-08-09T15:39:10.285561",
     "exception": false,
     "start_time": "2021-08-09T15:39:10.262162",
     "status": "completed"
    },
    "tags": []
   },
   "outputs": [
    {
     "data": {
      "application/javascript": [
       "parent.postMessage({\"jupyterEvent\": \"custom.exercise_interaction\", \"data\": {\"outcomeType\": 1, \"valueTowardsCompletion\": 0.16666666666666666, \"interactionType\": 1, \"questionType\": 2, \"questionId\": \"1_RoundFunctionProblem\", \"learnToolsVersion\": \"0.3.4\", \"failureMessage\": \"\", \"exceptionClass\": \"\", \"trace\": \"\"}}, \"*\")"
      ],
      "text/plain": [
       "<IPython.core.display.Javascript object>"
      ]
     },
     "metadata": {},
     "output_type": "display_data"
    },
    {
     "data": {
      "text/markdown": [
       "<span style=\"color:#33cc33\">Correct</span>"
      ],
      "text/plain": [
       "Correct"
      ]
     },
     "metadata": {},
     "output_type": "display_data"
    }
   ],
   "source": [
    "def round_to_two_places(num):\n",
    "    \"\"\"Return the given number rounded to two decimal places. \n",
    "    \n",
    "    >>> round_to_two_places(3.14159)\n",
    "    3.14\n",
    "    \"\"\"\n",
    "    # Replace this body with your own code.\n",
    "    # (\"pass\" is a keyword that does literally nothing. We used it as a placeholder\n",
    "    # because after we begin a code block, Python requires at least one line of code)\n",
    "    return round(num,ndigits=2)\n",
    "\n",
    "# Check your answer\n",
    "q1.check()"
   ]
  },
  {
   "cell_type": "code",
   "execution_count": 3,
   "id": "4a550fab",
   "metadata": {
    "execution": {
     "iopub.execute_input": "2021-08-09T15:39:10.313106Z",
     "iopub.status.busy": "2021-08-09T15:39:10.312545Z",
     "iopub.status.idle": "2021-08-09T15:39:10.317000Z",
     "shell.execute_reply": "2021-08-09T15:39:10.317562Z",
     "shell.execute_reply.started": "2021-08-09T15:25:59.049015Z"
    },
    "papermill": {
     "duration": 0.020555,
     "end_time": "2021-08-09T15:39:10.317727",
     "exception": false,
     "start_time": "2021-08-09T15:39:10.297172",
     "status": "completed"
    },
    "tags": []
   },
   "outputs": [
    {
     "data": {
      "application/javascript": [
       "parent.postMessage({\"jupyterEvent\": \"custom.exercise_interaction\", \"data\": {\"interactionType\": 3, \"questionType\": 2, \"questionId\": \"1_RoundFunctionProblem\", \"learnToolsVersion\": \"0.3.4\", \"valueTowardsCompletion\": 0.0, \"failureMessage\": \"\", \"exceptionClass\": \"\", \"trace\": \"\", \"outcomeType\": 4}}, \"*\")"
      ],
      "text/plain": [
       "<IPython.core.display.Javascript object>"
      ]
     },
     "metadata": {},
     "output_type": "display_data"
    },
    {
     "data": {
      "text/markdown": [
       "<span style=\"color:#33cc99\">Solution:</span> \n",
       "```python\n",
       "return round(num, 2)\n",
       "```"
      ],
      "text/plain": [
       "Solution: \n",
       "```python\n",
       "return round(num, 2)\n",
       "```"
      ]
     },
     "metadata": {},
     "output_type": "display_data"
    }
   ],
   "source": [
    "# Uncomment the following for a hint\n",
    "#q1.hint()\n",
    "# Or uncomment the following to peek at the solution\n",
    "q1.solution()"
   ]
  },
  {
   "cell_type": "markdown",
   "id": "f4d5c6c8",
   "metadata": {
    "papermill": {
     "duration": 0.01215,
     "end_time": "2021-08-09T15:39:10.342514",
     "exception": false,
     "start_time": "2021-08-09T15:39:10.330364",
     "status": "completed"
    },
    "tags": []
   },
   "source": [
    "# 2.\n",
    "The help for `round` says that `ndigits` (the second argument) may be negative.\n",
    "What do you think will happen when it is? Try some examples in the following cell."
   ]
  },
  {
   "cell_type": "code",
   "execution_count": 4,
   "id": "d7b540db",
   "metadata": {
    "execution": {
     "iopub.execute_input": "2021-08-09T15:39:10.369878Z",
     "iopub.status.busy": "2021-08-09T15:39:10.369308Z",
     "iopub.status.idle": "2021-08-09T15:39:10.374602Z",
     "shell.execute_reply": "2021-08-09T15:39:10.374039Z",
     "shell.execute_reply.started": "2021-08-09T15:31:15.137046Z"
    },
    "papermill": {
     "duration": 0.019917,
     "end_time": "2021-08-09T15:39:10.374732",
     "exception": false,
     "start_time": "2021-08-09T15:39:10.354815",
     "status": "completed"
    },
    "tags": []
   },
   "outputs": [
    {
     "name": "stdout",
     "output_type": "stream",
     "text": [
      "200.0\n",
      "100.0\n"
     ]
    }
   ],
   "source": [
    "# Put your test code here\n",
    "print (\n",
    "    round(155.234,ndigits=-2),\n",
    "    round(124.234,ndigits=-2), sep='\\n')"
   ]
  },
  {
   "cell_type": "markdown",
   "id": "5de9406e",
   "metadata": {
    "papermill": {
     "duration": 0.012233,
     "end_time": "2021-08-09T15:39:10.399746",
     "exception": false,
     "start_time": "2021-08-09T15:39:10.387513",
     "status": "completed"
    },
    "tags": []
   },
   "source": [
    "Can you think of a case where this would be useful?  Once you're ready, run the code cell below to see the answer and to receive credit for completing the problem."
   ]
  },
  {
   "cell_type": "code",
   "execution_count": 5,
   "id": "fe86b5c1",
   "metadata": {
    "execution": {
     "iopub.execute_input": "2021-08-09T15:39:10.429402Z",
     "iopub.status.busy": "2021-08-09T15:39:10.428812Z",
     "iopub.status.idle": "2021-08-09T15:39:10.433201Z",
     "shell.execute_reply": "2021-08-09T15:39:10.433710Z",
     "shell.execute_reply.started": "2021-08-09T15:30:46.190954Z"
    },
    "papermill": {
     "duration": 0.021578,
     "end_time": "2021-08-09T15:39:10.433872",
     "exception": false,
     "start_time": "2021-08-09T15:39:10.412294",
     "status": "completed"
    },
    "tags": []
   },
   "outputs": [
    {
     "data": {
      "application/javascript": [
       "parent.postMessage({\"jupyterEvent\": \"custom.exercise_interaction\", \"data\": {\"interactionType\": 3, \"questionType\": 4, \"questionId\": \"2_RoundNdigitsProblem\", \"learnToolsVersion\": \"0.3.4\", \"valueTowardsCompletion\": 0.0, \"failureMessage\": \"\", \"exceptionClass\": \"\", \"trace\": \"\", \"outcomeType\": 4}}, \"*\")"
      ],
      "text/plain": [
       "<IPython.core.display.Javascript object>"
      ]
     },
     "metadata": {},
     "output_type": "display_data"
    },
    {
     "data": {
      "text/markdown": [
       "<span style=\"color:#33cc99\">Solution:</span> As you've seen, `ndigits=-1` rounds to the nearest 10, `ndigits=-2` rounds to the nearest 100 and so on. Where might this be useful? Suppose we're dealing with large numbers:\n",
       "\n",
       "> The area of Finland is 338,424 km²  \n",
       "> The area of Greenland is 2,166,086 km²\n",
       "\n",
       "We probably don't care whether it's really 338,424, or 338,425, or 338,177. All those digits of accuracy are just distracting. We can chop them off by calling `round()` with `ndigits=-3`:\n",
       "\n",
       "> The area of Finland is 338,000 km²  \n",
       "> The area of Greenland is 2,166,000 km²\n",
       "\n",
       "(We'll talk about how we would get the commas later when we talk about string formatting :))\n"
      ],
      "text/plain": [
       "Solution: As you've seen, `ndigits=-1` rounds to the nearest 10, `ndigits=-2` rounds to the nearest 100 and so on. Where might this be useful? Suppose we're dealing with large numbers:\n",
       "\n",
       "> The area of Finland is 338,424 km²  \n",
       "> The area of Greenland is 2,166,086 km²\n",
       "\n",
       "We probably don't care whether it's really 338,424, or 338,425, or 338,177. All those digits of accuracy are just distracting. We can chop them off by calling `round()` with `ndigits=-3`:\n",
       "\n",
       "> The area of Finland is 338,000 km²  \n",
       "> The area of Greenland is 2,166,000 km²\n",
       "\n",
       "(We'll talk about how we would get the commas later when we talk about string formatting :))"
      ]
     },
     "metadata": {},
     "output_type": "display_data"
    }
   ],
   "source": [
    "# Check your answer (Run this code cell to receive credit!)\n",
    "q2.solution()"
   ]
  },
  {
   "cell_type": "markdown",
   "id": "73c4c34b",
   "metadata": {
    "papermill": {
     "duration": 0.013093,
     "end_time": "2021-08-09T15:39:10.460703",
     "exception": false,
     "start_time": "2021-08-09T15:39:10.447610",
     "status": "completed"
    },
    "tags": []
   },
   "source": [
    "# 3.\n",
    "\n",
    "In the previous exercise, the candy-sharing friends Alice, Bob and Carol tried to split candies evenly. For the sake of their friendship, any candies left over would be smashed. For example, if they collectively bring home 91 candies, they'll take 30 each and smash 1.\n",
    "\n",
    "Below is a simple function that will calculate the number of candies to smash for *any* number of total candies.\n",
    "\n",
    "Modify it so that it optionally takes a second argument representing the number of friends the candies are being split between. If no second argument is provided, it should assume 3 friends, as before.\n",
    "\n",
    "Update the docstring to reflect this new behaviour."
   ]
  },
  {
   "cell_type": "code",
   "execution_count": 6,
   "id": "67307acd",
   "metadata": {
    "execution": {
     "iopub.execute_input": "2021-08-09T15:39:10.490219Z",
     "iopub.status.busy": "2021-08-09T15:39:10.489652Z",
     "iopub.status.idle": "2021-08-09T15:39:10.495899Z",
     "shell.execute_reply": "2021-08-09T15:39:10.496362Z",
     "shell.execute_reply.started": "2021-08-09T15:33:34.459174Z"
    },
    "papermill": {
     "duration": 0.022478,
     "end_time": "2021-08-09T15:39:10.496525",
     "exception": false,
     "start_time": "2021-08-09T15:39:10.474047",
     "status": "completed"
    },
    "tags": []
   },
   "outputs": [
    {
     "data": {
      "application/javascript": [
       "parent.postMessage({\"jupyterEvent\": \"custom.exercise_interaction\", \"data\": {\"outcomeType\": 1, \"valueTowardsCompletion\": 0.16666666666666666, \"interactionType\": 1, \"questionType\": 2, \"questionId\": \"3_CandySmashingFunctionProblem\", \"learnToolsVersion\": \"0.3.4\", \"failureMessage\": \"\", \"exceptionClass\": \"\", \"trace\": \"\"}}, \"*\")"
      ],
      "text/plain": [
       "<IPython.core.display.Javascript object>"
      ]
     },
     "metadata": {},
     "output_type": "display_data"
    },
    {
     "data": {
      "text/markdown": [
       "<span style=\"color:#33cc33\">Correct</span>"
      ],
      "text/plain": [
       "Correct"
      ]
     },
     "metadata": {},
     "output_type": "display_data"
    }
   ],
   "source": [
    "def to_smash(total_candies, n=3):\n",
    "    \"\"\"Return the number of leftover candies that must be smashed after distributing\n",
    "    the given number of candies evenly between 3 friends.\n",
    "    \n",
    "    >>> to_smash(91, n=3)\n",
    "    1\n",
    "    \"\"\"\n",
    "    return total_candies % n\n",
    "\n",
    "# Check your answer\n",
    "q3.check()"
   ]
  },
  {
   "cell_type": "code",
   "execution_count": 7,
   "id": "5d2194fd",
   "metadata": {
    "execution": {
     "iopub.execute_input": "2021-08-09T15:39:10.528128Z",
     "iopub.status.busy": "2021-08-09T15:39:10.527585Z",
     "iopub.status.idle": "2021-08-09T15:39:10.531837Z",
     "shell.execute_reply": "2021-08-09T15:39:10.531329Z",
     "shell.execute_reply.started": "2021-08-03T14:38:23.70353Z"
    },
    "papermill": {
     "duration": 0.021173,
     "end_time": "2021-08-09T15:39:10.531974",
     "exception": false,
     "start_time": "2021-08-09T15:39:10.510801",
     "status": "completed"
    },
    "tags": []
   },
   "outputs": [],
   "source": [
    "#q3.hint()"
   ]
  },
  {
   "cell_type": "code",
   "execution_count": 8,
   "id": "707e6f60",
   "metadata": {
    "execution": {
     "iopub.execute_input": "2021-08-09T15:39:10.566451Z",
     "iopub.status.busy": "2021-08-09T15:39:10.565471Z",
     "iopub.status.idle": "2021-08-09T15:39:10.571246Z",
     "shell.execute_reply": "2021-08-09T15:39:10.570762Z",
     "shell.execute_reply.started": "2021-08-09T15:33:44.002021Z"
    },
    "papermill": {
     "duration": 0.025018,
     "end_time": "2021-08-09T15:39:10.571408",
     "exception": false,
     "start_time": "2021-08-09T15:39:10.546390",
     "status": "completed"
    },
    "tags": []
   },
   "outputs": [
    {
     "data": {
      "application/javascript": [
       "parent.postMessage({\"jupyterEvent\": \"custom.exercise_interaction\", \"data\": {\"interactionType\": 3, \"questionType\": 2, \"questionId\": \"3_CandySmashingFunctionProblem\", \"learnToolsVersion\": \"0.3.4\", \"valueTowardsCompletion\": 0.0, \"failureMessage\": \"\", \"exceptionClass\": \"\", \"trace\": \"\", \"outcomeType\": 4}}, \"*\")"
      ],
      "text/plain": [
       "<IPython.core.display.Javascript object>"
      ]
     },
     "metadata": {},
     "output_type": "display_data"
    },
    {
     "data": {
      "text/markdown": [
       "<span style=\"color:#33cc99\">Solution:</span> \n",
       "```python\n",
       "def to_smash(total_candies, n_friends=3):\n",
       "    return total_candies % n_friends\n",
       "```"
      ],
      "text/plain": [
       "Solution: \n",
       "```python\n",
       "def to_smash(total_candies, n_friends=3):\n",
       "    return total_candies % n_friends\n",
       "```"
      ]
     },
     "metadata": {},
     "output_type": "display_data"
    }
   ],
   "source": [
    "q3.solution()"
   ]
  },
  {
   "cell_type": "markdown",
   "id": "591dd5be",
   "metadata": {
    "papermill": {
     "duration": 0.015016,
     "end_time": "2021-08-09T15:39:10.601837",
     "exception": false,
     "start_time": "2021-08-09T15:39:10.586821",
     "status": "completed"
    },
    "tags": []
   },
   "source": [
    "# 4. (Optional)\n",
    "\n",
    "It may not be fun, but reading and understanding error messages will be an important part of your Python career.\n",
    "\n",
    "Each code cell below contains some commented buggy code. For each cell...\n",
    "\n",
    "1. Read the code and predict what you think will happen when it's run.\n",
    "2. Then uncomment the code and run it to see what happens. (**Tip**: In the kernel editor, you can highlight several lines and press `ctrl`+`/` to toggle commenting.)\n",
    "3. Fix the code (so that it accomplishes its intended purpose without throwing an exception)\n",
    "\n",
    "<!-- TODO: should this be autochecked? Delta is probably pretty small. -->"
   ]
  },
  {
   "cell_type": "code",
   "execution_count": 9,
   "id": "fb19fd30",
   "metadata": {
    "execution": {
     "iopub.execute_input": "2021-08-09T15:39:10.637313Z",
     "iopub.status.busy": "2021-08-09T15:39:10.636555Z",
     "iopub.status.idle": "2021-08-09T15:39:10.639691Z",
     "shell.execute_reply": "2021-08-09T15:39:10.640151Z",
     "shell.execute_reply.started": "2021-08-09T15:35:05.663619Z"
    },
    "papermill": {
     "duration": 0.023124,
     "end_time": "2021-08-09T15:39:10.640313",
     "exception": false,
     "start_time": "2021-08-09T15:39:10.617189",
     "status": "completed"
    },
    "tags": []
   },
   "outputs": [
    {
     "data": {
      "text/plain": [
       "10.0"
      ]
     },
     "execution_count": 9,
     "metadata": {},
     "output_type": "execute_result"
    }
   ],
   "source": [
    "round_to_two_places(9.9999)"
   ]
  },
  {
   "cell_type": "code",
   "execution_count": 10,
   "id": "62da1ea6",
   "metadata": {
    "execution": {
     "iopub.execute_input": "2021-08-09T15:39:10.674290Z",
     "iopub.status.busy": "2021-08-09T15:39:10.673411Z",
     "iopub.status.idle": "2021-08-09T15:39:10.678914Z",
     "shell.execute_reply": "2021-08-09T15:39:10.679368Z",
     "shell.execute_reply.started": "2021-08-09T15:37:29.427709Z"
    },
    "papermill": {
     "duration": 0.024047,
     "end_time": "2021-08-09T15:39:10.679530",
     "exception": false,
     "start_time": "2021-08-09T15:39:10.655483",
     "status": "completed"
    },
    "tags": []
   },
   "outputs": [
    {
     "data": {
      "text/plain": [
       "5"
      ]
     },
     "execution_count": 10,
     "metadata": {},
     "output_type": "execute_result"
    }
   ],
   "source": [
    "x = -10\n",
    "y = 5\n",
    "# Which of the two variables above has the smallest absolute value?\n",
    "smallest_abs = min(abs(x), abs(y))\n",
    "smallest_abs"
   ]
  },
  {
   "cell_type": "code",
   "execution_count": 11,
   "id": "75bc44e5",
   "metadata": {
    "execution": {
     "iopub.execute_input": "2021-08-09T15:39:10.713674Z",
     "iopub.status.busy": "2021-08-09T15:39:10.712762Z",
     "iopub.status.idle": "2021-08-09T15:39:10.719220Z",
     "shell.execute_reply": "2021-08-09T15:39:10.718524Z",
     "shell.execute_reply.started": "2021-08-09T15:38:38.714881Z"
    },
    "papermill": {
     "duration": 0.024522,
     "end_time": "2021-08-09T15:39:10.719453",
     "exception": false,
     "start_time": "2021-08-09T15:39:10.694931",
     "status": "completed"
    },
    "tags": []
   },
   "outputs": [
    {
     "name": "stdout",
     "output_type": "stream",
     "text": [
      "5\n"
     ]
    }
   ],
   "source": [
    "def f(x):\n",
    "    y = abs(x)\n",
    "    return y\n",
    "\n",
    "print(f(5))"
   ]
  },
  {
   "cell_type": "markdown",
   "id": "fa643533",
   "metadata": {
    "papermill": {
     "duration": 0.015398,
     "end_time": "2021-08-09T15:39:10.751452",
     "exception": false,
     "start_time": "2021-08-09T15:39:10.736054",
     "status": "completed"
    },
    "tags": []
   },
   "source": [
    "# Keep Going\n",
    "\n",
    "Nice job with the code. Next up, you'll learn about *conditionals*, which you'll need to **[write interesting programs](https://www.kaggle.com/colinmorris/booleans-and-conditionals)**. "
   ]
  },
  {
   "cell_type": "markdown",
   "id": "328bd5fa",
   "metadata": {
    "papermill": {
     "duration": 0.015318,
     "end_time": "2021-08-09T15:39:10.782777",
     "exception": false,
     "start_time": "2021-08-09T15:39:10.767459",
     "status": "completed"
    },
    "tags": []
   },
   "source": [
    "---\n",
    "\n",
    "\n",
    "\n",
    "\n",
    "*Have questions or comments? Visit the [Learn Discussion forum](https://www.kaggle.com/learn-forum/161283) to chat with other Learners.*"
   ]
  }
 ],
 "metadata": {
  "kernelspec": {
   "display_name": "Python 3",
   "language": "python",
   "name": "python3"
  },
  "language_info": {
   "codemirror_mode": {
    "name": "ipython",
    "version": 3
   },
   "file_extension": ".py",
   "mimetype": "text/x-python",
   "name": "python",
   "nbconvert_exporter": "python",
   "pygments_lexer": "ipython3",
   "version": "3.7.10"
  },
  "papermill": {
   "default_parameters": {},
   "duration": 8.10082,
   "end_time": "2021-08-09T15:39:11.408470",
   "environment_variables": {},
   "exception": null,
   "input_path": "__notebook__.ipynb",
   "output_path": "__notebook__.ipynb",
   "parameters": {},
   "start_time": "2021-08-09T15:39:03.307650",
   "version": "2.3.3"
  }
 },
 "nbformat": 4,
 "nbformat_minor": 5
}
