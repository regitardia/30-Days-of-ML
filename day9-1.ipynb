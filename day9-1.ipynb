{
 "cells": [
  {
   "cell_type": "markdown",
   "id": "6390abc8",
   "metadata": {
    "papermill": {
     "duration": 0.016813,
     "end_time": "2021-08-23T05:26:05.176116",
     "exception": false,
     "start_time": "2021-08-23T05:26:05.159303",
     "status": "completed"
    },
    "tags": []
   },
   "source": [
    "**This notebook is an exercise in the [Introduction to Machine Learning](https://www.kaggle.com/learn/intro-to-machine-learning) course.  You can reference the tutorial at [this link](https://www.kaggle.com/dansbecker/your-first-machine-learning-model).**\n",
    "\n",
    "---\n"
   ]
  },
  {
   "cell_type": "markdown",
   "id": "ee2cb330",
   "metadata": {
    "papermill": {
     "duration": 0.015343,
     "end_time": "2021-08-23T05:26:05.207424",
     "exception": false,
     "start_time": "2021-08-23T05:26:05.192081",
     "status": "completed"
    },
    "tags": []
   },
   "source": [
    "## Recap\n",
    "So far, you have loaded your data and reviewed it with the following code. Run this cell to set up your coding environment where the previous step left off."
   ]
  },
  {
   "cell_type": "code",
   "execution_count": 1,
   "id": "ab0af698",
   "metadata": {
    "execution": {
     "iopub.execute_input": "2021-08-23T05:26:05.242729Z",
     "iopub.status.busy": "2021-08-23T05:26:05.241578Z",
     "iopub.status.idle": "2021-08-23T05:26:06.708460Z",
     "shell.execute_reply": "2021-08-23T05:26:06.708954Z",
     "shell.execute_reply.started": "2021-08-23T05:10:04.782730Z"
    },
    "papermill": {
     "duration": 1.486264,
     "end_time": "2021-08-23T05:26:06.709257",
     "exception": false,
     "start_time": "2021-08-23T05:26:05.222993",
     "status": "completed"
    },
    "tags": []
   },
   "outputs": [
    {
     "name": "stdout",
     "output_type": "stream",
     "text": [
      "Setup Complete\n"
     ]
    }
   ],
   "source": [
    "# Code you have previously used to load data\n",
    "import pandas as pd\n",
    "\n",
    "# Path of the file to read\n",
    "iowa_file_path = '../input/home-data-for-ml-course/train.csv'\n",
    "\n",
    "home_data = pd.read_csv(iowa_file_path)\n",
    "\n",
    "# Set up code checking\n",
    "from learntools.core import binder\n",
    "binder.bind(globals())\n",
    "from learntools.machine_learning.ex3 import *\n",
    "\n",
    "print(\"Setup Complete\")"
   ]
  },
  {
   "cell_type": "markdown",
   "id": "6e9d09ae",
   "metadata": {
    "papermill": {
     "duration": 0.015689,
     "end_time": "2021-08-23T05:26:06.741448",
     "exception": false,
     "start_time": "2021-08-23T05:26:06.725759",
     "status": "completed"
    },
    "tags": []
   },
   "source": [
    "# Exercises\n",
    "\n",
    "## Step 1: Specify Prediction Target\n",
    "Select the target variable, which corresponds to the sales price. Save this to a new variable called `y`. You'll need to print a list of the columns to find the name of the column you need.\n"
   ]
  },
  {
   "cell_type": "code",
   "execution_count": 2,
   "id": "a7edb533",
   "metadata": {
    "execution": {
     "iopub.execute_input": "2021-08-23T05:26:06.776674Z",
     "iopub.status.busy": "2021-08-23T05:26:06.776042Z",
     "iopub.status.idle": "2021-08-23T05:26:06.785002Z",
     "shell.execute_reply": "2021-08-23T05:26:06.785601Z",
     "shell.execute_reply.started": "2021-08-23T05:11:27.251341Z"
    },
    "papermill": {
     "duration": 0.028291,
     "end_time": "2021-08-23T05:26:06.785785",
     "exception": false,
     "start_time": "2021-08-23T05:26:06.757494",
     "status": "completed"
    },
    "tags": []
   },
   "outputs": [
    {
     "data": {
      "text/plain": [
       "Index(['Id', 'MSSubClass', 'MSZoning', 'LotFrontage', 'LotArea', 'Street',\n",
       "       'Alley', 'LotShape', 'LandContour', 'Utilities', 'LotConfig',\n",
       "       'LandSlope', 'Neighborhood', 'Condition1', 'Condition2', 'BldgType',\n",
       "       'HouseStyle', 'OverallQual', 'OverallCond', 'YearBuilt', 'YearRemodAdd',\n",
       "       'RoofStyle', 'RoofMatl', 'Exterior1st', 'Exterior2nd', 'MasVnrType',\n",
       "       'MasVnrArea', 'ExterQual', 'ExterCond', 'Foundation', 'BsmtQual',\n",
       "       'BsmtCond', 'BsmtExposure', 'BsmtFinType1', 'BsmtFinSF1',\n",
       "       'BsmtFinType2', 'BsmtFinSF2', 'BsmtUnfSF', 'TotalBsmtSF', 'Heating',\n",
       "       'HeatingQC', 'CentralAir', 'Electrical', '1stFlrSF', '2ndFlrSF',\n",
       "       'LowQualFinSF', 'GrLivArea', 'BsmtFullBath', 'BsmtHalfBath', 'FullBath',\n",
       "       'HalfBath', 'BedroomAbvGr', 'KitchenAbvGr', 'KitchenQual',\n",
       "       'TotRmsAbvGrd', 'Functional', 'Fireplaces', 'FireplaceQu', 'GarageType',\n",
       "       'GarageYrBlt', 'GarageFinish', 'GarageCars', 'GarageArea', 'GarageQual',\n",
       "       'GarageCond', 'PavedDrive', 'WoodDeckSF', 'OpenPorchSF',\n",
       "       'EnclosedPorch', '3SsnPorch', 'ScreenPorch', 'PoolArea', 'PoolQC',\n",
       "       'Fence', 'MiscFeature', 'MiscVal', 'MoSold', 'YrSold', 'SaleType',\n",
       "       'SaleCondition', 'SalePrice'],\n",
       "      dtype='object')"
      ]
     },
     "execution_count": 2,
     "metadata": {},
     "output_type": "execute_result"
    }
   ],
   "source": [
    "# print the list of columns in the dataset to find the name of the prediction target\n",
    "home_data.columns"
   ]
  },
  {
   "cell_type": "code",
   "execution_count": 3,
   "id": "567e01c0",
   "metadata": {
    "execution": {
     "iopub.execute_input": "2021-08-23T05:26:06.822596Z",
     "iopub.status.busy": "2021-08-23T05:26:06.821949Z",
     "iopub.status.idle": "2021-08-23T05:26:06.836493Z",
     "shell.execute_reply": "2021-08-23T05:26:06.837060Z",
     "shell.execute_reply.started": "2021-08-23T05:12:02.122126Z"
    },
    "papermill": {
     "duration": 0.034475,
     "end_time": "2021-08-23T05:26:06.837252",
     "exception": false,
     "start_time": "2021-08-23T05:26:06.802777",
     "status": "completed"
    },
    "tags": []
   },
   "outputs": [
    {
     "data": {
      "application/javascript": [
       "parent.postMessage({\"jupyterEvent\": \"custom.exercise_interaction\", \"data\": {\"outcomeType\": 1, \"valueTowardsCompletion\": 0.25, \"interactionType\": 1, \"questionType\": 2, \"questionId\": \"1_SetTarget\", \"learnToolsVersion\": \"0.3.4\", \"failureMessage\": \"\", \"exceptionClass\": \"\", \"trace\": \"\"}}, \"*\")"
      ],
      "text/plain": [
       "<IPython.core.display.Javascript object>"
      ]
     },
     "metadata": {},
     "output_type": "display_data"
    },
    {
     "data": {
      "text/markdown": [
       "<span style=\"color:#33cc33\">Correct</span>"
      ],
      "text/plain": [
       "Correct"
      ]
     },
     "metadata": {},
     "output_type": "display_data"
    }
   ],
   "source": [
    "y = home_data.SalePrice\n",
    "\n",
    "# Check your answer\n",
    "step_1.check()"
   ]
  },
  {
   "cell_type": "code",
   "execution_count": 4,
   "id": "4eb97802",
   "metadata": {
    "execution": {
     "iopub.execute_input": "2021-08-23T05:26:06.875505Z",
     "iopub.status.busy": "2021-08-23T05:26:06.874828Z",
     "iopub.status.idle": "2021-08-23T05:26:06.881029Z",
     "shell.execute_reply": "2021-08-23T05:26:06.881550Z",
     "shell.execute_reply.started": "2021-08-23T05:12:09.003393Z"
    },
    "papermill": {
     "duration": 0.026886,
     "end_time": "2021-08-23T05:26:06.881717",
     "exception": false,
     "start_time": "2021-08-23T05:26:06.854831",
     "status": "completed"
    },
    "tags": []
   },
   "outputs": [
    {
     "data": {
      "application/javascript": [
       "parent.postMessage({\"jupyterEvent\": \"custom.exercise_interaction\", \"data\": {\"interactionType\": 3, \"questionType\": 2, \"questionId\": \"1_SetTarget\", \"learnToolsVersion\": \"0.3.4\", \"valueTowardsCompletion\": 0.0, \"failureMessage\": \"\", \"exceptionClass\": \"\", \"trace\": \"\", \"outcomeType\": 4}}, \"*\")"
      ],
      "text/plain": [
       "<IPython.core.display.Javascript object>"
      ]
     },
     "metadata": {},
     "output_type": "display_data"
    },
    {
     "data": {
      "text/markdown": [
       "<span style=\"color:#33cc99\">Solution:</span> \n",
       "```python\n",
       "y = home_data.SalePrice\n",
       "```"
      ],
      "text/plain": [
       "Solution: \n",
       "```python\n",
       "y = home_data.SalePrice\n",
       "```"
      ]
     },
     "metadata": {},
     "output_type": "display_data"
    }
   ],
   "source": [
    "# The lines below will show you a hint or the solution.\n",
    "# step_1.hint() \n",
    "step_1.solution()"
   ]
  },
  {
   "cell_type": "markdown",
   "id": "8b9a5dce",
   "metadata": {
    "papermill": {
     "duration": 0.018099,
     "end_time": "2021-08-23T05:26:06.918740",
     "exception": false,
     "start_time": "2021-08-23T05:26:06.900641",
     "status": "completed"
    },
    "tags": []
   },
   "source": [
    "## Step 2: Create X\n",
    "Now you will create a DataFrame called `X` holding the predictive features.\n",
    "\n",
    "Since you want only some columns from the original data, you'll first create a list with the names of the columns you want in `X`.\n",
    "\n",
    "You'll use just the following columns in the list (you can copy and paste the whole list to save some typing, though you'll still need to add quotes):\n",
    "    * LotArea\n",
    "    * YearBuilt\n",
    "    * 1stFlrSF\n",
    "    * 2ndFlrSF\n",
    "    * FullBath\n",
    "    * BedroomAbvGr\n",
    "    * TotRmsAbvGrd\n",
    "\n",
    "After you've created that list of features, use it to create the DataFrame that you'll use to fit the model."
   ]
  },
  {
   "cell_type": "code",
   "execution_count": 5,
   "id": "399b59cd",
   "metadata": {
    "execution": {
     "iopub.execute_input": "2021-08-23T05:26:06.959226Z",
     "iopub.status.busy": "2021-08-23T05:26:06.958608Z",
     "iopub.status.idle": "2021-08-23T05:26:06.968949Z",
     "shell.execute_reply": "2021-08-23T05:26:06.969479Z",
     "shell.execute_reply.started": "2021-08-23T05:16:51.839172Z"
    },
    "papermill": {
     "duration": 0.03254,
     "end_time": "2021-08-23T05:26:06.969660",
     "exception": false,
     "start_time": "2021-08-23T05:26:06.937120",
     "status": "completed"
    },
    "tags": []
   },
   "outputs": [
    {
     "data": {
      "application/javascript": [
       "parent.postMessage({\"jupyterEvent\": \"custom.exercise_interaction\", \"data\": {\"outcomeType\": 1, \"valueTowardsCompletion\": 0.25, \"interactionType\": 1, \"questionType\": 2, \"questionId\": \"2_SelectPredictionData\", \"learnToolsVersion\": \"0.3.4\", \"failureMessage\": \"\", \"exceptionClass\": \"\", \"trace\": \"\"}}, \"*\")"
      ],
      "text/plain": [
       "<IPython.core.display.Javascript object>"
      ]
     },
     "metadata": {},
     "output_type": "display_data"
    },
    {
     "data": {
      "text/markdown": [
       "<span style=\"color:#33cc33\">Correct</span>"
      ],
      "text/plain": [
       "Correct"
      ]
     },
     "metadata": {},
     "output_type": "display_data"
    }
   ],
   "source": [
    "# Create the list of features below\n",
    "feature_names =  ['LotArea', 'YearBuilt', '1stFlrSF', '2ndFlrSF', 'FullBath', 'BedroomAbvGr', 'TotRmsAbvGrd']\n",
    "\n",
    "# Select data corresponding to features in feature_names\n",
    "X = home_data[feature_names]\n",
    "\n",
    "# Check your answer\n",
    "step_2.check()"
   ]
  },
  {
   "cell_type": "markdown",
   "id": "63b9ce8b",
   "metadata": {
    "papermill": {
     "duration": 0.019658,
     "end_time": "2021-08-23T05:26:07.008625",
     "exception": false,
     "start_time": "2021-08-23T05:26:06.988967",
     "status": "completed"
    },
    "tags": []
   },
   "source": [
    "## Step 2: Create X\n",
    "Now you will create a DataFrame called `X` holding the predictive features.\n",
    "\n",
    "Since you want only some columns from the original data, you'll first create a list with the names of the columns you want in `X`.\n",
    "\n",
    "You'll use just the following columns in the list (you can copy and paste the whole list to save some typing, though you'll still need to add quotes):\n",
    "    * LotArea\n",
    "    * YearBuilt\n",
    "    * 1stFlrSF\n",
    "    * 2ndFlrSF\n",
    "    * FullBath\n",
    "    * BedroomAbvGr\n",
    "    * TotRmsAbvGrd\n",
    "\n",
    "After you've created that list of features, use it to create the DataFrame that you'll use to fit the model."
   ]
  },
  {
   "cell_type": "code",
   "execution_count": 6,
   "id": "35bc8c20",
   "metadata": {
    "execution": {
     "iopub.execute_input": "2021-08-23T05:26:07.050377Z",
     "iopub.status.busy": "2021-08-23T05:26:07.049743Z",
     "iopub.status.idle": "2021-08-23T05:26:07.056366Z",
     "shell.execute_reply": "2021-08-23T05:26:07.056907Z",
     "shell.execute_reply.started": "2021-08-23T05:16:59.010839Z"
    },
    "papermill": {
     "duration": 0.028993,
     "end_time": "2021-08-23T05:26:07.057071",
     "exception": false,
     "start_time": "2021-08-23T05:26:07.028078",
     "status": "completed"
    },
    "tags": []
   },
   "outputs": [
    {
     "data": {
      "application/javascript": [
       "parent.postMessage({\"jupyterEvent\": \"custom.exercise_interaction\", \"data\": {\"interactionType\": 3, \"questionType\": 2, \"questionId\": \"2_SelectPredictionData\", \"learnToolsVersion\": \"0.3.4\", \"valueTowardsCompletion\": 0.0, \"failureMessage\": \"\", \"exceptionClass\": \"\", \"trace\": \"\", \"outcomeType\": 4}}, \"*\")"
      ],
      "text/plain": [
       "<IPython.core.display.Javascript object>"
      ]
     },
     "metadata": {},
     "output_type": "display_data"
    },
    {
     "data": {
      "text/markdown": [
       "<span style=\"color:#33cc99\">Solution:</span> \n",
       "```python\n",
       "feature_names = [\"LotArea\", \"YearBuilt\", \"1stFlrSF\", \"2ndFlrSF\",\n",
       "                      \"FullBath\", \"BedroomAbvGr\", \"TotRmsAbvGrd\"]\n",
       "\n",
       "X=home_data[feature_names]\n",
       "```"
      ],
      "text/plain": [
       "Solution: \n",
       "```python\n",
       "feature_names = [\"LotArea\", \"YearBuilt\", \"1stFlrSF\", \"2ndFlrSF\",\n",
       "                      \"FullBath\", \"BedroomAbvGr\", \"TotRmsAbvGrd\"]\n",
       "\n",
       "X=home_data[feature_names]\n",
       "```"
      ]
     },
     "metadata": {},
     "output_type": "display_data"
    }
   ],
   "source": [
    "# step_2.hint()\n",
    "step_2.solution()"
   ]
  },
  {
   "cell_type": "markdown",
   "id": "4b4331f5",
   "metadata": {
    "papermill": {
     "duration": 0.019988,
     "end_time": "2021-08-23T05:26:07.097958",
     "exception": false,
     "start_time": "2021-08-23T05:26:07.077970",
     "status": "completed"
    },
    "tags": []
   },
   "source": [
    "## Review Data\n",
    "Before building a model, take a quick look at **X** to verify it looks sensible"
   ]
  },
  {
   "cell_type": "code",
   "execution_count": 7,
   "id": "87052671",
   "metadata": {
    "execution": {
     "iopub.execute_input": "2021-08-23T05:26:07.142763Z",
     "iopub.status.busy": "2021-08-23T05:26:07.142045Z",
     "iopub.status.idle": "2021-08-23T05:26:07.178666Z",
     "shell.execute_reply": "2021-08-23T05:26:07.179243Z",
     "shell.execute_reply.started": "2021-08-23T05:18:02.745445Z"
    },
    "papermill": {
     "duration": 0.060951,
     "end_time": "2021-08-23T05:26:07.179434",
     "exception": false,
     "start_time": "2021-08-23T05:26:07.118483",
     "status": "completed"
    },
    "tags": []
   },
   "outputs": [
    {
     "name": "stdout",
     "output_type": "stream",
     "text": [
      "             LotArea    YearBuilt     1stFlrSF     2ndFlrSF     FullBath  \\\n",
      "count    1460.000000  1460.000000  1460.000000  1460.000000  1460.000000   \n",
      "mean    10516.828082  1971.267808  1162.626712   346.992466     1.565068   \n",
      "std      9981.264932    30.202904   386.587738   436.528436     0.550916   \n",
      "min      1300.000000  1872.000000   334.000000     0.000000     0.000000   \n",
      "25%      7553.500000  1954.000000   882.000000     0.000000     1.000000   \n",
      "50%      9478.500000  1973.000000  1087.000000     0.000000     2.000000   \n",
      "75%     11601.500000  2000.000000  1391.250000   728.000000     2.000000   \n",
      "max    215245.000000  2010.000000  4692.000000  2065.000000     3.000000   \n",
      "\n",
      "       BedroomAbvGr  TotRmsAbvGrd  \n",
      "count   1460.000000   1460.000000  \n",
      "mean       2.866438      6.517808  \n",
      "std        0.815778      1.625393  \n",
      "min        0.000000      2.000000  \n",
      "25%        2.000000      5.000000  \n",
      "50%        3.000000      6.000000  \n",
      "75%        3.000000      7.000000  \n",
      "max        8.000000     14.000000  \n",
      "   LotArea  YearBuilt  1stFlrSF  2ndFlrSF  FullBath  BedroomAbvGr  \\\n",
      "0     8450       2003       856       854         2             3   \n",
      "1     9600       1976      1262         0         2             3   \n",
      "2    11250       2001       920       866         2             3   \n",
      "3     9550       1915       961       756         1             3   \n",
      "4    14260       2000      1145      1053         2             4   \n",
      "\n",
      "   TotRmsAbvGrd  \n",
      "0             8  \n",
      "1             6  \n",
      "2             6  \n",
      "3             7  \n",
      "4             9  \n"
     ]
    }
   ],
   "source": [
    "# Review data\n",
    "# print description or statistics from X\n",
    "print(X.describe())\n",
    "\n",
    "# print the top few lines\n",
    "print(X.head())"
   ]
  },
  {
   "cell_type": "markdown",
   "id": "c044c5cc",
   "metadata": {
    "papermill": {
     "duration": 0.020942,
     "end_time": "2021-08-23T05:26:07.221602",
     "exception": false,
     "start_time": "2021-08-23T05:26:07.200660",
     "status": "completed"
    },
    "tags": []
   },
   "source": [
    "## Step 3: Specify and Fit Model\n",
    "Create a `DecisionTreeRegressor` and save it iowa_model. Ensure you've done the relevant import from sklearn to run this command.\n",
    "\n",
    "Then fit the model you just created using the data in `X` and `y` that you saved above."
   ]
  },
  {
   "cell_type": "code",
   "execution_count": 8,
   "id": "efe86d0c",
   "metadata": {
    "execution": {
     "iopub.execute_input": "2021-08-23T05:26:07.266910Z",
     "iopub.status.busy": "2021-08-23T05:26:07.266243Z",
     "iopub.status.idle": "2021-08-23T05:26:07.284671Z",
     "shell.execute_reply": "2021-08-23T05:26:07.285176Z",
     "shell.execute_reply.started": "2021-08-23T05:21:41.380764Z"
    },
    "papermill": {
     "duration": 0.042648,
     "end_time": "2021-08-23T05:26:07.285359",
     "exception": false,
     "start_time": "2021-08-23T05:26:07.242711",
     "status": "completed"
    },
    "tags": []
   },
   "outputs": [
    {
     "data": {
      "application/javascript": [
       "parent.postMessage({\"jupyterEvent\": \"custom.exercise_interaction\", \"data\": {\"outcomeType\": 1, \"valueTowardsCompletion\": 0.25, \"interactionType\": 1, \"questionType\": 2, \"questionId\": \"3_CreateModel\", \"learnToolsVersion\": \"0.3.4\", \"failureMessage\": \"\", \"exceptionClass\": \"\", \"trace\": \"\"}}, \"*\")"
      ],
      "text/plain": [
       "<IPython.core.display.Javascript object>"
      ]
     },
     "metadata": {},
     "output_type": "display_data"
    },
    {
     "data": {
      "text/markdown": [
       "<span style=\"color:#33cc33\">Correct</span>"
      ],
      "text/plain": [
       "Correct"
      ]
     },
     "metadata": {},
     "output_type": "display_data"
    }
   ],
   "source": [
    "from sklearn.tree import DecisionTreeRegressor\n",
    "#specify the model. \n",
    "#For model reproducibility, set a numeric value for random_state when specifying the model\n",
    "iowa_model = DecisionTreeRegressor(random_state=1)\n",
    "\n",
    "# Fit the model\n",
    "iowa_model.fit(X,y)\n",
    "\n",
    "# Check your answer\n",
    "step_3.check()"
   ]
  },
  {
   "cell_type": "code",
   "execution_count": 9,
   "id": "be24e3e1",
   "metadata": {
    "execution": {
     "iopub.execute_input": "2021-08-23T05:26:07.334864Z",
     "iopub.status.busy": "2021-08-23T05:26:07.334242Z",
     "iopub.status.idle": "2021-08-23T05:26:07.339302Z",
     "shell.execute_reply": "2021-08-23T05:26:07.339776Z",
     "shell.execute_reply.started": "2021-08-23T05:21:49.938582Z"
    },
    "papermill": {
     "duration": 0.032063,
     "end_time": "2021-08-23T05:26:07.339940",
     "exception": false,
     "start_time": "2021-08-23T05:26:07.307877",
     "status": "completed"
    },
    "tags": []
   },
   "outputs": [
    {
     "data": {
      "application/javascript": [
       "parent.postMessage({\"jupyterEvent\": \"custom.exercise_interaction\", \"data\": {\"interactionType\": 3, \"questionType\": 2, \"questionId\": \"3_CreateModel\", \"learnToolsVersion\": \"0.3.4\", \"valueTowardsCompletion\": 0.0, \"failureMessage\": \"\", \"exceptionClass\": \"\", \"trace\": \"\", \"outcomeType\": 4}}, \"*\")"
      ],
      "text/plain": [
       "<IPython.core.display.Javascript object>"
      ]
     },
     "metadata": {},
     "output_type": "display_data"
    },
    {
     "data": {
      "text/markdown": [
       "<span style=\"color:#33cc99\">Solution:</span> \n",
       "```python\n",
       "from sklearn.tree import DecisionTreeRegressor\n",
       "iowa_model = DecisionTreeRegressor(random_state=1)\n",
       "iowa_model.fit(X, y)\n",
       "```"
      ],
      "text/plain": [
       "Solution: \n",
       "```python\n",
       "from sklearn.tree import DecisionTreeRegressor\n",
       "iowa_model = DecisionTreeRegressor(random_state=1)\n",
       "iowa_model.fit(X, y)\n",
       "```"
      ]
     },
     "metadata": {},
     "output_type": "display_data"
    }
   ],
   "source": [
    "# step_3.hint()\n",
    "step_3.solution()"
   ]
  },
  {
   "cell_type": "markdown",
   "id": "a24c6999",
   "metadata": {
    "papermill": {
     "duration": 0.022311,
     "end_time": "2021-08-23T05:26:07.384916",
     "exception": false,
     "start_time": "2021-08-23T05:26:07.362605",
     "status": "completed"
    },
    "tags": []
   },
   "source": [
    "## Step 4: Make Predictions\n",
    "Make predictions with the model's `predict` command using `X` as the data. Save the results to a variable called `predictions`."
   ]
  },
  {
   "cell_type": "code",
   "execution_count": 10,
   "id": "d18f6b87",
   "metadata": {
    "execution": {
     "iopub.execute_input": "2021-08-23T05:26:07.433372Z",
     "iopub.status.busy": "2021-08-23T05:26:07.432720Z",
     "iopub.status.idle": "2021-08-23T05:26:07.446276Z",
     "shell.execute_reply": "2021-08-23T05:26:07.445750Z",
     "shell.execute_reply.started": "2021-08-23T05:22:44.766829Z"
    },
    "papermill": {
     "duration": 0.038703,
     "end_time": "2021-08-23T05:26:07.446411",
     "exception": false,
     "start_time": "2021-08-23T05:26:07.407708",
     "status": "completed"
    },
    "tags": []
   },
   "outputs": [
    {
     "name": "stdout",
     "output_type": "stream",
     "text": [
      "[208500. 181500. 223500. ... 266500. 142125. 147500.]\n"
     ]
    },
    {
     "data": {
      "application/javascript": [
       "parent.postMessage({\"jupyterEvent\": \"custom.exercise_interaction\", \"data\": {\"outcomeType\": 1, \"valueTowardsCompletion\": 0.25, \"interactionType\": 1, \"questionType\": 2, \"questionId\": \"4_MakePredictions\", \"learnToolsVersion\": \"0.3.4\", \"failureMessage\": \"\", \"exceptionClass\": \"\", \"trace\": \"\"}}, \"*\")"
      ],
      "text/plain": [
       "<IPython.core.display.Javascript object>"
      ]
     },
     "metadata": {},
     "output_type": "display_data"
    },
    {
     "data": {
      "text/markdown": [
       "<span style=\"color:#33cc33\">Correct</span>"
      ],
      "text/plain": [
       "Correct"
      ]
     },
     "metadata": {},
     "output_type": "display_data"
    }
   ],
   "source": [
    "predictions = iowa_model.predict(X)\n",
    "print(predictions)\n",
    "\n",
    "# Check your answer\n",
    "step_4.check()"
   ]
  },
  {
   "cell_type": "code",
   "execution_count": 11,
   "id": "d8a55a17",
   "metadata": {
    "execution": {
     "iopub.execute_input": "2021-08-23T05:26:07.501260Z",
     "iopub.status.busy": "2021-08-23T05:26:07.500459Z",
     "iopub.status.idle": "2021-08-23T05:26:07.506123Z",
     "shell.execute_reply": "2021-08-23T05:26:07.505594Z",
     "shell.execute_reply.started": "2021-08-23T05:22:49.344917Z"
    },
    "papermill": {
     "duration": 0.033788,
     "end_time": "2021-08-23T05:26:07.506278",
     "exception": false,
     "start_time": "2021-08-23T05:26:07.472490",
     "status": "completed"
    },
    "tags": []
   },
   "outputs": [
    {
     "data": {
      "application/javascript": [
       "parent.postMessage({\"jupyterEvent\": \"custom.exercise_interaction\", \"data\": {\"interactionType\": 3, \"questionType\": 2, \"questionId\": \"4_MakePredictions\", \"learnToolsVersion\": \"0.3.4\", \"valueTowardsCompletion\": 0.0, \"failureMessage\": \"\", \"exceptionClass\": \"\", \"trace\": \"\", \"outcomeType\": 4}}, \"*\")"
      ],
      "text/plain": [
       "<IPython.core.display.Javascript object>"
      ]
     },
     "metadata": {},
     "output_type": "display_data"
    },
    {
     "data": {
      "text/markdown": [
       "<span style=\"color:#33cc99\">Solution:</span> \n",
       "```python\n",
       "iowa_model.predict(X)\n",
       "```"
      ],
      "text/plain": [
       "Solution: \n",
       "```python\n",
       "iowa_model.predict(X)\n",
       "```"
      ]
     },
     "metadata": {},
     "output_type": "display_data"
    }
   ],
   "source": [
    "# step_4.hint()\n",
    "step_4.solution()"
   ]
  },
  {
   "cell_type": "markdown",
   "id": "ce5089db",
   "metadata": {
    "papermill": {
     "duration": 0.02485,
     "end_time": "2021-08-23T05:26:07.556467",
     "exception": false,
     "start_time": "2021-08-23T05:26:07.531617",
     "status": "completed"
    },
    "tags": []
   },
   "source": [
    "## Think About Your Results\n",
    "\n",
    "Use the `head` method to compare the top few predictions to the actual home values (in `y`) for those same homes. Anything surprising?\n"
   ]
  },
  {
   "cell_type": "code",
   "execution_count": 12,
   "id": "35618f3f",
   "metadata": {
    "execution": {
     "iopub.execute_input": "2021-08-23T05:26:07.613410Z",
     "iopub.status.busy": "2021-08-23T05:26:07.612728Z",
     "iopub.status.idle": "2021-08-23T05:26:07.616000Z",
     "shell.execute_reply": "2021-08-23T05:26:07.616694Z",
     "shell.execute_reply.started": "2021-08-23T05:25:36.192098Z"
    },
    "papermill": {
     "duration": 0.035332,
     "end_time": "2021-08-23T05:26:07.616931",
     "exception": false,
     "start_time": "2021-08-23T05:26:07.581599",
     "status": "completed"
    },
    "tags": []
   },
   "outputs": [
    {
     "name": "stdout",
     "output_type": "stream",
     "text": [
      "[208500. 181500. 223500. 140000. 250000.]\n",
      "0    208500\n",
      "1    181500\n",
      "2    223500\n",
      "3    140000\n",
      "4    250000\n",
      "Name: SalePrice, dtype: int64\n"
     ]
    }
   ],
   "source": [
    "# You can write code in this cell\n",
    "print(predictions[:5])\n",
    "print(y.head())"
   ]
  },
  {
   "cell_type": "markdown",
   "id": "df506f43",
   "metadata": {
    "papermill": {
     "duration": 0.024977,
     "end_time": "2021-08-23T05:26:07.668783",
     "exception": false,
     "start_time": "2021-08-23T05:26:07.643806",
     "status": "completed"
    },
    "tags": []
   },
   "source": [
    "It's natural to ask how accurate the model's predictions will be and how you can improve that. That will be you're next step.\n",
    "\n",
    "# Keep Going\n",
    "\n",
    "You are ready for **[Model Validation](https://www.kaggle.com/dansbecker/model-validation).**\n"
   ]
  },
  {
   "cell_type": "markdown",
   "id": "fd5fc0f8",
   "metadata": {
    "papermill": {
     "duration": 0.024759,
     "end_time": "2021-08-23T05:26:07.718629",
     "exception": false,
     "start_time": "2021-08-23T05:26:07.693870",
     "status": "completed"
    },
    "tags": []
   },
   "source": [
    "---\n",
    "\n",
    "\n",
    "\n",
    "\n",
    "*Have questions or comments? Visit the [Learn Discussion forum](https://www.kaggle.com/learn-forum/161285) to chat with other Learners.*"
   ]
  }
 ],
 "metadata": {
  "kernelspec": {
   "display_name": "Python 3",
   "language": "python",
   "name": "python3"
  },
  "language_info": {
   "codemirror_mode": {
    "name": "ipython",
    "version": 3
   },
   "file_extension": ".py",
   "mimetype": "text/x-python",
   "name": "python",
   "nbconvert_exporter": "python",
   "pygments_lexer": "ipython3",
   "version": "3.7.10"
  },
  "papermill": {
   "default_parameters": {},
   "duration": 12.918193,
   "end_time": "2021-08-23T05:26:09.299250",
   "environment_variables": {},
   "exception": null,
   "input_path": "__notebook__.ipynb",
   "output_path": "__notebook__.ipynb",
   "parameters": {},
   "start_time": "2021-08-23T05:25:56.381057",
   "version": "2.3.3"
  }
 },
 "nbformat": 4,
 "nbformat_minor": 5
}
