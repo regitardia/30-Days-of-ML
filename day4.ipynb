{
 "cells": [
  {
   "cell_type": "markdown",
   "id": "0eecd2a0",
   "metadata": {
    "papermill": {
     "duration": 0.028246,
     "end_time": "2021-08-09T17:15:33.263539",
     "exception": false,
     "start_time": "2021-08-09T17:15:33.235293",
     "status": "completed"
    },
    "tags": []
   },
   "source": [
    "**This notebook is an exercise in the [Python](https://www.kaggle.com/learn/python) course.  You can reference the tutorial at [this link](https://www.kaggle.com/colinmorris/booleans-and-conditionals).**\n",
    "\n",
    "---\n"
   ]
  },
  {
   "cell_type": "markdown",
   "id": "e4e045c8",
   "metadata": {
    "papermill": {
     "duration": 0.020648,
     "end_time": "2021-08-09T17:15:33.307807",
     "exception": false,
     "start_time": "2021-08-09T17:15:33.287159",
     "status": "completed"
    },
    "tags": []
   },
   "source": [
    "In this exercise, you'll put to work what you have learned about booleans and conditionals.\n",
    "\n",
    "To get started, **run the setup code below** before writing your own code (and if you leave this notebook and come back later, don't forget to run the setup code again)."
   ]
  },
  {
   "cell_type": "code",
   "execution_count": 1,
   "id": "95544ff5",
   "metadata": {
    "execution": {
     "iopub.execute_input": "2021-08-09T17:15:33.354966Z",
     "iopub.status.busy": "2021-08-09T17:15:33.353347Z",
     "iopub.status.idle": "2021-08-09T17:15:33.480391Z",
     "shell.execute_reply": "2021-08-09T17:15:33.481112Z",
     "shell.execute_reply.started": "2021-08-09T16:40:51.950854Z"
    },
    "papermill": {
     "duration": 0.15289,
     "end_time": "2021-08-09T17:15:33.481505",
     "exception": false,
     "start_time": "2021-08-09T17:15:33.328615",
     "status": "completed"
    },
    "tags": []
   },
   "outputs": [
    {
     "name": "stdout",
     "output_type": "stream",
     "text": [
      "Setup complete.\n"
     ]
    }
   ],
   "source": [
    "from learntools.core import binder; binder.bind(globals())\n",
    "from learntools.python.ex3 import *\n",
    "print('Setup complete.')"
   ]
  },
  {
   "cell_type": "markdown",
   "id": "073298d5",
   "metadata": {
    "papermill": {
     "duration": 0.020859,
     "end_time": "2021-08-09T17:15:33.529482",
     "exception": false,
     "start_time": "2021-08-09T17:15:33.508623",
     "status": "completed"
    },
    "tags": []
   },
   "source": [
    "# 1.\n",
    "\n",
    "Many programming languages have [`sign`](https://en.wikipedia.org/wiki/Sign_function) available as a built-in function. Python doesn't, but we can define our own!\n",
    "\n",
    "In the cell below, define a function called `sign` which takes a numerical argument and returns -1 if it's negative, 1 if it's positive, and 0 if it's 0."
   ]
  },
  {
   "cell_type": "code",
   "execution_count": 2,
   "id": "edbae0c4",
   "metadata": {
    "execution": {
     "iopub.execute_input": "2021-08-09T17:15:33.575298Z",
     "iopub.status.busy": "2021-08-09T17:15:33.574392Z",
     "iopub.status.idle": "2021-08-09T17:15:33.583989Z",
     "shell.execute_reply": "2021-08-09T17:15:33.584553Z",
     "shell.execute_reply.started": "2021-08-09T16:40:56.632805Z"
    },
    "papermill": {
     "duration": 0.03412,
     "end_time": "2021-08-09T17:15:33.584707",
     "exception": false,
     "start_time": "2021-08-09T17:15:33.550587",
     "status": "completed"
    },
    "tags": []
   },
   "outputs": [
    {
     "data": {
      "application/javascript": [
       "parent.postMessage({\"jupyterEvent\": \"custom.exercise_interaction\", \"data\": {\"outcomeType\": 1, \"valueTowardsCompletion\": 0.2, \"interactionType\": 1, \"questionType\": 2, \"questionId\": \"1_SignFunctionProblem\", \"learnToolsVersion\": \"0.3.4\", \"failureMessage\": \"\", \"exceptionClass\": \"\", \"trace\": \"\"}}, \"*\")"
      ],
      "text/plain": [
       "<IPython.core.display.Javascript object>"
      ]
     },
     "metadata": {},
     "output_type": "display_data"
    },
    {
     "data": {
      "text/markdown": [
       "<span style=\"color:#33cc33\">Correct</span>"
      ],
      "text/plain": [
       "Correct"
      ]
     },
     "metadata": {},
     "output_type": "display_data"
    }
   ],
   "source": [
    "# Your code goes here. Define a function called 'sign'\n",
    "def sign(number):\n",
    "    if number < 0:\n",
    "        return -1\n",
    "    elif number > 0:\n",
    "        return 1\n",
    "    else:\n",
    "        return 0\n",
    "    \n",
    "# Check your answer\n",
    "q1.check()"
   ]
  },
  {
   "cell_type": "code",
   "execution_count": 3,
   "id": "9bebc0da",
   "metadata": {
    "execution": {
     "iopub.execute_input": "2021-08-09T17:15:33.634993Z",
     "iopub.status.busy": "2021-08-09T17:15:33.634433Z",
     "iopub.status.idle": "2021-08-09T17:15:33.640880Z",
     "shell.execute_reply": "2021-08-09T17:15:33.641446Z",
     "shell.execute_reply.started": "2021-08-09T16:41:03.190093Z"
    },
    "papermill": {
     "duration": 0.034944,
     "end_time": "2021-08-09T17:15:33.641599",
     "exception": false,
     "start_time": "2021-08-09T17:15:33.606655",
     "status": "completed"
    },
    "tags": []
   },
   "outputs": [
    {
     "data": {
      "application/javascript": [
       "parent.postMessage({\"jupyterEvent\": \"custom.exercise_interaction\", \"data\": {\"interactionType\": 3, \"questionType\": 2, \"questionId\": \"1_SignFunctionProblem\", \"learnToolsVersion\": \"0.3.4\", \"valueTowardsCompletion\": 0.0, \"failureMessage\": \"\", \"exceptionClass\": \"\", \"trace\": \"\", \"outcomeType\": 4}}, \"*\")"
      ],
      "text/plain": [
       "<IPython.core.display.Javascript object>"
      ]
     },
     "metadata": {},
     "output_type": "display_data"
    },
    {
     "data": {
      "text/markdown": [
       "<span style=\"color:#33cc99\">Solution:</span> \n",
       "```python\n",
       "def sign(x):\n",
       "    if x > 0:\n",
       "        return 1\n",
       "    elif x < 0:\n",
       "        return -1\n",
       "    else:\n",
       "        return 0\n",
       "```"
      ],
      "text/plain": [
       "Solution: \n",
       "```python\n",
       "def sign(x):\n",
       "    if x > 0:\n",
       "        return 1\n",
       "    elif x < 0:\n",
       "        return -1\n",
       "    else:\n",
       "        return 0\n",
       "```"
      ]
     },
     "metadata": {},
     "output_type": "display_data"
    }
   ],
   "source": [
    "q1.solution()"
   ]
  },
  {
   "cell_type": "markdown",
   "id": "f58a3734",
   "metadata": {
    "papermill": {
     "duration": 0.023121,
     "end_time": "2021-08-09T17:15:33.687118",
     "exception": false,
     "start_time": "2021-08-09T17:15:33.663997",
     "status": "completed"
    },
    "tags": []
   },
   "source": [
    "# 2.\n",
    "\n",
    "We've decided to add \"logging\" to our `to_smash` function from the previous exercise."
   ]
  },
  {
   "cell_type": "code",
   "execution_count": 4,
   "id": "0f369787",
   "metadata": {
    "execution": {
     "iopub.execute_input": "2021-08-09T17:15:33.734914Z",
     "iopub.status.busy": "2021-08-09T17:15:33.734366Z",
     "iopub.status.idle": "2021-08-09T17:15:33.740929Z",
     "shell.execute_reply": "2021-08-09T17:15:33.741370Z",
     "shell.execute_reply.started": "2021-08-09T16:41:55.746816Z"
    },
    "papermill": {
     "duration": 0.031875,
     "end_time": "2021-08-09T17:15:33.741515",
     "exception": false,
     "start_time": "2021-08-09T17:15:33.709640",
     "status": "completed"
    },
    "tags": []
   },
   "outputs": [
    {
     "name": "stdout",
     "output_type": "stream",
     "text": [
      "Splitting 91 candies\n"
     ]
    },
    {
     "data": {
      "text/plain": [
       "1"
      ]
     },
     "execution_count": 4,
     "metadata": {},
     "output_type": "execute_result"
    }
   ],
   "source": [
    "def to_smash(total_candies):\n",
    "    \"\"\"Return the number of leftover candies that must be smashed after distributing\n",
    "    the given number of candies evenly between 3 friends.\n",
    "    \n",
    "    >>> to_smash(91)\n",
    "    1\n",
    "    \"\"\"\n",
    "    print(\"Splitting\", total_candies, \"candies\")\n",
    "    return total_candies % 3\n",
    "\n",
    "to_smash(91)"
   ]
  },
  {
   "cell_type": "markdown",
   "id": "d0b24171",
   "metadata": {
    "papermill": {
     "duration": 0.023513,
     "end_time": "2021-08-09T17:15:33.787932",
     "exception": false,
     "start_time": "2021-08-09T17:15:33.764419",
     "status": "completed"
    },
    "tags": []
   },
   "source": [
    "What happens if we call it with `total_candies = 1`?"
   ]
  },
  {
   "cell_type": "code",
   "execution_count": 5,
   "id": "55ebfe6c",
   "metadata": {
    "execution": {
     "iopub.execute_input": "2021-08-09T17:15:33.838265Z",
     "iopub.status.busy": "2021-08-09T17:15:33.837692Z",
     "iopub.status.idle": "2021-08-09T17:15:33.841154Z",
     "shell.execute_reply": "2021-08-09T17:15:33.841576Z",
     "shell.execute_reply.started": "2021-08-09T16:42:11.578607Z"
    },
    "papermill": {
     "duration": 0.031049,
     "end_time": "2021-08-09T17:15:33.841714",
     "exception": false,
     "start_time": "2021-08-09T17:15:33.810665",
     "status": "completed"
    },
    "tags": []
   },
   "outputs": [
    {
     "name": "stdout",
     "output_type": "stream",
     "text": [
      "Splitting 1 candies\n"
     ]
    },
    {
     "data": {
      "text/plain": [
       "1"
      ]
     },
     "execution_count": 5,
     "metadata": {},
     "output_type": "execute_result"
    }
   ],
   "source": [
    "to_smash(1)"
   ]
  },
  {
   "cell_type": "markdown",
   "id": "a9c056fe",
   "metadata": {
    "papermill": {
     "duration": 0.023283,
     "end_time": "2021-08-09T17:15:33.888871",
     "exception": false,
     "start_time": "2021-08-09T17:15:33.865588",
     "status": "completed"
    },
    "tags": []
   },
   "source": [
    "That isn't great grammar!\n",
    "\n",
    "Modify the definition in the cell below to correct the grammar of our print statement. (If there's only one candy, we should use the singular \"candy\" instead of the plural \"candies\")"
   ]
  },
  {
   "cell_type": "code",
   "execution_count": 6,
   "id": "4afa8e64",
   "metadata": {
    "execution": {
     "iopub.execute_input": "2021-08-09T17:15:33.938914Z",
     "iopub.status.busy": "2021-08-09T17:15:33.938379Z",
     "iopub.status.idle": "2021-08-09T17:15:33.946467Z",
     "shell.execute_reply": "2021-08-09T17:15:33.946014Z",
     "shell.execute_reply.started": "2021-08-09T16:45:24.044089Z"
    },
    "papermill": {
     "duration": 0.033956,
     "end_time": "2021-08-09T17:15:33.946594",
     "exception": false,
     "start_time": "2021-08-09T17:15:33.912638",
     "status": "completed"
    },
    "tags": []
   },
   "outputs": [
    {
     "name": "stdout",
     "output_type": "stream",
     "text": [
      "Splitting 91 candies\n",
      "Splitting 1 candy\n"
     ]
    },
    {
     "data": {
      "text/plain": [
       "1"
      ]
     },
     "execution_count": 6,
     "metadata": {},
     "output_type": "execute_result"
    }
   ],
   "source": [
    "def to_smash(total_candies):\n",
    "    \"\"\"Return the number of leftover candies that must be smashed after distributing\n",
    "    the given number of candies evenly between 3 friends.\n",
    "    \n",
    "    >>> to_smash(91)\n",
    "    1\n",
    "    \"\"\"\n",
    "    if total_candies == 1:\n",
    "        print(\"Splitting\", total_candies, \"candy\")\n",
    "    else:\n",
    "        print(\"Splitting\", total_candies, \"candies\")\n",
    "    return total_candies % 3\n",
    "\n",
    "to_smash(91)\n",
    "to_smash(1)"
   ]
  },
  {
   "cell_type": "markdown",
   "id": "2ee34a93",
   "metadata": {
    "papermill": {
     "duration": 0.023712,
     "end_time": "2021-08-09T17:15:33.994623",
     "exception": false,
     "start_time": "2021-08-09T17:15:33.970911",
     "status": "completed"
    },
    "tags": []
   },
   "source": [
    "To get credit for completing this problem, and to see the official answer, run the code cell below."
   ]
  },
  {
   "cell_type": "code",
   "execution_count": 7,
   "id": "89c51763",
   "metadata": {
    "execution": {
     "iopub.execute_input": "2021-08-09T17:15:34.048145Z",
     "iopub.status.busy": "2021-08-09T17:15:34.047541Z",
     "iopub.status.idle": "2021-08-09T17:15:34.052543Z",
     "shell.execute_reply": "2021-08-09T17:15:34.052096Z",
     "shell.execute_reply.started": "2021-08-09T16:46:52.559234Z"
    },
    "papermill": {
     "duration": 0.033596,
     "end_time": "2021-08-09T17:15:34.052676",
     "exception": false,
     "start_time": "2021-08-09T17:15:34.019080",
     "status": "completed"
    },
    "tags": []
   },
   "outputs": [
    {
     "data": {
      "application/javascript": [
       "parent.postMessage({\"jupyterEvent\": \"custom.exercise_interaction\", \"data\": {\"interactionType\": 3, \"questionType\": 4, \"questionId\": \"2_PluralizationProblem\", \"learnToolsVersion\": \"0.3.4\", \"valueTowardsCompletion\": 0.0, \"failureMessage\": \"\", \"exceptionClass\": \"\", \"trace\": \"\", \"outcomeType\": 4}}, \"*\")"
      ],
      "text/plain": [
       "<IPython.core.display.Javascript object>"
      ]
     },
     "metadata": {},
     "output_type": "display_data"
    },
    {
     "data": {
      "text/markdown": [
       "<span style=\"color:#33cc99\">Solution:</span> A straightforward (and totally fine) solution is to replace the original `print` call with:\n",
       "\n",
       "```python\n",
       "if total_candies == 1:\n",
       "    print(\"Splitting 1 candy\")\n",
       "else:\n",
       "    print(\"Splitting\", total_candies, \"candies\")\n",
       "```\n",
       "\n",
       "Here's a slightly more succinct solution using a conditional expression:\n",
       "\n",
       "```python\n",
       "print(\"Splitting\", total_candies, \"candy\" if total_candies == 1 else \"candies\")\n",
       "```"
      ],
      "text/plain": [
       "Solution: A straightforward (and totally fine) solution is to replace the original `print` call with:\n",
       "\n",
       "```python\n",
       "if total_candies == 1:\n",
       "    print(\"Splitting 1 candy\")\n",
       "else:\n",
       "    print(\"Splitting\", total_candies, \"candies\")\n",
       "```\n",
       "\n",
       "Here's a slightly more succinct solution using a conditional expression:\n",
       "\n",
       "```python\n",
       "print(\"Splitting\", total_candies, \"candy\" if total_candies == 1 else \"candies\")\n",
       "```"
      ]
     },
     "metadata": {},
     "output_type": "display_data"
    }
   ],
   "source": [
    "# Check your answer (Run this code cell to receive credit!)\n",
    "q2.solution()"
   ]
  },
  {
   "cell_type": "markdown",
   "id": "70eb1c3b",
   "metadata": {
    "papermill": {
     "duration": 0.0246,
     "end_time": "2021-08-09T17:15:34.102103",
     "exception": false,
     "start_time": "2021-08-09T17:15:34.077503",
     "status": "completed"
    },
    "tags": []
   },
   "source": [
    "# 3. <span title=\"A bit spicy\" style=\"color: darkgreen \">🌶️</span>\n",
    "\n",
    "In the tutorial, we talked about deciding whether we're prepared for the weather. I said that I'm safe from today's weather if...\n",
    "- I have an umbrella...\n",
    "- or if the rain isn't too heavy and I have a hood...\n",
    "- otherwise, I'm still fine unless it's raining *and* it's a workday\n",
    "\n",
    "The function below uses our first attempt at turning this logic into a Python expression. I claimed that there was a bug in that code. Can you find it?\n",
    "\n",
    "To prove that `prepared_for_weather` is buggy, come up with a set of inputs where either:\n",
    "- the function returns `False` (but should have returned `True`), or\n",
    "- the function returned `True` (but should have returned `False`).\n",
    "\n",
    "To get credit for completing this question, your code should return a <font color='#33cc33'>Correct</font> result."
   ]
  },
  {
   "cell_type": "code",
   "execution_count": 8,
   "id": "d9308ef5",
   "metadata": {
    "execution": {
     "iopub.execute_input": "2021-08-09T17:15:34.158560Z",
     "iopub.status.busy": "2021-08-09T17:15:34.157650Z",
     "iopub.status.idle": "2021-08-09T17:15:34.163975Z",
     "shell.execute_reply": "2021-08-09T17:15:34.164442Z",
     "shell.execute_reply.started": "2021-08-09T16:50:21.169285Z"
    },
    "papermill": {
     "duration": 0.037615,
     "end_time": "2021-08-09T17:15:34.164598",
     "exception": false,
     "start_time": "2021-08-09T17:15:34.126983",
     "status": "completed"
    },
    "tags": []
   },
   "outputs": [
    {
     "name": "stdout",
     "output_type": "stream",
     "text": [
      "False\n"
     ]
    },
    {
     "data": {
      "application/javascript": [
       "parent.postMessage({\"jupyterEvent\": \"custom.exercise_interaction\", \"data\": {\"outcomeType\": 1, \"valueTowardsCompletion\": 0.2, \"interactionType\": 1, \"questionType\": 1, \"questionId\": \"3_WeatherDebug\", \"learnToolsVersion\": \"0.3.4\", \"failureMessage\": \"\", \"exceptionClass\": \"\", \"trace\": \"\"}}, \"*\")"
      ],
      "text/plain": [
       "<IPython.core.display.Javascript object>"
      ]
     },
     "metadata": {},
     "output_type": "display_data"
    },
    {
     "data": {
      "text/markdown": [
       "<span style=\"color:#33cc33\">Correct:</span> \n",
       "\n",
       "One example of a failing test case is:\n",
       "\n",
       "```python\n",
       "have_umbrella = False\n",
       "rain_level = 0.0\n",
       "have_hood = False\n",
       "is_workday = False\n",
       "```\n",
       "\n",
       "Clearly we're prepared for the weather in this case. It's not raining. Not only that, it's not a workday, so we don't even need to leave the house! But our function will return False on these inputs.\n",
       "\n",
       "The key problem is that Python implictly parenthesizes the last part as:\n",
       "\n",
       "```python\n",
       "(not (rain_level > 0)) and is_workday\n",
       "```\n",
       "\n",
       "Whereas what we were trying to express would look more like:\n",
       "\n",
       "```python\n",
       "not (rain_level > 0 and is_workday)\n",
       "```\n"
      ],
      "text/plain": [
       "Correct: \n",
       "\n",
       "One example of a failing test case is:\n",
       "\n",
       "```python\n",
       "have_umbrella = False\n",
       "rain_level = 0.0\n",
       "have_hood = False\n",
       "is_workday = False\n",
       "```\n",
       "\n",
       "Clearly we're prepared for the weather in this case. It's not raining. Not only that, it's not a workday, so we don't even need to leave the house! But our function will return False on these inputs.\n",
       "\n",
       "The key problem is that Python implictly parenthesizes the last part as:\n",
       "\n",
       "```python\n",
       "(not (rain_level > 0)) and is_workday\n",
       "```\n",
       "\n",
       "Whereas what we were trying to express would look more like:\n",
       "\n",
       "```python\n",
       "not (rain_level > 0 and is_workday)\n",
       "```"
      ]
     },
     "metadata": {},
     "output_type": "display_data"
    }
   ],
   "source": [
    "def prepared_for_weather(have_umbrella, rain_level, have_hood, is_workday):\n",
    "    # Don't change this code. Our goal is just to find the bug, not fix it!\n",
    "    return have_umbrella or rain_level < 5 and have_hood or not rain_level > 0 and is_workday\n",
    "\n",
    "# Change the values of these inputs so they represent a case where prepared_for_weather\n",
    "# returns the wrong answer.\n",
    "have_umbrella = False\n",
    "rain_level = 0.0\n",
    "have_hood = False\n",
    "is_workday = False\n",
    "\n",
    "# Check what the function returns given the current values of the variables above\n",
    "actual = prepared_for_weather(have_umbrella, rain_level, have_hood, is_workday)\n",
    "print(actual)\n",
    "\n",
    "# Check your answer\n",
    "q3.check()"
   ]
  },
  {
   "cell_type": "code",
   "execution_count": 9,
   "id": "9129c1ff",
   "metadata": {
    "execution": {
     "iopub.execute_input": "2021-08-09T17:15:34.219627Z",
     "iopub.status.busy": "2021-08-09T17:15:34.219037Z",
     "iopub.status.idle": "2021-08-09T17:15:34.226855Z",
     "shell.execute_reply": "2021-08-09T17:15:34.226433Z",
     "shell.execute_reply.started": "2021-08-09T16:50:29.953873Z"
    },
    "papermill": {
     "duration": 0.03626,
     "end_time": "2021-08-09T17:15:34.226980",
     "exception": false,
     "start_time": "2021-08-09T17:15:34.190720",
     "status": "completed"
    },
    "tags": []
   },
   "outputs": [
    {
     "data": {
      "application/javascript": [
       "parent.postMessage({\"jupyterEvent\": \"custom.exercise_interaction\", \"data\": {\"interactionType\": 3, \"questionType\": 1, \"questionId\": \"3_WeatherDebug\", \"learnToolsVersion\": \"0.3.4\", \"valueTowardsCompletion\": 0.0, \"failureMessage\": \"\", \"exceptionClass\": \"\", \"trace\": \"\", \"outcomeType\": 4}}, \"*\")"
      ],
      "text/plain": [
       "<IPython.core.display.Javascript object>"
      ]
     },
     "metadata": {},
     "output_type": "display_data"
    },
    {
     "data": {
      "text/markdown": [
       "<span style=\"color:#33cc99\">Solution:</span> One example of a failing test case is:\n",
       "\n",
       "```python\n",
       "have_umbrella = False\n",
       "rain_level = 0.0\n",
       "have_hood = False\n",
       "is_workday = False\n",
       "```\n",
       "\n",
       "Clearly we're prepared for the weather in this case. It's not raining. Not only that, it's not a workday, so we don't even need to leave the house! But our function will return False on these inputs.\n",
       "\n",
       "The key problem is that Python implictly parenthesizes the last part as:\n",
       "\n",
       "```python\n",
       "(not (rain_level > 0)) and is_workday\n",
       "```\n",
       "\n",
       "Whereas what we were trying to express would look more like:\n",
       "\n",
       "```python\n",
       "not (rain_level > 0 and is_workday)\n",
       "```\n"
      ],
      "text/plain": [
       "Solution: One example of a failing test case is:\n",
       "\n",
       "```python\n",
       "have_umbrella = False\n",
       "rain_level = 0.0\n",
       "have_hood = False\n",
       "is_workday = False\n",
       "```\n",
       "\n",
       "Clearly we're prepared for the weather in this case. It's not raining. Not only that, it's not a workday, so we don't even need to leave the house! But our function will return False on these inputs.\n",
       "\n",
       "The key problem is that Python implictly parenthesizes the last part as:\n",
       "\n",
       "```python\n",
       "(not (rain_level > 0)) and is_workday\n",
       "```\n",
       "\n",
       "Whereas what we were trying to express would look more like:\n",
       "\n",
       "```python\n",
       "not (rain_level > 0 and is_workday)\n",
       "```"
      ]
     },
     "metadata": {},
     "output_type": "display_data"
    }
   ],
   "source": [
    "#q3.hint()\n",
    "q3.solution()"
   ]
  },
  {
   "cell_type": "markdown",
   "id": "23916e22",
   "metadata": {
    "papermill": {
     "duration": 0.02632,
     "end_time": "2021-08-09T17:15:34.280003",
     "exception": false,
     "start_time": "2021-08-09T17:15:34.253683",
     "status": "completed"
    },
    "tags": []
   },
   "source": [
    "# 4.\n",
    "\n",
    "The function `is_negative` below is implemented correctly - it returns True if the given number is negative and False otherwise.\n",
    "\n",
    "However, it's more verbose than it needs to be. We can actually reduce the number of lines of code in this function by *75%* while keeping the same behaviour. \n",
    "\n",
    "See if you can come up with an equivalent body that uses just **one line** of code, and put it in the function `concise_is_negative`. (HINT: you don't even need Python's ternary syntax)"
   ]
  },
  {
   "cell_type": "code",
   "execution_count": 10,
   "id": "a9aadc29",
   "metadata": {
    "execution": {
     "iopub.execute_input": "2021-08-09T17:15:34.338218Z",
     "iopub.status.busy": "2021-08-09T17:15:34.337603Z",
     "iopub.status.idle": "2021-08-09T17:15:34.342089Z",
     "shell.execute_reply": "2021-08-09T17:15:34.341643Z",
     "shell.execute_reply.started": "2021-08-09T16:53:37.433640Z"
    },
    "papermill": {
     "duration": 0.035633,
     "end_time": "2021-08-09T17:15:34.342217",
     "exception": false,
     "start_time": "2021-08-09T17:15:34.306584",
     "status": "completed"
    },
    "tags": []
   },
   "outputs": [
    {
     "data": {
      "application/javascript": [
       "parent.postMessage({\"jupyterEvent\": \"custom.exercise_interaction\", \"data\": {\"outcomeType\": 1, \"valueTowardsCompletion\": 0.2, \"interactionType\": 1, \"questionType\": 2, \"questionId\": \"4_ConciseIsNegative\", \"learnToolsVersion\": \"0.3.4\", \"failureMessage\": \"\", \"exceptionClass\": \"\", \"trace\": \"\"}}, \"*\")"
      ],
      "text/plain": [
       "<IPython.core.display.Javascript object>"
      ]
     },
     "metadata": {},
     "output_type": "display_data"
    },
    {
     "data": {
      "text/markdown": [
       "<span style=\"color:#33cc33\">Correct</span>"
      ],
      "text/plain": [
       "Correct"
      ]
     },
     "metadata": {},
     "output_type": "display_data"
    }
   ],
   "source": [
    "def is_negative(number):\n",
    "    if number < 0:\n",
    "        return True\n",
    "    else:\n",
    "        return False\n",
    "\n",
    "def concise_is_negative(number):\n",
    "    return number < 0 # Your code goes here (try to keep it to one line!)\n",
    "\n",
    "# Check your answer\n",
    "q4.check()"
   ]
  },
  {
   "cell_type": "code",
   "execution_count": 11,
   "id": "85a5e141",
   "metadata": {
    "execution": {
     "iopub.execute_input": "2021-08-09T17:15:34.401738Z",
     "iopub.status.busy": "2021-08-09T17:15:34.401154Z",
     "iopub.status.idle": "2021-08-09T17:15:34.405073Z",
     "shell.execute_reply": "2021-08-09T17:15:34.405547Z",
     "shell.execute_reply.started": "2021-08-09T16:53:47.753898Z"
    },
    "papermill": {
     "duration": 0.035918,
     "end_time": "2021-08-09T17:15:34.405691",
     "exception": false,
     "start_time": "2021-08-09T17:15:34.369773",
     "status": "completed"
    },
    "tags": []
   },
   "outputs": [
    {
     "data": {
      "application/javascript": [
       "parent.postMessage({\"jupyterEvent\": \"custom.exercise_interaction\", \"data\": {\"interactionType\": 3, \"questionType\": 2, \"questionId\": \"4_ConciseIsNegative\", \"learnToolsVersion\": \"0.3.4\", \"valueTowardsCompletion\": 0.0, \"failureMessage\": \"\", \"exceptionClass\": \"\", \"trace\": \"\", \"outcomeType\": 4}}, \"*\")"
      ],
      "text/plain": [
       "<IPython.core.display.Javascript object>"
      ]
     },
     "metadata": {},
     "output_type": "display_data"
    },
    {
     "data": {
      "text/markdown": [
       "<span style=\"color:#33cc99\">Solution:</span> \n",
       "```python\n",
       "return number < 0\n",
       "```"
      ],
      "text/plain": [
       "Solution: \n",
       "```python\n",
       "return number < 0\n",
       "```"
      ]
     },
     "metadata": {},
     "output_type": "display_data"
    }
   ],
   "source": [
    "#q4.hint()\n",
    "q4.solution()"
   ]
  },
  {
   "cell_type": "markdown",
   "id": "5078f954",
   "metadata": {
    "papermill": {
     "duration": 0.028187,
     "end_time": "2021-08-09T17:15:34.462714",
     "exception": false,
     "start_time": "2021-08-09T17:15:34.434527",
     "status": "completed"
    },
    "tags": []
   },
   "source": [
    "# 5a.\n",
    "\n",
    "The boolean variables `ketchup`, `mustard` and `onion` represent whether a customer wants a particular topping on their hot dog. We want to implement a number of boolean functions that correspond to some yes-or-no questions about the customer's order. For example:"
   ]
  },
  {
   "cell_type": "code",
   "execution_count": 12,
   "id": "252f18b6",
   "metadata": {
    "execution": {
     "iopub.execute_input": "2021-08-09T17:15:34.522968Z",
     "iopub.status.busy": "2021-08-09T17:15:34.522294Z",
     "iopub.status.idle": "2021-08-09T17:15:34.526553Z",
     "shell.execute_reply": "2021-08-09T17:15:34.526115Z",
     "shell.execute_reply.started": "2021-08-09T16:53:57.241290Z"
    },
    "papermill": {
     "duration": 0.035496,
     "end_time": "2021-08-09T17:15:34.526682",
     "exception": false,
     "start_time": "2021-08-09T17:15:34.491186",
     "status": "completed"
    },
    "tags": []
   },
   "outputs": [],
   "source": [
    "def onionless(ketchup, mustard, onion):\n",
    "    \"\"\"Return whether the customer doesn't want onions.\n",
    "    \"\"\"\n",
    "    return not onion"
   ]
  },
  {
   "cell_type": "code",
   "execution_count": 13,
   "id": "83c728c5",
   "metadata": {
    "execution": {
     "iopub.execute_input": "2021-08-09T17:15:34.588511Z",
     "iopub.status.busy": "2021-08-09T17:15:34.587773Z",
     "iopub.status.idle": "2021-08-09T17:15:34.593208Z",
     "shell.execute_reply": "2021-08-09T17:15:34.592675Z",
     "shell.execute_reply.started": "2021-08-09T16:55:35.864752Z"
    },
    "papermill": {
     "duration": 0.038151,
     "end_time": "2021-08-09T17:15:34.593333",
     "exception": false,
     "start_time": "2021-08-09T17:15:34.555182",
     "status": "completed"
    },
    "tags": []
   },
   "outputs": [
    {
     "data": {
      "application/javascript": [
       "parent.postMessage({\"jupyterEvent\": \"custom.exercise_interaction\", \"data\": {\"outcomeType\": 1, \"valueTowardsCompletion\": 0.2, \"interactionType\": 1, \"questionType\": 2, \"questionId\": \"5.1_AllToppings\", \"learnToolsVersion\": \"0.3.4\", \"failureMessage\": \"\", \"exceptionClass\": \"\", \"trace\": \"\"}}, \"*\")"
      ],
      "text/plain": [
       "<IPython.core.display.Javascript object>"
      ]
     },
     "metadata": {},
     "output_type": "display_data"
    },
    {
     "data": {
      "text/markdown": [
       "<span style=\"color:#33cc33\">Correct</span>"
      ],
      "text/plain": [
       "Correct"
      ]
     },
     "metadata": {},
     "output_type": "display_data"
    }
   ],
   "source": [
    "def wants_all_toppings(ketchup, mustard, onion):\n",
    "    \"\"\"Return whether the customer wants \"the works\" (all 3 toppings)\n",
    "    \"\"\"\n",
    "    return ketchup and mustard and onion\n",
    "\n",
    "# Check your answer\n",
    "q5.a.check()"
   ]
  },
  {
   "cell_type": "code",
   "execution_count": 14,
   "id": "de0e3b27",
   "metadata": {
    "execution": {
     "iopub.execute_input": "2021-08-09T17:15:34.655778Z",
     "iopub.status.busy": "2021-08-09T17:15:34.655009Z",
     "iopub.status.idle": "2021-08-09T17:15:34.659543Z",
     "shell.execute_reply": "2021-08-09T17:15:34.659961Z",
     "shell.execute_reply.started": "2021-08-09T16:55:43.980322Z"
    },
    "papermill": {
     "duration": 0.037736,
     "end_time": "2021-08-09T17:15:34.660126",
     "exception": false,
     "start_time": "2021-08-09T17:15:34.622390",
     "status": "completed"
    },
    "tags": []
   },
   "outputs": [
    {
     "data": {
      "application/javascript": [
       "parent.postMessage({\"jupyterEvent\": \"custom.exercise_interaction\", \"data\": {\"interactionType\": 3, \"questionType\": 2, \"questionId\": \"5.1_AllToppings\", \"learnToolsVersion\": \"0.3.4\", \"valueTowardsCompletion\": 0.0, \"failureMessage\": \"\", \"exceptionClass\": \"\", \"trace\": \"\", \"outcomeType\": 4}}, \"*\")"
      ],
      "text/plain": [
       "<IPython.core.display.Javascript object>"
      ]
     },
     "metadata": {},
     "output_type": "display_data"
    },
    {
     "data": {
      "text/markdown": [
       "<span style=\"color:#33cc99\">Solution:</span> \n",
       "```python\n",
       "return ketchup and mustard and onion\n",
       "```"
      ],
      "text/plain": [
       "Solution: \n",
       "```python\n",
       "return ketchup and mustard and onion\n",
       "```"
      ]
     },
     "metadata": {},
     "output_type": "display_data"
    }
   ],
   "source": [
    "#q5.a.hint()\n",
    "q5.a.solution()"
   ]
  },
  {
   "cell_type": "markdown",
   "id": "920b1f58",
   "metadata": {
    "papermill": {
     "duration": 0.029328,
     "end_time": "2021-08-09T17:15:34.718960",
     "exception": false,
     "start_time": "2021-08-09T17:15:34.689632",
     "status": "completed"
    },
    "tags": []
   },
   "source": [
    "# 5b.\n",
    "\n",
    "For the next function, fill in the body to match the English description in the docstring. "
   ]
  },
  {
   "cell_type": "code",
   "execution_count": 15,
   "id": "f81d03e9",
   "metadata": {
    "execution": {
     "iopub.execute_input": "2021-08-09T17:15:34.780799Z",
     "iopub.status.busy": "2021-08-09T17:15:34.779927Z",
     "iopub.status.idle": "2021-08-09T17:15:34.787026Z",
     "shell.execute_reply": "2021-08-09T17:15:34.787491Z",
     "shell.execute_reply.started": "2021-08-09T16:56:37.248182Z"
    },
    "papermill": {
     "duration": 0.03941,
     "end_time": "2021-08-09T17:15:34.787642",
     "exception": false,
     "start_time": "2021-08-09T17:15:34.748232",
     "status": "completed"
    },
    "tags": []
   },
   "outputs": [
    {
     "data": {
      "application/javascript": [
       "parent.postMessage({\"jupyterEvent\": \"custom.exercise_interaction\", \"data\": {\"outcomeType\": 1, \"valueTowardsCompletion\": 0.2, \"interactionType\": 1, \"questionType\": 2, \"questionId\": \"5.2_PlainDog\", \"learnToolsVersion\": \"0.3.4\", \"failureMessage\": \"\", \"exceptionClass\": \"\", \"trace\": \"\"}}, \"*\")"
      ],
      "text/plain": [
       "<IPython.core.display.Javascript object>"
      ]
     },
     "metadata": {},
     "output_type": "display_data"
    },
    {
     "data": {
      "text/markdown": [
       "<span style=\"color:#33cc33\">Correct:</span> \n",
       "\n",
       "One solution looks like:\n",
       "```python\n",
       "return not ketchup and not mustard and not onion\n",
       "```\n",
       "\n",
       "We can also [\"factor out\" the nots](https://en.wikipedia.org/wiki/De_Morgan%27s_laws) to get:\n",
       "\n",
       "```python\n",
       "return not (ketchup or mustard or onion)\n",
       "```"
      ],
      "text/plain": [
       "Correct: \n",
       "\n",
       "One solution looks like:\n",
       "```python\n",
       "return not ketchup and not mustard and not onion\n",
       "```\n",
       "\n",
       "We can also [\"factor out\" the nots](https://en.wikipedia.org/wiki/De_Morgan%27s_laws) to get:\n",
       "\n",
       "```python\n",
       "return not (ketchup or mustard or onion)\n",
       "```"
      ]
     },
     "metadata": {},
     "output_type": "display_data"
    }
   ],
   "source": [
    "def wants_plain_hotdog(ketchup, mustard, onion):\n",
    "    \"\"\"Return whether the customer wants a plain hot dog with no toppings.\n",
    "    \"\"\"\n",
    "    return not ketchup and not mustard and not onion\n",
    "\n",
    "# Check your answer\n",
    "q5.b.check()"
   ]
  },
  {
   "cell_type": "code",
   "execution_count": 16,
   "id": "d3b5234c",
   "metadata": {
    "execution": {
     "iopub.execute_input": "2021-08-09T17:15:34.851439Z",
     "iopub.status.busy": "2021-08-09T17:15:34.850554Z",
     "iopub.status.idle": "2021-08-09T17:15:34.856981Z",
     "shell.execute_reply": "2021-08-09T17:15:34.857451Z",
     "shell.execute_reply.started": "2021-08-09T16:56:53.445608Z"
    },
    "papermill": {
     "duration": 0.039969,
     "end_time": "2021-08-09T17:15:34.857610",
     "exception": false,
     "start_time": "2021-08-09T17:15:34.817641",
     "status": "completed"
    },
    "tags": []
   },
   "outputs": [
    {
     "data": {
      "application/javascript": [
       "parent.postMessage({\"jupyterEvent\": \"custom.exercise_interaction\", \"data\": {\"interactionType\": 3, \"questionType\": 2, \"questionId\": \"5.2_PlainDog\", \"learnToolsVersion\": \"0.3.4\", \"valueTowardsCompletion\": 0.0, \"failureMessage\": \"\", \"exceptionClass\": \"\", \"trace\": \"\", \"outcomeType\": 4}}, \"*\")"
      ],
      "text/plain": [
       "<IPython.core.display.Javascript object>"
      ]
     },
     "metadata": {},
     "output_type": "display_data"
    },
    {
     "data": {
      "text/markdown": [
       "<span style=\"color:#33cc99\">Solution:</span> One solution looks like:\n",
       "```python\n",
       "return not ketchup and not mustard and not onion\n",
       "```\n",
       "\n",
       "We can also [\"factor out\" the nots](https://en.wikipedia.org/wiki/De_Morgan%27s_laws) to get:\n",
       "\n",
       "```python\n",
       "return not (ketchup or mustard or onion)\n",
       "```"
      ],
      "text/plain": [
       "Solution: One solution looks like:\n",
       "```python\n",
       "return not ketchup and not mustard and not onion\n",
       "```\n",
       "\n",
       "We can also [\"factor out\" the nots](https://en.wikipedia.org/wiki/De_Morgan%27s_laws) to get:\n",
       "\n",
       "```python\n",
       "return not (ketchup or mustard or onion)\n",
       "```"
      ]
     },
     "metadata": {},
     "output_type": "display_data"
    }
   ],
   "source": [
    "#q5.b.hint()\n",
    "q5.b.solution()"
   ]
  },
  {
   "cell_type": "markdown",
   "id": "fb445bab",
   "metadata": {
    "papermill": {
     "duration": 0.030634,
     "end_time": "2021-08-09T17:15:34.919459",
     "exception": false,
     "start_time": "2021-08-09T17:15:34.888825",
     "status": "completed"
    },
    "tags": []
   },
   "source": [
    "# 5c.\n",
    "\n",
    "You know what to do: for the next function, fill in the body to match the English description in the docstring."
   ]
  },
  {
   "cell_type": "code",
   "execution_count": 17,
   "id": "e24270d4",
   "metadata": {
    "execution": {
     "iopub.execute_input": "2021-08-09T17:15:34.984749Z",
     "iopub.status.busy": "2021-08-09T17:15:34.983857Z",
     "iopub.status.idle": "2021-08-09T17:15:34.991139Z",
     "shell.execute_reply": "2021-08-09T17:15:34.991568Z",
     "shell.execute_reply.started": "2021-08-09T16:57:45.575830Z"
    },
    "papermill": {
     "duration": 0.041132,
     "end_time": "2021-08-09T17:15:34.991718",
     "exception": false,
     "start_time": "2021-08-09T17:15:34.950586",
     "status": "completed"
    },
    "tags": []
   },
   "outputs": [
    {
     "data": {
      "application/javascript": [
       "parent.postMessage({\"jupyterEvent\": \"custom.exercise_interaction\", \"data\": {\"outcomeType\": 1, \"valueTowardsCompletion\": 0.2, \"interactionType\": 1, \"questionType\": 2, \"questionId\": \"5.3_OneSauce\", \"learnToolsVersion\": \"0.3.4\", \"failureMessage\": \"\", \"exceptionClass\": \"\", \"trace\": \"\"}}, \"*\")"
      ],
      "text/plain": [
       "<IPython.core.display.Javascript object>"
      ]
     },
     "metadata": {},
     "output_type": "display_data"
    },
    {
     "data": {
      "text/markdown": [
       "<span style=\"color:#33cc33\">Correct</span>"
      ],
      "text/plain": [
       "Correct"
      ]
     },
     "metadata": {},
     "output_type": "display_data"
    }
   ],
   "source": [
    "def exactly_one_sauce(ketchup, mustard, onion):\n",
    "    \"\"\"Return whether the customer wants either ketchup or mustard, but not both.\n",
    "    (You may be familiar with this operation under the name \"exclusive or\")\n",
    "    \"\"\"\n",
    "    return (ketchup and not mustard) or (mustard and not ketchup)\n",
    "\n",
    "# Check your answer\n",
    "q5.c.check()"
   ]
  },
  {
   "cell_type": "code",
   "execution_count": 18,
   "id": "bed3ae50",
   "metadata": {
    "execution": {
     "iopub.execute_input": "2021-08-09T17:15:35.059386Z",
     "iopub.status.busy": "2021-08-09T17:15:35.058514Z",
     "iopub.status.idle": "2021-08-09T17:15:35.065215Z",
     "shell.execute_reply": "2021-08-09T17:15:35.065644Z",
     "shell.execute_reply.started": "2021-08-09T16:57:49.751795Z"
    },
    "papermill": {
     "duration": 0.042344,
     "end_time": "2021-08-09T17:15:35.065794",
     "exception": false,
     "start_time": "2021-08-09T17:15:35.023450",
     "status": "completed"
    },
    "tags": []
   },
   "outputs": [
    {
     "data": {
      "application/javascript": [
       "parent.postMessage({\"jupyterEvent\": \"custom.exercise_interaction\", \"data\": {\"interactionType\": 3, \"questionType\": 2, \"questionId\": \"5.3_OneSauce\", \"learnToolsVersion\": \"0.3.4\", \"valueTowardsCompletion\": 0.0, \"failureMessage\": \"\", \"exceptionClass\": \"\", \"trace\": \"\", \"outcomeType\": 4}}, \"*\")"
      ],
      "text/plain": [
       "<IPython.core.display.Javascript object>"
      ]
     },
     "metadata": {},
     "output_type": "display_data"
    },
    {
     "data": {
      "text/markdown": [
       "<span style=\"color:#33cc99\">Solution:</span> \n",
       "```python\n",
       "return (ketchup and not mustard) or (mustard and not ketchup)\n",
       "```"
      ],
      "text/plain": [
       "Solution: \n",
       "```python\n",
       "return (ketchup and not mustard) or (mustard and not ketchup)\n",
       "```"
      ]
     },
     "metadata": {},
     "output_type": "display_data"
    }
   ],
   "source": [
    "#q5.c.hint()\n",
    "q5.c.solution()"
   ]
  },
  {
   "cell_type": "markdown",
   "id": "9daffbd1",
   "metadata": {
    "papermill": {
     "duration": 0.032861,
     "end_time": "2021-08-09T17:15:35.131229",
     "exception": false,
     "start_time": "2021-08-09T17:15:35.098368",
     "status": "completed"
    },
    "tags": []
   },
   "source": [
    "# 6. <span title=\"A bit spicy\" style=\"color: darkgreen \">🌶️</span>\n",
    "\n",
    "We’ve seen that calling `bool()` on an integer returns `False` if it’s equal to 0 and `True` otherwise. What happens if we call `int()` on a bool? Try it out in the notebook cell below.\n",
    "\n",
    "Can you take advantage of this to write a succinct function that corresponds to the English sentence \"does the customer want exactly one topping?\"?"
   ]
  },
  {
   "cell_type": "code",
   "execution_count": 19,
   "id": "7e45f7af",
   "metadata": {
    "execution": {
     "iopub.execute_input": "2021-08-09T17:15:35.201949Z",
     "iopub.status.busy": "2021-08-09T17:15:35.201363Z",
     "iopub.status.idle": "2021-08-09T17:15:35.205646Z",
     "shell.execute_reply": "2021-08-09T17:15:35.205120Z",
     "shell.execute_reply.started": "2021-08-09T16:59:46.249632Z"
    },
    "papermill": {
     "duration": 0.041839,
     "end_time": "2021-08-09T17:15:35.205777",
     "exception": false,
     "start_time": "2021-08-09T17:15:35.163938",
     "status": "completed"
    },
    "tags": []
   },
   "outputs": [
    {
     "data": {
      "application/javascript": [
       "parent.postMessage({\"jupyterEvent\": \"custom.exercise_interaction\", \"data\": {\"outcomeType\": 1, \"valueTowardsCompletion\": 0.2, \"interactionType\": 1, \"questionType\": 2, \"questionId\": \"6_OneTopping\", \"learnToolsVersion\": \"0.3.4\", \"failureMessage\": \"\", \"exceptionClass\": \"\", \"trace\": \"\"}}, \"*\")"
      ],
      "text/plain": [
       "<IPython.core.display.Javascript object>"
      ]
     },
     "metadata": {},
     "output_type": "display_data"
    },
    {
     "data": {
      "text/markdown": [
       "<span style=\"color:#33cc33\">Correct:</span> \n",
       "\n",
       "This condition would be pretty complicated to express using just `and`, `or` and `not`, but using boolean-to-integer conversion gives us this short solution:\n",
       "```python\n",
       "return (int(ketchup) + int(mustard) + int(onion)) == 1\n",
       "```\n",
       "\n",
       "Fun fact: we don't technically need to call `int` on the arguments. Just by doing addition with booleans, Python implicitly does the integer conversion. So we could also write...\n",
       "\n",
       "```python\n",
       "return (ketchup + mustard + onion) == 1\n",
       "```"
      ],
      "text/plain": [
       "Correct: \n",
       "\n",
       "This condition would be pretty complicated to express using just `and`, `or` and `not`, but using boolean-to-integer conversion gives us this short solution:\n",
       "```python\n",
       "return (int(ketchup) + int(mustard) + int(onion)) == 1\n",
       "```\n",
       "\n",
       "Fun fact: we don't technically need to call `int` on the arguments. Just by doing addition with booleans, Python implicitly does the integer conversion. So we could also write...\n",
       "\n",
       "```python\n",
       "return (ketchup + mustard + onion) == 1\n",
       "```"
      ]
     },
     "metadata": {},
     "output_type": "display_data"
    }
   ],
   "source": [
    "def exactly_one_topping(ketchup, mustard, onion):\n",
    "    \"\"\"Return whether the customer wants exactly one of the three available toppings\n",
    "    on their hot dog.\n",
    "    \"\"\"\n",
    "    return int(ketchup) + int(mustard) + int(onion) == 1\n",
    "\n",
    "# Check your answer\n",
    "q6.check()"
   ]
  },
  {
   "cell_type": "code",
   "execution_count": 20,
   "id": "1d0618bb",
   "metadata": {
    "execution": {
     "iopub.execute_input": "2021-08-09T17:15:35.278285Z",
     "iopub.status.busy": "2021-08-09T17:15:35.277508Z",
     "iopub.status.idle": "2021-08-09T17:15:35.282420Z",
     "shell.execute_reply": "2021-08-09T17:15:35.282876Z",
     "shell.execute_reply.started": "2021-08-09T17:00:20.754446Z"
    },
    "papermill": {
     "duration": 0.043572,
     "end_time": "2021-08-09T17:15:35.283039",
     "exception": false,
     "start_time": "2021-08-09T17:15:35.239467",
     "status": "completed"
    },
    "tags": []
   },
   "outputs": [
    {
     "data": {
      "application/javascript": [
       "parent.postMessage({\"jupyterEvent\": \"custom.exercise_interaction\", \"data\": {\"interactionType\": 3, \"questionType\": 2, \"questionId\": \"6_OneTopping\", \"learnToolsVersion\": \"0.3.4\", \"valueTowardsCompletion\": 0.0, \"failureMessage\": \"\", \"exceptionClass\": \"\", \"trace\": \"\", \"outcomeType\": 4}}, \"*\")"
      ],
      "text/plain": [
       "<IPython.core.display.Javascript object>"
      ]
     },
     "metadata": {},
     "output_type": "display_data"
    },
    {
     "data": {
      "text/markdown": [
       "<span style=\"color:#33cc99\">Solution:</span> This condition would be pretty complicated to express using just `and`, `or` and `not`, but using boolean-to-integer conversion gives us this short solution:\n",
       "```python\n",
       "return (int(ketchup) + int(mustard) + int(onion)) == 1\n",
       "```\n",
       "\n",
       "Fun fact: we don't technically need to call `int` on the arguments. Just by doing addition with booleans, Python implicitly does the integer conversion. So we could also write...\n",
       "\n",
       "```python\n",
       "return (ketchup + mustard + onion) == 1\n",
       "```"
      ],
      "text/plain": [
       "Solution: This condition would be pretty complicated to express using just `and`, `or` and `not`, but using boolean-to-integer conversion gives us this short solution:\n",
       "```python\n",
       "return (int(ketchup) + int(mustard) + int(onion)) == 1\n",
       "```\n",
       "\n",
       "Fun fact: we don't technically need to call `int` on the arguments. Just by doing addition with booleans, Python implicitly does the integer conversion. So we could also write...\n",
       "\n",
       "```python\n",
       "return (ketchup + mustard + onion) == 1\n",
       "```"
      ]
     },
     "metadata": {},
     "output_type": "display_data"
    }
   ],
   "source": [
    "#q6.hint()\n",
    "q6.solution()"
   ]
  },
  {
   "cell_type": "markdown",
   "id": "63c7ad63",
   "metadata": {
    "papermill": {
     "duration": 0.050657,
     "end_time": "2021-08-09T17:15:35.377510",
     "exception": false,
     "start_time": "2021-08-09T17:15:35.326853",
     "status": "completed"
    },
    "tags": []
   },
   "source": [
    "# 7. <span title=\"A bit spicy\" style=\"color: darkgreen \">🌶️</span> (Optional)\n",
    "\n",
    "In this problem we'll be working with a simplified version of [blackjack](https://en.wikipedia.org/wiki/Blackjack) (aka twenty-one). In this version there is one player (who you'll control) and a dealer. Play proceeds as follows:\n",
    "\n",
    "- The player is dealt two face-up cards. The dealer is dealt one face-up card.\n",
    "- The player may ask to be dealt another card ('hit') as many times as they wish. If the sum of their cards exceeds 21, they lose the round immediately.\n",
    "- The dealer then deals additional cards to himself until either:\n",
    "    - the sum of the dealer's cards exceeds 21, in which case the player wins the round\n",
    "    - the sum of the dealer's cards is greater than or equal to 17. If the player's total is greater than the dealer's, the player wins. Otherwise, the dealer wins (even in case of a tie).\n",
    "    \n",
    "When calculating the sum of cards, Jack, Queen, and King count for 10. Aces can count as 1 or 11 (when referring to a player's \"total\" above, we mean the largest total that can be made without exceeding 21. So e.g. A+8 = 19, A+8+8 = 17)\n",
    "\n",
    "For this problem, you'll write a function representing the player's decision-making strategy in this game. We've provided a very unintelligent implementation below:"
   ]
  },
  {
   "cell_type": "code",
   "execution_count": 21,
   "id": "f6f96ec9",
   "metadata": {
    "execution": {
     "iopub.execute_input": "2021-08-09T17:15:35.449500Z",
     "iopub.status.busy": "2021-08-09T17:15:35.448899Z",
     "iopub.status.idle": "2021-08-09T17:15:35.452676Z",
     "shell.execute_reply": "2021-08-09T17:15:35.453097Z",
     "shell.execute_reply.started": "2021-08-09T17:07:50.584199Z"
    },
    "papermill": {
     "duration": 0.040826,
     "end_time": "2021-08-09T17:15:35.453272",
     "exception": false,
     "start_time": "2021-08-09T17:15:35.412446",
     "status": "completed"
    },
    "tags": []
   },
   "outputs": [],
   "source": [
    "def should_hit(dealer_total, player_total, player_low_aces, player_high_aces):\n",
    "    \"\"\"Return True if the player should hit (request another card) given the current game\n",
    "    state, or False if the player should stay.\n",
    "    When calculating a hand's total value, we count aces as \"high\" (with value 11) if doing so\n",
    "    doesn't bring the total above 21, otherwise we count them as low (with value 1). \n",
    "    For example, if the player's hand is {A, A, A, 7}, we will count it as 11 + 1 + 1 + 7,\n",
    "    and therefore set player_total=20, player_low_aces=2, player_high_aces=1.\n",
    "    \"\"\"\n",
    "    return False"
   ]
  },
  {
   "cell_type": "markdown",
   "id": "2d19773e",
   "metadata": {
    "papermill": {
     "duration": 0.034744,
     "end_time": "2021-08-09T17:15:35.522667",
     "exception": false,
     "start_time": "2021-08-09T17:15:35.487923",
     "status": "completed"
    },
    "tags": []
   },
   "source": [
    "This very conservative agent *always* sticks with the hand of two cards that they're dealt.\n",
    "\n",
    "We'll be simulating games between your player agent and our own dealer agent by calling your function.\n",
    "\n",
    "Try running the function below to see an example of a simulated game:"
   ]
  },
  {
   "cell_type": "code",
   "execution_count": 22,
   "id": "1010d717",
   "metadata": {
    "execution": {
     "iopub.execute_input": "2021-08-09T17:15:35.596196Z",
     "iopub.status.busy": "2021-08-09T17:15:35.595645Z",
     "iopub.status.idle": "2021-08-09T17:15:35.600461Z",
     "shell.execute_reply": "2021-08-09T17:15:35.599889Z",
     "shell.execute_reply.started": "2021-08-09T17:09:29.259089Z"
    },
    "papermill": {
     "duration": 0.043249,
     "end_time": "2021-08-09T17:15:35.600586",
     "exception": false,
     "start_time": "2021-08-09T17:15:35.557337",
     "status": "completed"
    },
    "tags": []
   },
   "outputs": [
    {
     "name": "stdout",
     "output_type": "stream",
     "text": [
      "Player starts with 9 and 4 (total = 13)\n",
      "Dealer starts with 3\n",
      "\n",
      "__Player's turn__\n",
      "Player stays\n",
      "\n",
      "__Dealer's turn__\n",
      "Dealer hits and receives 4. (total = 7)\n",
      "Dealer hits and receives K. (total = 17)\n",
      "Dealer stands.\n",
      "Dealer wins. 17 >= 13\n"
     ]
    }
   ],
   "source": [
    "q7.simulate_one_game()"
   ]
  },
  {
   "cell_type": "markdown",
   "id": "92538716",
   "metadata": {
    "papermill": {
     "duration": 0.033757,
     "end_time": "2021-08-09T17:15:35.668724",
     "exception": false,
     "start_time": "2021-08-09T17:15:35.634967",
     "status": "completed"
    },
    "tags": []
   },
   "source": [
    "The real test of your agent's mettle is their average win rate over many games. Try calling the function below to simulate 50000 games of blackjack (it may take a couple seconds):"
   ]
  },
  {
   "cell_type": "code",
   "execution_count": 23,
   "id": "dc4c62e5",
   "metadata": {
    "execution": {
     "iopub.execute_input": "2021-08-09T17:15:35.777673Z",
     "iopub.status.busy": "2021-08-09T17:15:35.767540Z",
     "iopub.status.idle": "2021-08-09T17:15:37.017621Z",
     "shell.execute_reply": "2021-08-09T17:15:37.018060Z",
     "shell.execute_reply.started": "2021-08-09T17:11:26.091825Z"
    },
    "papermill": {
     "duration": 1.315363,
     "end_time": "2021-08-09T17:15:37.018238",
     "exception": false,
     "start_time": "2021-08-09T17:15:35.702875",
     "status": "completed"
    },
    "tags": []
   },
   "outputs": [
    {
     "name": "stdout",
     "output_type": "stream",
     "text": [
      "Player won 19078 out of 50000 games (win rate = 38.2%)\n"
     ]
    }
   ],
   "source": [
    "q7.simulate(n_games=50000)"
   ]
  },
  {
   "cell_type": "markdown",
   "id": "c34a6b65",
   "metadata": {
    "papermill": {
     "duration": 0.034122,
     "end_time": "2021-08-09T17:15:37.087113",
     "exception": false,
     "start_time": "2021-08-09T17:15:37.052991",
     "status": "completed"
    },
    "tags": []
   },
   "source": [
    "Our dumb agent that completely ignores the game state still manages to win shockingly often!\n",
    "\n",
    "Try adding some more smarts to the `should_hit` function and see how it affects the results."
   ]
  },
  {
   "cell_type": "code",
   "execution_count": 24,
   "id": "6f828515",
   "metadata": {
    "execution": {
     "iopub.execute_input": "2021-08-09T17:15:37.180153Z",
     "iopub.status.busy": "2021-08-09T17:15:37.175116Z",
     "iopub.status.idle": "2021-08-09T17:15:38.540355Z",
     "shell.execute_reply": "2021-08-09T17:15:38.540780Z",
     "shell.execute_reply.started": "2021-08-09T17:15:01.323169Z"
    },
    "papermill": {
     "duration": 1.419068,
     "end_time": "2021-08-09T17:15:38.540933",
     "exception": false,
     "start_time": "2021-08-09T17:15:37.121865",
     "status": "completed"
    },
    "tags": []
   },
   "outputs": [
    {
     "name": "stdout",
     "output_type": "stream",
     "text": [
      "Player won 20893 out of 50000 games (win rate = 41.8%)\n"
     ]
    }
   ],
   "source": [
    "def should_hit(dealer_total, player_total, player_low_aces, player_high_aces):\n",
    "    \"\"\"Return True if the player should hit (request another card) given the current game\n",
    "    state, or False if the player should stay.\n",
    "    When calculating a hand's total value, we count aces as \"high\" (with value 11) if doing so\n",
    "    doesn't bring the total above 21, otherwise we count them as low (with value 1). \n",
    "    For example, if the player's hand is {A, A, A, 7}, we will count it as 11 + 1 + 1 + 7,\n",
    "    and therefore set player_total=20, player_low_aces=2, player_high_aces=1.\n",
    "    \"\"\"\n",
    "    return player_total < 14\n",
    "\n",
    "q7.simulate(n_games=50000)"
   ]
  },
  {
   "cell_type": "markdown",
   "id": "e5e04603",
   "metadata": {
    "papermill": {
     "duration": 0.034835,
     "end_time": "2021-08-09T17:15:38.610449",
     "exception": false,
     "start_time": "2021-08-09T17:15:38.575614",
     "status": "completed"
    },
    "tags": []
   },
   "source": [
    "# Keep Going\n",
    "\n",
    "Learn about **[lists and tuples](https://www.kaggle.com/colinmorris/lists)** to handle multiple items of data in a systematic way."
   ]
  },
  {
   "cell_type": "markdown",
   "id": "040ba5be",
   "metadata": {
    "papermill": {
     "duration": 0.034208,
     "end_time": "2021-08-09T17:15:38.679914",
     "exception": false,
     "start_time": "2021-08-09T17:15:38.645706",
     "status": "completed"
    },
    "tags": []
   },
   "source": [
    "---\n",
    "\n",
    "\n",
    "\n",
    "\n",
    "*Have questions or comments? Visit the [Learn Discussion forum](https://www.kaggle.com/learn-forum/161283) to chat with other Learners.*"
   ]
  }
 ],
 "metadata": {
  "kernelspec": {
   "display_name": "Python 3",
   "language": "python",
   "name": "python3"
  },
  "language_info": {
   "codemirror_mode": {
    "name": "ipython",
    "version": 3
   },
   "file_extension": ".py",
   "mimetype": "text/x-python",
   "name": "python",
   "nbconvert_exporter": "python",
   "pygments_lexer": "ipython3",
   "version": "3.7.10"
  },
  "papermill": {
   "default_parameters": {},
   "duration": 12.406875,
   "end_time": "2021-08-09T17:15:39.222604",
   "environment_variables": {},
   "exception": null,
   "input_path": "__notebook__.ipynb",
   "output_path": "__notebook__.ipynb",
   "parameters": {},
   "start_time": "2021-08-09T17:15:26.815729",
   "version": "2.3.3"
  }
 },
 "nbformat": 4,
 "nbformat_minor": 5
}
